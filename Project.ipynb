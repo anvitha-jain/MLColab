{
  "nbformat": 4,
  "nbformat_minor": 0,
  "metadata": {
    "colab": {
      "name": "Project.ipynb",
      "provenance": [],
      "collapsed_sections": [],
      "machine_shape": "hm",
      "include_colab_link": true
    },
    "kernelspec": {
      "name": "python3",
      "display_name": "Python 3"
    }
  },
  "cells": [
    {
      "cell_type": "markdown",
      "metadata": {
        "id": "view-in-github",
        "colab_type": "text"
      },
      "source": [
        "<a href=\"https://colab.research.google.com/github/anvitha-jain/MLColab/blob/master/Project.ipynb\" target=\"_parent\"><img src=\"https://colab.research.google.com/assets/colab-badge.svg\" alt=\"Open In Colab\"/></a>"
      ]
    },
    {
      "cell_type": "markdown",
      "metadata": {
        "id": "V9r-11kKRPeZ",
        "colab_type": "text"
      },
      "source": [
        "# **CRIME ANALYSIS**"
      ]
    },
    {
      "cell_type": "markdown",
      "metadata": {
        "id": "d7mn2UyURT1n",
        "colab_type": "text"
      },
      "source": [
        "### **Team members**\n",
        "\n",
        "1.   Anvitha SHubhaveer Jain\n",
        "2.   Junteng Tan\n",
        "3.   Sangwon Song\n"
      ]
    },
    {
      "cell_type": "markdown",
      "metadata": {
        "id": "OSh-8CIhoFE1",
        "colab_type": "text"
      },
      "source": [
        "Explain the project. "
      ]
    },
    {
      "cell_type": "markdown",
      "metadata": {
        "id": "cF-BON_BSJaa",
        "colab_type": "text"
      },
      "source": [
        "## **1.**  Configuration of the System : Iterative, Notebook, code structure, data, where will it reside, folders, cloud buckets etc"
      ]
    },
    {
      "cell_type": "markdown",
      "metadata": {
        "id": "rkUPwOHySTS5",
        "colab_type": "text"
      },
      "source": [
        "The analysis in this notebook makes use of 2 data sets are obtained from **Kaggel**(https://www.kaggle.com/datasets).\n",
        "\n",
        "\n",
        "*   The **Crime Data set** is obtained from https://data.sfgov.org/Public-Safety/Police-Department-Incident-Reports-2018-to-Present/wg3w-h783\n",
        "*   The **Housing Data set** is obtained from **multiple listing service santa clara** association of realtors\n",
        "\n"
      ]
    },
    {
      "cell_type": "markdown",
      "metadata": {
        "id": "ehmu902XU7Rv",
        "colab_type": "text"
      },
      "source": [
        "## **2. Data Collection : initial Data Set**"
      ]
    },
    {
      "cell_type": "code",
      "metadata": {
        "id": "Dj4phTK1VbId",
        "colab_type": "code",
        "outputId": "45f456af-a780-407a-a9ac-25981d8cd26b",
        "colab": {
          "base_uri": "https://localhost:8080/",
          "height": 122
        }
      },
      "source": [
        "#data set is stores in the google drive  \n",
        "from google.colab import drive \n",
        "drive.mount('/content/drive')\n"
      ],
      "execution_count": 2,
      "outputs": [
        {
          "output_type": "stream",
          "text": [
            "Go to this URL in a browser: https://accounts.google.com/o/oauth2/auth?client_id=947318989803-6bn6qk8qdgf4n4g3pfee6491hc0brc4i.apps.googleusercontent.com&redirect_uri=urn%3Aietf%3Awg%3Aoauth%3A2.0%3Aoob&scope=email%20https%3A%2F%2Fwww.googleapis.com%2Fauth%2Fdocs.test%20https%3A%2F%2Fwww.googleapis.com%2Fauth%2Fdrive%20https%3A%2F%2Fwww.googleapis.com%2Fauth%2Fdrive.photos.readonly%20https%3A%2F%2Fwww.googleapis.com%2Fauth%2Fpeopleapi.readonly&response_type=code\n",
            "\n",
            "Enter your authorization code:\n",
            "··········\n",
            "Mounted at /content/drive\n"
          ],
          "name": "stdout"
        }
      ]
    },
    {
      "cell_type": "code",
      "metadata": {
        "id": "lrWhBsArWqcH",
        "colab_type": "code",
        "colab": {}
      },
      "source": [
        "# initializing libraries\n",
        "import pandas as pd\n",
        "import numpy as np\n",
        "import matplotlib.pyplot as plt"
      ],
      "execution_count": 0,
      "outputs": []
    },
    {
      "cell_type": "code",
      "metadata": {
        "id": "icfykjQsWwXk",
        "colab_type": "code",
        "outputId": "118f1325-e7df-473e-fbcb-2853821b5ba3",
        "colab": {
          "base_uri": "https://localhost:8080/",
          "height": 51
        }
      },
      "source": [
        "crime_data_file = \"/content/drive/My Drive/MLFall2019/crimerate-seers/Datasets/Police_Department_Incident_Reports__2016_to_Present.csv\"\n",
        "housing_data_file = \"/content/drive/My Drive/MLFall2019/crimerate-seers/Datasets/housing_data.csv\"\n",
        "crime_data = pd.read_csv(crime_data_file)\n",
        "housing_data = pd.read_csv(housing_data_file)\n",
        "\n",
        "print('Crime Data Shape: {}'.format(crime_data.shape))\n",
        "print('Housing Data Shape: {}'.format(housing_data.shape))"
      ],
      "execution_count": 5,
      "outputs": [
        {
          "output_type": "stream",
          "text": [
            "Crime Data Shape: (553649, 12)\n",
            "Housing Data Shape: (1345, 15)\n"
          ],
          "name": "stdout"
        }
      ]
    },
    {
      "cell_type": "markdown",
      "metadata": {
        "id": "uhe0jgXhV4wI",
        "colab_type": "text"
      },
      "source": [
        "## **3. Set Data Narrative : Set Business Objectives, what use case are you solving for**"
      ]
    },
    {
      "cell_type": "markdown",
      "metadata": {
        "id": "zmAGPeXKWAdk",
        "colab_type": "text"
      },
      "source": [
        "###Objective\n",
        "- to use the crime data analysis to see how the crime rate has effects on real estate pricing by combine the housing data (edited) \n",
        "- to check how specific crime like drugs would effect our neighborhood. (edited)"
      ]
    },
    {
      "cell_type": "markdown",
      "metadata": {
        "id": "nF7Og1tIWbDA",
        "colab_type": "text"
      },
      "source": [
        "## **4. Exploratory Data Analysis and Visualization**"
      ]
    },
    {
      "cell_type": "markdown",
      "metadata": {
        "id": "rIrpngEjoQtI",
        "colab_type": "text"
      },
      "source": [
        "### **4.1. feature analysis and engineering (for ML, for DL it's feature extraction)**\n"
      ]
    },
    {
      "cell_type": "code",
      "metadata": {
        "id": "JeRhwGJiSdk0",
        "colab_type": "code",
        "colab": {
          "base_uri": "https://localhost:8080/",
          "height": 306
        },
        "outputId": "427de5c2-6bf6-42c2-fa48-609e37720f1c"
      },
      "source": [
        "crime_data.info()"
      ],
      "execution_count": 6,
      "outputs": [
        {
          "output_type": "stream",
          "text": [
            "<class 'pandas.core.frame.DataFrame'>\n",
            "RangeIndex: 553649 entries, 0 to 553648\n",
            "Data columns (total 12 columns):\n",
            "IncidntNum    553649 non-null int64\n",
            "Category      547915 non-null object\n",
            "Descript      553649 non-null object\n",
            "DayOfWeek     553649 non-null object\n",
            "Date          553649 non-null object\n",
            "Time          553649 non-null object\n",
            "PdDistrict    553648 non-null object\n",
            "Resolution    553649 non-null object\n",
            "Address       553649 non-null object\n",
            "X             553649 non-null float64\n",
            "Y             553649 non-null float64\n",
            "Location      553649 non-null object\n",
            "dtypes: float64(2), int64(1), object(9)\n",
            "memory usage: 50.7+ MB\n"
          ],
          "name": "stdout"
        }
      ]
    },
    {
      "cell_type": "code",
      "metadata": {
        "id": "USg2f_FOSwts",
        "colab_type": "code",
        "colab": {
          "base_uri": "https://localhost:8080/",
          "height": 297
        },
        "outputId": "388ae3f8-e457-46dc-febf-3f8492453d36"
      },
      "source": [
        "crime_data.describe()"
      ],
      "execution_count": 7,
      "outputs": [
        {
          "output_type": "execute_result",
          "data": {
            "text/html": [
              "<div>\n",
              "<style scoped>\n",
              "    .dataframe tbody tr th:only-of-type {\n",
              "        vertical-align: middle;\n",
              "    }\n",
              "\n",
              "    .dataframe tbody tr th {\n",
              "        vertical-align: top;\n",
              "    }\n",
              "\n",
              "    .dataframe thead th {\n",
              "        text-align: right;\n",
              "    }\n",
              "</style>\n",
              "<table border=\"1\" class=\"dataframe\">\n",
              "  <thead>\n",
              "    <tr style=\"text-align: right;\">\n",
              "      <th></th>\n",
              "      <th>IncidntNum</th>\n",
              "      <th>X</th>\n",
              "      <th>Y</th>\n",
              "    </tr>\n",
              "  </thead>\n",
              "  <tbody>\n",
              "    <tr>\n",
              "      <th>count</th>\n",
              "      <td>5.536490e+05</td>\n",
              "      <td>553649.000000</td>\n",
              "      <td>553649.000000</td>\n",
              "    </tr>\n",
              "    <tr>\n",
              "      <th>mean</th>\n",
              "      <td>1.751739e+08</td>\n",
              "      <td>-122.423639</td>\n",
              "      <td>37.769350</td>\n",
              "    </tr>\n",
              "    <tr>\n",
              "      <th>std</th>\n",
              "      <td>1.147764e+07</td>\n",
              "      <td>0.026137</td>\n",
              "      <td>0.023730</td>\n",
              "    </tr>\n",
              "    <tr>\n",
              "      <th>min</th>\n",
              "      <td>1.131000e+06</td>\n",
              "      <td>-122.513642</td>\n",
              "      <td>37.707922</td>\n",
              "    </tr>\n",
              "    <tr>\n",
              "      <th>25%</th>\n",
              "      <td>1.661914e+08</td>\n",
              "      <td>-122.433798</td>\n",
              "      <td>37.756769</td>\n",
              "    </tr>\n",
              "    <tr>\n",
              "      <th>50%</th>\n",
              "      <td>1.760461e+08</td>\n",
              "      <td>-122.417194</td>\n",
              "      <td>37.775422</td>\n",
              "    </tr>\n",
              "    <tr>\n",
              "      <th>75%</th>\n",
              "      <td>1.809073e+08</td>\n",
              "      <td>-122.406945</td>\n",
              "      <td>37.785388</td>\n",
              "    </tr>\n",
              "    <tr>\n",
              "      <th>max</th>\n",
              "      <td>9.910090e+08</td>\n",
              "      <td>-122.363743</td>\n",
              "      <td>37.829991</td>\n",
              "    </tr>\n",
              "  </tbody>\n",
              "</table>\n",
              "</div>"
            ],
            "text/plain": [
              "         IncidntNum              X              Y\n",
              "count  5.536490e+05  553649.000000  553649.000000\n",
              "mean   1.751739e+08    -122.423639      37.769350\n",
              "std    1.147764e+07       0.026137       0.023730\n",
              "min    1.131000e+06    -122.513642      37.707922\n",
              "25%    1.661914e+08    -122.433798      37.756769\n",
              "50%    1.760461e+08    -122.417194      37.775422\n",
              "75%    1.809073e+08    -122.406945      37.785388\n",
              "max    9.910090e+08    -122.363743      37.829991"
            ]
          },
          "metadata": {
            "tags": []
          },
          "execution_count": 7
        }
      ]
    },
    {
      "cell_type": "code",
      "metadata": {
        "colab_type": "code",
        "outputId": "a63fb67f-f145-4e3f-b389-705befebc467",
        "id": "UP2uRUpwSZsl",
        "colab": {
          "base_uri": "https://localhost:8080/",
          "height": 357
        }
      },
      "source": [
        "housing_data.info()"
      ],
      "execution_count": 8,
      "outputs": [
        {
          "output_type": "stream",
          "text": [
            "<class 'pandas.core.frame.DataFrame'>\n",
            "RangeIndex: 1345 entries, 0 to 1344\n",
            "Data columns (total 15 columns):\n",
            "Unnamed: 0           1345 non-null int64\n",
            "S                    1345 non-null object\n",
            "MLS #                1345 non-null object\n",
            "Street Address       1345 non-null object\n",
            "Price                1345 non-null object\n",
            "DOM                  1006 non-null float64\n",
            "Beds Total           1345 non-null int64\n",
            "Bths                 1345 non-null object\n",
            "Sq Ft Total          1331 non-null object\n",
            "Lot Size             1345 non-null object\n",
            "Postal City          1345 non-null object\n",
            "Property Sub Type    1345 non-null object\n",
            "Age                  1345 non-null int64\n",
            "Latitude             1325 non-null float64\n",
            "Longitude            1325 non-null float64\n",
            "dtypes: float64(3), int64(3), object(9)\n",
            "memory usage: 157.7+ KB\n"
          ],
          "name": "stdout"
        }
      ]
    },
    {
      "cell_type": "code",
      "metadata": {
        "id": "Il3TxIEgSDOm",
        "colab_type": "code",
        "outputId": "14acda0f-4f22-404b-9d41-e03f6cb93590",
        "colab": {
          "base_uri": "https://localhost:8080/",
          "height": 297
        }
      },
      "source": [
        "housing_data.describe()"
      ],
      "execution_count": 9,
      "outputs": [
        {
          "output_type": "execute_result",
          "data": {
            "text/html": [
              "<div>\n",
              "<style scoped>\n",
              "    .dataframe tbody tr th:only-of-type {\n",
              "        vertical-align: middle;\n",
              "    }\n",
              "\n",
              "    .dataframe tbody tr th {\n",
              "        vertical-align: top;\n",
              "    }\n",
              "\n",
              "    .dataframe thead th {\n",
              "        text-align: right;\n",
              "    }\n",
              "</style>\n",
              "<table border=\"1\" class=\"dataframe\">\n",
              "  <thead>\n",
              "    <tr style=\"text-align: right;\">\n",
              "      <th></th>\n",
              "      <th>Unnamed: 0</th>\n",
              "      <th>DOM</th>\n",
              "      <th>Beds Total</th>\n",
              "      <th>Age</th>\n",
              "      <th>Latitude</th>\n",
              "      <th>Longitude</th>\n",
              "    </tr>\n",
              "  </thead>\n",
              "  <tbody>\n",
              "    <tr>\n",
              "      <th>count</th>\n",
              "      <td>1345.000000</td>\n",
              "      <td>1006.000000</td>\n",
              "      <td>1345.000000</td>\n",
              "      <td>1345.000000</td>\n",
              "      <td>1325.000000</td>\n",
              "      <td>1325.000000</td>\n",
              "    </tr>\n",
              "    <tr>\n",
              "      <th>mean</th>\n",
              "      <td>443.750929</td>\n",
              "      <td>27.087475</td>\n",
              "      <td>2.634944</td>\n",
              "      <td>65.245353</td>\n",
              "      <td>37.744308</td>\n",
              "      <td>-122.438232</td>\n",
              "    </tr>\n",
              "    <tr>\n",
              "      <th>std</th>\n",
              "      <td>392.538121</td>\n",
              "      <td>30.014860</td>\n",
              "      <td>1.227705</td>\n",
              "      <td>34.699894</td>\n",
              "      <td>0.026208</td>\n",
              "      <td>0.035019</td>\n",
              "    </tr>\n",
              "    <tr>\n",
              "      <th>min</th>\n",
              "      <td>1.000000</td>\n",
              "      <td>0.000000</td>\n",
              "      <td>0.000000</td>\n",
              "      <td>0.000000</td>\n",
              "      <td>37.707817</td>\n",
              "      <td>-122.510285</td>\n",
              "    </tr>\n",
              "    <tr>\n",
              "      <th>25%</th>\n",
              "      <td>1.000000</td>\n",
              "      <td>11.000000</td>\n",
              "      <td>2.000000</td>\n",
              "      <td>36.000000</td>\n",
              "      <td>37.721438</td>\n",
              "      <td>-122.466985</td>\n",
              "    </tr>\n",
              "    <tr>\n",
              "      <th>50%</th>\n",
              "      <td>501.000000</td>\n",
              "      <td>16.000000</td>\n",
              "      <td>2.000000</td>\n",
              "      <td>72.000000</td>\n",
              "      <td>37.738610</td>\n",
              "      <td>-122.435528</td>\n",
              "    </tr>\n",
              "    <tr>\n",
              "      <th>75%</th>\n",
              "      <td>1001.000000</td>\n",
              "      <td>32.000000</td>\n",
              "      <td>3.000000</td>\n",
              "      <td>92.000000</td>\n",
              "      <td>37.763669</td>\n",
              "      <td>-122.408252</td>\n",
              "    </tr>\n",
              "    <tr>\n",
              "      <th>max</th>\n",
              "      <td>1001.000000</td>\n",
              "      <td>266.000000</td>\n",
              "      <td>9.000000</td>\n",
              "      <td>141.000000</td>\n",
              "      <td>37.805888</td>\n",
              "      <td>-122.367022</td>\n",
              "    </tr>\n",
              "  </tbody>\n",
              "</table>\n",
              "</div>"
            ],
            "text/plain": [
              "        Unnamed: 0          DOM  ...     Latitude    Longitude\n",
              "count  1345.000000  1006.000000  ...  1325.000000  1325.000000\n",
              "mean    443.750929    27.087475  ...    37.744308  -122.438232\n",
              "std     392.538121    30.014860  ...     0.026208     0.035019\n",
              "min       1.000000     0.000000  ...    37.707817  -122.510285\n",
              "25%       1.000000    11.000000  ...    37.721438  -122.466985\n",
              "50%     501.000000    16.000000  ...    37.738610  -122.435528\n",
              "75%    1001.000000    32.000000  ...    37.763669  -122.408252\n",
              "max    1001.000000   266.000000  ...    37.805888  -122.367022\n",
              "\n",
              "[8 rows x 6 columns]"
            ]
          },
          "metadata": {
            "tags": []
          },
          "execution_count": 9
        }
      ]
    },
    {
      "cell_type": "markdown",
      "metadata": {
        "id": "zeJKR9uAoQgn",
        "colab_type": "text"
      },
      "source": [
        "### **4.2. Analyze data**\n"
      ]
    },
    {
      "cell_type": "code",
      "metadata": {
        "id": "MGGDxrpmSxV0",
        "colab_type": "code",
        "colab": {
          "base_uri": "https://localhost:8080/",
          "height": 377
        },
        "outputId": "286130b5-f677-4c9f-d3ae-1e6eaf945e2c"
      },
      "source": [
        "crime_data.head()\n"
      ],
      "execution_count": 36,
      "outputs": [
        {
          "output_type": "execute_result",
          "data": {
            "text/html": [
              "<div>\n",
              "<style scoped>\n",
              "    .dataframe tbody tr th:only-of-type {\n",
              "        vertical-align: middle;\n",
              "    }\n",
              "\n",
              "    .dataframe tbody tr th {\n",
              "        vertical-align: top;\n",
              "    }\n",
              "\n",
              "    .dataframe thead th {\n",
              "        text-align: right;\n",
              "    }\n",
              "</style>\n",
              "<table border=\"1\" class=\"dataframe\">\n",
              "  <thead>\n",
              "    <tr style=\"text-align: right;\">\n",
              "      <th></th>\n",
              "      <th>Category</th>\n",
              "      <th>Descript</th>\n",
              "      <th>DayOfWeek</th>\n",
              "      <th>Date</th>\n",
              "      <th>Time</th>\n",
              "      <th>PdDistrict</th>\n",
              "      <th>Resolution</th>\n",
              "      <th>Address</th>\n",
              "      <th>Longitude</th>\n",
              "      <th>Latitude</th>\n",
              "      <th>datetime</th>\n",
              "      <th>Dbscan_label</th>\n",
              "      <th>KmeanLabel</th>\n",
              "      <th>GmmLabel</th>\n",
              "      <th>DayLabel</th>\n",
              "      <th>CategoryLabel</th>\n",
              "      <th>ResolutionLabel</th>\n",
              "      <th>PdDistrictLabel</th>\n",
              "      <th>NewCategoryLabel</th>\n",
              "    </tr>\n",
              "  </thead>\n",
              "  <tbody>\n",
              "    <tr>\n",
              "      <th>0</th>\n",
              "      <td>warrant</td>\n",
              "      <td>Warrant Arrest, Local SF Warrant</td>\n",
              "      <td>Sunday</td>\n",
              "      <td>9/29/19</td>\n",
              "      <td>11:32</td>\n",
              "      <td>ingleside</td>\n",
              "      <td>cite or arrest adult</td>\n",
              "      <td>SUNNYDALE AVE \\ SANTOS ST</td>\n",
              "      <td>-122.418283</td>\n",
              "      <td>37.712349</td>\n",
              "      <td>2019-09-29</td>\n",
              "      <td>0</td>\n",
              "      <td>2</td>\n",
              "      <td>2</td>\n",
              "      <td>7</td>\n",
              "      <td>45</td>\n",
              "      <td>2</td>\n",
              "      <td>2</td>\n",
              "      <td>3</td>\n",
              "    </tr>\n",
              "    <tr>\n",
              "      <th>2</th>\n",
              "      <td>recovered vehicle</td>\n",
              "      <td>Vehicle, Recovered, Auto</td>\n",
              "      <td>Sunday</td>\n",
              "      <td>9/29/19</td>\n",
              "      <td>0:30</td>\n",
              "      <td>richmond</td>\n",
              "      <td>open or active</td>\n",
              "      <td>TRANSVERSE DR \\ JOHN F KENNEDY DR</td>\n",
              "      <td>-122.479895</td>\n",
              "      <td>37.770496</td>\n",
              "      <td>2019-09-29</td>\n",
              "      <td>0</td>\n",
              "      <td>1</td>\n",
              "      <td>1</td>\n",
              "      <td>7</td>\n",
              "      <td>31</td>\n",
              "      <td>16</td>\n",
              "      <td>6</td>\n",
              "      <td>0</td>\n",
              "    </tr>\n",
              "    <tr>\n",
              "      <th>3</th>\n",
              "      <td>missing person</td>\n",
              "      <td>Found Person</td>\n",
              "      <td>Sunday</td>\n",
              "      <td>9/29/19</td>\n",
              "      <td>15:18</td>\n",
              "      <td>taraval</td>\n",
              "      <td>open or active</td>\n",
              "      <td>23RD AVE \\ NORIEGA ST</td>\n",
              "      <td>-122.480759</td>\n",
              "      <td>37.754051</td>\n",
              "      <td>2019-09-29</td>\n",
              "      <td>0</td>\n",
              "      <td>1</td>\n",
              "      <td>1</td>\n",
              "      <td>7</td>\n",
              "      <td>26</td>\n",
              "      <td>16</td>\n",
              "      <td>8</td>\n",
              "      <td>6</td>\n",
              "    </tr>\n",
              "    <tr>\n",
              "      <th>4</th>\n",
              "      <td>assault</td>\n",
              "      <td>Battery</td>\n",
              "      <td>Sunday</td>\n",
              "      <td>9/29/19</td>\n",
              "      <td>0:15</td>\n",
              "      <td>tenderloin</td>\n",
              "      <td>open or active</td>\n",
              "      <td>EDDY ST \\ LARKIN ST</td>\n",
              "      <td>-122.417529</td>\n",
              "      <td>37.783311</td>\n",
              "      <td>2019-09-29</td>\n",
              "      <td>0</td>\n",
              "      <td>0</td>\n",
              "      <td>0</td>\n",
              "      <td>7</td>\n",
              "      <td>1</td>\n",
              "      <td>16</td>\n",
              "      <td>9</td>\n",
              "      <td>8</td>\n",
              "    </tr>\n",
              "    <tr>\n",
              "      <th>5</th>\n",
              "      <td>assault</td>\n",
              "      <td>Battery</td>\n",
              "      <td>Sunday</td>\n",
              "      <td>9/29/19</td>\n",
              "      <td>0:15</td>\n",
              "      <td>northern</td>\n",
              "      <td>open or active</td>\n",
              "      <td>LARKIN ST \\ 09TH ST \\ MARKET ST</td>\n",
              "      <td>-122.416292</td>\n",
              "      <td>37.777494</td>\n",
              "      <td>2019-09-29</td>\n",
              "      <td>0</td>\n",
              "      <td>0</td>\n",
              "      <td>0</td>\n",
              "      <td>7</td>\n",
              "      <td>1</td>\n",
              "      <td>16</td>\n",
              "      <td>4</td>\n",
              "      <td>8</td>\n",
              "    </tr>\n",
              "  </tbody>\n",
              "</table>\n",
              "</div>"
            ],
            "text/plain": [
              "            Category  ... NewCategoryLabel\n",
              "0            warrant  ...                3\n",
              "2  recovered vehicle  ...                0\n",
              "3     missing person  ...                6\n",
              "4            assault  ...                8\n",
              "5            assault  ...                8\n",
              "\n",
              "[5 rows x 19 columns]"
            ]
          },
          "metadata": {
            "tags": []
          },
          "execution_count": 36
        }
      ]
    },
    {
      "cell_type": "code",
      "metadata": {
        "id": "-Nh7vO9MaDFa",
        "colab_type": "code",
        "colab": {
          "base_uri": "https://localhost:8080/",
          "height": 411
        },
        "outputId": "2f65d64e-b6b6-439c-82c1-d6c2903a59b7"
      },
      "source": [
        "housing_data.head()"
      ],
      "execution_count": 37,
      "outputs": [
        {
          "output_type": "execute_result",
          "data": {
            "text/html": [
              "<div>\n",
              "<style scoped>\n",
              "    .dataframe tbody tr th:only-of-type {\n",
              "        vertical-align: middle;\n",
              "    }\n",
              "\n",
              "    .dataframe tbody tr th {\n",
              "        vertical-align: top;\n",
              "    }\n",
              "\n",
              "    .dataframe thead th {\n",
              "        text-align: right;\n",
              "    }\n",
              "</style>\n",
              "<table border=\"1\" class=\"dataframe\">\n",
              "  <thead>\n",
              "    <tr style=\"text-align: right;\">\n",
              "      <th></th>\n",
              "      <th>Unnamed: 0</th>\n",
              "      <th>S</th>\n",
              "      <th>MLS #</th>\n",
              "      <th>Street Address</th>\n",
              "      <th>Price</th>\n",
              "      <th>DOM</th>\n",
              "      <th>Beds Total</th>\n",
              "      <th>Bths</th>\n",
              "      <th>Sq Ft Total</th>\n",
              "      <th>Lot Size</th>\n",
              "      <th>Postal City</th>\n",
              "      <th>Property Sub Type</th>\n",
              "      <th>Age</th>\n",
              "      <th>Latitude</th>\n",
              "      <th>Longitude</th>\n",
              "      <th>KmeanLabel</th>\n",
              "      <th>GmmLabel</th>\n",
              "    </tr>\n",
              "  </thead>\n",
              "  <tbody>\n",
              "    <tr>\n",
              "      <th>0</th>\n",
              "      <td>501</td>\n",
              "      <td>S</td>\n",
              "      <td>ML81687928</td>\n",
              "      <td>32 Acton Street</td>\n",
              "      <td>$878,000</td>\n",
              "      <td>6.0</td>\n",
              "      <td>2</td>\n",
              "      <td>1|0</td>\n",
              "      <td>1,100</td>\n",
              "      <td>1,751 Lot SqFt</td>\n",
              "      <td>San Francisco</td>\n",
              "      <td>Res. Single Family</td>\n",
              "      <td>70</td>\n",
              "      <td>37.707817</td>\n",
              "      <td>-122.452154</td>\n",
              "      <td>1</td>\n",
              "      <td>1</td>\n",
              "    </tr>\n",
              "    <tr>\n",
              "      <th>1</th>\n",
              "      <td>501</td>\n",
              "      <td>S</td>\n",
              "      <td>ML81714276</td>\n",
              "      <td>41 Liebig Street</td>\n",
              "      <td>$1,062,000</td>\n",
              "      <td>7.0</td>\n",
              "      <td>2</td>\n",
              "      <td>1|0</td>\n",
              "      <td>1,140</td>\n",
              "      <td>2,644 Lot SqFt</td>\n",
              "      <td>San Francisco</td>\n",
              "      <td>Res. Single Family</td>\n",
              "      <td>82</td>\n",
              "      <td>37.707983</td>\n",
              "      <td>-122.455542</td>\n",
              "      <td>1</td>\n",
              "      <td>1</td>\n",
              "    </tr>\n",
              "    <tr>\n",
              "      <th>2</th>\n",
              "      <td>1001</td>\n",
              "      <td>S</td>\n",
              "      <td>ML81750568</td>\n",
              "      <td>60 Rice Street</td>\n",
              "      <td>$700,000</td>\n",
              "      <td>1.0</td>\n",
              "      <td>2</td>\n",
              "      <td>1|0</td>\n",
              "      <td>1,200</td>\n",
              "      <td>2,822 Lot SqFt</td>\n",
              "      <td>San Francisco</td>\n",
              "      <td>Res. Single Family</td>\n",
              "      <td>92</td>\n",
              "      <td>37.708019</td>\n",
              "      <td>-122.456720</td>\n",
              "      <td>1</td>\n",
              "      <td>1</td>\n",
              "    </tr>\n",
              "    <tr>\n",
              "      <th>4</th>\n",
              "      <td>1</td>\n",
              "      <td>S</td>\n",
              "      <td>ML81723558</td>\n",
              "      <td>19 Canyon Drive</td>\n",
              "      <td>$1,265,000</td>\n",
              "      <td>12.0</td>\n",
              "      <td>3</td>\n",
              "      <td>2|0</td>\n",
              "      <td>2,015</td>\n",
              "      <td>3,589 Lot SqFt</td>\n",
              "      <td>San Francisco</td>\n",
              "      <td>Res. Single Family</td>\n",
              "      <td>57</td>\n",
              "      <td>37.708683</td>\n",
              "      <td>-122.430262</td>\n",
              "      <td>2</td>\n",
              "      <td>2</td>\n",
              "    </tr>\n",
              "    <tr>\n",
              "      <th>5</th>\n",
              "      <td>501</td>\n",
              "      <td>S</td>\n",
              "      <td>ML81686475</td>\n",
              "      <td>363 Polaris Way</td>\n",
              "      <td>$1,005,000</td>\n",
              "      <td>20.0</td>\n",
              "      <td>3</td>\n",
              "      <td>1|0</td>\n",
              "      <td>1,168</td>\n",
              "      <td>4,055 Lot SqFt</td>\n",
              "      <td>San Francisco</td>\n",
              "      <td>Res. Single Family</td>\n",
              "      <td>56</td>\n",
              "      <td>37.708755</td>\n",
              "      <td>-122.439770</td>\n",
              "      <td>2</td>\n",
              "      <td>2</td>\n",
              "    </tr>\n",
              "  </tbody>\n",
              "</table>\n",
              "</div>"
            ],
            "text/plain": [
              "   Unnamed: 0  S       MLS #  ...   Longitude KmeanLabel  GmmLabel\n",
              "0         501  S  ML81687928  ... -122.452154          1         1\n",
              "1         501  S  ML81714276  ... -122.455542          1         1\n",
              "2        1001  S  ML81750568  ... -122.456720          1         1\n",
              "4           1  S  ML81723558  ... -122.430262          2         2\n",
              "5         501  S  ML81686475  ... -122.439770          2         2\n",
              "\n",
              "[5 rows x 17 columns]"
            ]
          },
          "metadata": {
            "tags": []
          },
          "execution_count": 37
        }
      ]
    },
    {
      "cell_type": "markdown",
      "metadata": {
        "id": "4im-6v3xoQRR",
        "colab_type": "text"
      },
      "source": [
        "### **4.3. Visualize data**\n"
      ]
    },
    {
      "cell_type": "code",
      "metadata": {
        "id": "uT1XtPR49Ss_",
        "colab_type": "code",
        "outputId": "2c9b873f-d6ca-4fa5-cbdf-c99e8ff4ff03",
        "colab": {
          "base_uri": "https://localhost:8080/",
          "height": 441
        }
      },
      "source": [
        "import seaborn as sns\n",
        "plt.figure(figsize=(10,6))\n",
        "plt.bar(crime_data['PdDistrict'].value_counts().index, \n",
        "        crime_data['PdDistrict'].value_counts(),\n",
        "        color=sns.color_palette('plasma'))\n",
        "plt.xlabel('PdDistrict')\n",
        "plt.ylabel('Counts')\n",
        "plt.title('PdDistrict Distribution')\n",
        "plt.tight_layout()"
      ],
      "execution_count": 5,
      "outputs": [
        {
          "output_type": "display_data",
          "data": {
            "image/png": "[encoded data removed]",
            "text/plain": [
              "<Figure size 720x432 with 1 Axes>"
            ]
          },
          "metadata": {
            "tags": []
          }
        }
      ]
    },
    {
      "cell_type": "code",
      "metadata": {
        "id": "35TNwtJv9TMd",
        "colab_type": "code",
        "outputId": "da2fc22e-4a4b-450c-b03e-e4ab9cb96ce4",
        "colab": {
          "base_uri": "https://localhost:8080/",
          "height": 747
        }
      },
      "source": [
        "plt.figure(figsize=(10,12))\n",
        "plt.title('Distribution of Categories of crime in San Fransisco')\n",
        "sns.countplot(y=crime_data['Category'])"
      ],
      "execution_count": 6,
      "outputs": [
        {
          "output_type": "execute_result",
          "data": {
            "text/plain": [
              "<matplotlib.axes._subplots.AxesSubplot at 0x7f10faecc048>"
            ]
          },
          "metadata": {
            "tags": []
          },
          "execution_count": 6
        },
        {
          "output_type": "display_data",
          "data": {
            "image/png": "[encoded data removed]",
            "text/plain": [
              "<Figure size 720x864 with 1 Axes>"
            ]
          },
          "metadata": {
            "tags": []
          }
        }
      ]
    },
    {
      "cell_type": "markdown",
      "metadata": {
        "id": "U7NMo1huoQEM",
        "colab_type": "text"
      },
      "source": [
        "### **4.4. Run Stats: mean, median, mode, correlation, variance**\n"
      ]
    },
    {
      "cell_type": "markdown",
      "metadata": {
        "id": "Q2Df576-oP5A",
        "colab_type": "text"
      },
      "source": [
        "### **4.5. .corr**\n"
      ]
    },
    {
      "cell_type": "code",
      "metadata": {
        "id": "BrCMnQg9qE_B",
        "colab_type": "code",
        "outputId": "57d9683e-76e1-45d0-eba4-51f3059cecb2",
        "colab": {
          "base_uri": "https://localhost:8080/",
          "height": 324
        }
      },
      "source": [
        "#.corr befor data curation.\n",
        "plt.figure(figsize=(5,5))\n",
        "cor = crime_data.corr()\n",
        "sns.heatmap(cor, annot=True, cmap=plt.cm.Reds)\n",
        "plt.show()"
      ],
      "execution_count": 7,
      "outputs": [
        {
          "output_type": "display_data",
          "data": {
            "image/png": "[encoded data removed]",
            "text/plain": [
              "<Figure size 360x360 with 2 Axes>"
            ]
          },
          "metadata": {
            "tags": []
          }
        }
      ]
    },
    {
      "cell_type": "markdown",
      "metadata": {
        "id": "tidh4UvcoPtO",
        "colab_type": "text"
      },
      "source": [
        "### **4.6. pairplot()**\n"
      ]
    },
    {
      "cell_type": "markdown",
      "metadata": {
        "id": "56LkVZLpoPjH",
        "colab_type": "text"
      },
      "source": [
        "### **4.7. gini score**\n"
      ]
    },
    {
      "cell_type": "markdown",
      "metadata": {
        "id": "jtUBxwL4oPWj",
        "colab_type": "text"
      },
      "source": [
        "### **4.8. feature_importance with xgboost**"
      ]
    },
    {
      "cell_type": "markdown",
      "metadata": {
        "id": "KzvS_1KMXiBS",
        "colab_type": "text"
      },
      "source": [
        "## **5. Data Prep: Curation**"
      ]
    },
    {
      "cell_type": "markdown",
      "metadata": {
        "id": "9NsjcDO3XoEs",
        "colab_type": "text"
      },
      "source": [
        "### **5.1. Feature Selection and Extraction : what are the main features to use in this data set?**"
      ]
    },
    {
      "cell_type": "code",
      "metadata": {
        "id": "cm9yVenIYKMM",
        "colab_type": "code",
        "colab": {}
      },
      "source": [
        "# X, Y ,datetime, Category, Resolution and PdDistrict are the  main features for Crime DataSet\n",
        "crime_data['Longitude'] = crime_data['X']\n",
        "crime_data['Latitude'] = crime_data['Y']\n",
        "crime_data['datetime'] = pd.to_datetime(crime_data['Date'])\n",
        "crime_data = crime_data.drop(['IncidntNum', 'X', 'Y', 'Location'], axis=1)"
      ],
      "execution_count": 0,
      "outputs": []
    },
    {
      "cell_type": "code",
      "metadata": {
        "id": "BA2iGwr2YRnc",
        "colab_type": "code",
        "colab": {}
      },
      "source": [
        "crime_data['Category'] = crime_data['Category'].str.lower()\n",
        "crime_data['Resolution'] = crime_data['Resolution'].str.lower()\n",
        "crime_data['PdDistrict'] = crime_data['PdDistrict'].str.lower()"
      ],
      "execution_count": 0,
      "outputs": []
    },
    {
      "cell_type": "code",
      "metadata": {
        "id": "1q_vr6J4YW2K",
        "colab_type": "code",
        "colab": {}
      },
      "source": [
        "crime_data = crime_data[crime_data['Category'] != 'non-criminal']\n",
        "crime_data = crime_data[crime_data['Category'] != 'secondary codes']\n",
        "crime_data = crime_data[crime_data['Category'] != 'case closure']\n",
        "crime_data = crime_data[crime_data['PdDistrict'] != 'out of sf']"
      ],
      "execution_count": 0,
      "outputs": []
    },
    {
      "cell_type": "code",
      "metadata": {
        "id": "cIkr1ATvY5He",
        "colab_type": "code",
        "colab": {}
      },
      "source": [
        ""
      ],
      "execution_count": 0,
      "outputs": []
    },
    {
      "cell_type": "markdown",
      "metadata": {
        "id": "MYNIiaaxZgGy",
        "colab_type": "text"
      },
      "source": [
        "### **5.2. Data Verification: Do we have enough data?**\n"
      ]
    },
    {
      "cell_type": "code",
      "metadata": {
        "id": "Ws7MiaqaZiFJ",
        "colab_type": "code",
        "outputId": "fe62f6ff-babb-4959-a614-df6ab98a617c",
        "colab": {
          "base_uri": "https://localhost:8080/",
          "height": 51
        }
      },
      "source": [
        "print('Crime Data Shape: {}'.format(crime_data.shape))\n",
        "print('Housing Data Shape: {}'.format(housing_data.shape))"
      ],
      "execution_count": 11,
      "outputs": [
        {
          "output_type": "stream",
          "text": [
            "Crime Data Shape: (495210, 11)\n",
            "Housing Data Shape: (1345, 15)\n"
          ],
          "name": "stdout"
        }
      ]
    },
    {
      "cell_type": "markdown",
      "metadata": {
        "id": "aNar_rZPZyFd",
        "colab_type": "text"
      },
      "source": [
        "### **5.3. Possibility of Amalgamation1: Add Dataset 2**\n"
      ]
    },
    {
      "cell_type": "code",
      "metadata": {
        "id": "qnMj-vfnZ-0L",
        "colab_type": "code",
        "colab": {}
      },
      "source": [
        "# add housing dataset"
      ],
      "execution_count": 0,
      "outputs": []
    },
    {
      "cell_type": "markdown",
      "metadata": {
        "id": "9hYlStHDaG4D",
        "colab_type": "text"
      },
      "source": [
        "### **5.4. Data Cleansing**"
      ]
    },
    {
      "cell_type": "code",
      "metadata": {
        "id": "VQnMHjLnaM18",
        "colab_type": "code",
        "outputId": "94cdb890-d23a-447c-f116-362cc276fa12",
        "colab": {
          "base_uri": "https://localhost:8080/",
          "height": 357
        }
      },
      "source": [
        "#remove NaN rows\n",
        "crime_data = crime_data.dropna()\n",
        "location_data = crime_data[['Latitude', 'Longitude']].values\n",
        "\n",
        "print('New Crime Data Shape: {}\\n'.format(crime_data.shape))\n",
        "print('Crime Data first 5 heading rows:')\n",
        "crime_data.head(5)"
      ],
      "execution_count": 13,
      "outputs": [
        {
          "output_type": "stream",
          "text": [
            "New Crime Data Shape: (489545, 11)\n",
            "\n",
            "Crime Data first 5 heading rows:\n"
          ],
          "name": "stdout"
        },
        {
          "output_type": "execute_result",
          "data": {
            "text/html": [
              "<div>\n",
              "<style scoped>\n",
              "    .dataframe tbody tr th:only-of-type {\n",
              "        vertical-align: middle;\n",
              "    }\n",
              "\n",
              "    .dataframe tbody tr th {\n",
              "        vertical-align: top;\n",
              "    }\n",
              "\n",
              "    .dataframe thead th {\n",
              "        text-align: right;\n",
              "    }\n",
              "</style>\n",
              "<table border=\"1\" class=\"dataframe\">\n",
              "  <thead>\n",
              "    <tr style=\"text-align: right;\">\n",
              "      <th></th>\n",
              "      <th>Category</th>\n",
              "      <th>Descript</th>\n",
              "      <th>DayOfWeek</th>\n",
              "      <th>Date</th>\n",
              "      <th>Time</th>\n",
              "      <th>PdDistrict</th>\n",
              "      <th>Resolution</th>\n",
              "      <th>Address</th>\n",
              "      <th>Longitude</th>\n",
              "      <th>Latitude</th>\n",
              "      <th>datetime</th>\n",
              "    </tr>\n",
              "  </thead>\n",
              "  <tbody>\n",
              "    <tr>\n",
              "      <th>0</th>\n",
              "      <td>warrant</td>\n",
              "      <td>Warrant Arrest, Local SF Warrant</td>\n",
              "      <td>Sunday</td>\n",
              "      <td>9/29/19</td>\n",
              "      <td>11:32</td>\n",
              "      <td>ingleside</td>\n",
              "      <td>cite or arrest adult</td>\n",
              "      <td>SUNNYDALE AVE \\ SANTOS ST</td>\n",
              "      <td>-122.418283</td>\n",
              "      <td>37.712349</td>\n",
              "      <td>2019-09-29</td>\n",
              "    </tr>\n",
              "    <tr>\n",
              "      <th>2</th>\n",
              "      <td>recovered vehicle</td>\n",
              "      <td>Vehicle, Recovered, Auto</td>\n",
              "      <td>Sunday</td>\n",
              "      <td>9/29/19</td>\n",
              "      <td>0:30</td>\n",
              "      <td>richmond</td>\n",
              "      <td>open or active</td>\n",
              "      <td>TRANSVERSE DR \\ JOHN F KENNEDY DR</td>\n",
              "      <td>-122.479895</td>\n",
              "      <td>37.770496</td>\n",
              "      <td>2019-09-29</td>\n",
              "    </tr>\n",
              "    <tr>\n",
              "      <th>3</th>\n",
              "      <td>missing person</td>\n",
              "      <td>Found Person</td>\n",
              "      <td>Sunday</td>\n",
              "      <td>9/29/19</td>\n",
              "      <td>15:18</td>\n",
              "      <td>taraval</td>\n",
              "      <td>open or active</td>\n",
              "      <td>23RD AVE \\ NORIEGA ST</td>\n",
              "      <td>-122.480759</td>\n",
              "      <td>37.754051</td>\n",
              "      <td>2019-09-29</td>\n",
              "    </tr>\n",
              "    <tr>\n",
              "      <th>4</th>\n",
              "      <td>assault</td>\n",
              "      <td>Battery</td>\n",
              "      <td>Sunday</td>\n",
              "      <td>9/29/19</td>\n",
              "      <td>0:15</td>\n",
              "      <td>tenderloin</td>\n",
              "      <td>open or active</td>\n",
              "      <td>EDDY ST \\ LARKIN ST</td>\n",
              "      <td>-122.417529</td>\n",
              "      <td>37.783311</td>\n",
              "      <td>2019-09-29</td>\n",
              "    </tr>\n",
              "    <tr>\n",
              "      <th>5</th>\n",
              "      <td>assault</td>\n",
              "      <td>Battery</td>\n",
              "      <td>Sunday</td>\n",
              "      <td>9/29/19</td>\n",
              "      <td>0:15</td>\n",
              "      <td>northern</td>\n",
              "      <td>open or active</td>\n",
              "      <td>LARKIN ST \\ 09TH ST \\ MARKET ST</td>\n",
              "      <td>-122.416292</td>\n",
              "      <td>37.777494</td>\n",
              "      <td>2019-09-29</td>\n",
              "    </tr>\n",
              "  </tbody>\n",
              "</table>\n",
              "</div>"
            ],
            "text/plain": [
              "            Category                          Descript  ...   Latitude   datetime\n",
              "0            warrant  Warrant Arrest, Local SF Warrant  ...  37.712349 2019-09-29\n",
              "2  recovered vehicle          Vehicle, Recovered, Auto  ...  37.770496 2019-09-29\n",
              "3     missing person                      Found Person  ...  37.754051 2019-09-29\n",
              "4            assault                           Battery  ...  37.783311 2019-09-29\n",
              "5            assault                           Battery  ...  37.777494 2019-09-29\n",
              "\n",
              "[5 rows x 11 columns]"
            ]
          },
          "metadata": {
            "tags": []
          },
          "execution_count": 13
        }
      ]
    },
    {
      "cell_type": "code",
      "metadata": {
        "id": "2DGyTOveVQ-p",
        "colab_type": "code",
        "outputId": "7821635e-b348-4e95-a19e-19ac19c651d0",
        "colab": {
          "base_uri": "https://localhost:8080/",
          "height": 408
        }
      },
      "source": [
        "print('Housing Data first 5 heading rows:')\n",
        "#remove NaN rows\n",
        "housing_data = housing_data.dropna()\n",
        "housing_data.head(5)"
      ],
      "execution_count": 14,
      "outputs": [
        {
          "output_type": "stream",
          "text": [
            "Housing Data first 5 heading rows:\n"
          ],
          "name": "stdout"
        },
        {
          "output_type": "execute_result",
          "data": {
            "text/html": [
              "<div>\n",
              "<style scoped>\n",
              "    .dataframe tbody tr th:only-of-type {\n",
              "        vertical-align: middle;\n",
              "    }\n",
              "\n",
              "    .dataframe tbody tr th {\n",
              "        vertical-align: top;\n",
              "    }\n",
              "\n",
              "    .dataframe thead th {\n",
              "        text-align: right;\n",
              "    }\n",
              "</style>\n",
              "<table border=\"1\" class=\"dataframe\">\n",
              "  <thead>\n",
              "    <tr style=\"text-align: right;\">\n",
              "      <th></th>\n",
              "      <th>Unnamed: 0</th>\n",
              "      <th>S</th>\n",
              "      <th>MLS #</th>\n",
              "      <th>Street Address</th>\n",
              "      <th>Price</th>\n",
              "      <th>DOM</th>\n",
              "      <th>Beds Total</th>\n",
              "      <th>Bths</th>\n",
              "      <th>Sq Ft Total</th>\n",
              "      <th>Lot Size</th>\n",
              "      <th>Postal City</th>\n",
              "      <th>Property Sub Type</th>\n",
              "      <th>Age</th>\n",
              "      <th>Latitude</th>\n",
              "      <th>Longitude</th>\n",
              "    </tr>\n",
              "  </thead>\n",
              "  <tbody>\n",
              "    <tr>\n",
              "      <th>0</th>\n",
              "      <td>501</td>\n",
              "      <td>S</td>\n",
              "      <td>ML81687928</td>\n",
              "      <td>32 Acton Street</td>\n",
              "      <td>$878,000</td>\n",
              "      <td>6.0</td>\n",
              "      <td>2</td>\n",
              "      <td>1|0</td>\n",
              "      <td>1,100</td>\n",
              "      <td>1,751 Lot SqFt</td>\n",
              "      <td>San Francisco</td>\n",
              "      <td>Res. Single Family</td>\n",
              "      <td>70</td>\n",
              "      <td>37.707817</td>\n",
              "      <td>-122.452154</td>\n",
              "    </tr>\n",
              "    <tr>\n",
              "      <th>1</th>\n",
              "      <td>501</td>\n",
              "      <td>S</td>\n",
              "      <td>ML81714276</td>\n",
              "      <td>41 Liebig Street</td>\n",
              "      <td>$1,062,000</td>\n",
              "      <td>7.0</td>\n",
              "      <td>2</td>\n",
              "      <td>1|0</td>\n",
              "      <td>1,140</td>\n",
              "      <td>2,644 Lot SqFt</td>\n",
              "      <td>San Francisco</td>\n",
              "      <td>Res. Single Family</td>\n",
              "      <td>82</td>\n",
              "      <td>37.707983</td>\n",
              "      <td>-122.455542</td>\n",
              "    </tr>\n",
              "    <tr>\n",
              "      <th>2</th>\n",
              "      <td>1001</td>\n",
              "      <td>S</td>\n",
              "      <td>ML81750568</td>\n",
              "      <td>60 Rice Street</td>\n",
              "      <td>$700,000</td>\n",
              "      <td>1.0</td>\n",
              "      <td>2</td>\n",
              "      <td>1|0</td>\n",
              "      <td>1,200</td>\n",
              "      <td>2,822 Lot SqFt</td>\n",
              "      <td>San Francisco</td>\n",
              "      <td>Res. Single Family</td>\n",
              "      <td>92</td>\n",
              "      <td>37.708019</td>\n",
              "      <td>-122.456720</td>\n",
              "    </tr>\n",
              "    <tr>\n",
              "      <th>4</th>\n",
              "      <td>1</td>\n",
              "      <td>S</td>\n",
              "      <td>ML81723558</td>\n",
              "      <td>19 Canyon Drive</td>\n",
              "      <td>$1,265,000</td>\n",
              "      <td>12.0</td>\n",
              "      <td>3</td>\n",
              "      <td>2|0</td>\n",
              "      <td>2,015</td>\n",
              "      <td>3,589 Lot SqFt</td>\n",
              "      <td>San Francisco</td>\n",
              "      <td>Res. Single Family</td>\n",
              "      <td>57</td>\n",
              "      <td>37.708683</td>\n",
              "      <td>-122.430262</td>\n",
              "    </tr>\n",
              "    <tr>\n",
              "      <th>5</th>\n",
              "      <td>501</td>\n",
              "      <td>S</td>\n",
              "      <td>ML81686475</td>\n",
              "      <td>363 Polaris Way</td>\n",
              "      <td>$1,005,000</td>\n",
              "      <td>20.0</td>\n",
              "      <td>3</td>\n",
              "      <td>1|0</td>\n",
              "      <td>1,168</td>\n",
              "      <td>4,055 Lot SqFt</td>\n",
              "      <td>San Francisco</td>\n",
              "      <td>Res. Single Family</td>\n",
              "      <td>56</td>\n",
              "      <td>37.708755</td>\n",
              "      <td>-122.439770</td>\n",
              "    </tr>\n",
              "  </tbody>\n",
              "</table>\n",
              "</div>"
            ],
            "text/plain": [
              "   Unnamed: 0  S       MLS #  ... Age   Latitude   Longitude\n",
              "0         501  S  ML81687928  ...  70  37.707817 -122.452154\n",
              "1         501  S  ML81714276  ...  82  37.707983 -122.455542\n",
              "2        1001  S  ML81750568  ...  92  37.708019 -122.456720\n",
              "4           1  S  ML81723558  ...  57  37.708683 -122.430262\n",
              "5         501  S  ML81686475  ...  56  37.708755 -122.439770\n",
              "\n",
              "[5 rows x 15 columns]"
            ]
          },
          "metadata": {
            "tags": []
          },
          "execution_count": 14
        }
      ]
    },
    {
      "cell_type": "markdown",
      "metadata": {
        "id": "rtnzSU4Paj4q",
        "colab_type": "text"
      },
      "source": [
        "### **5.5. Data Regularization**"
      ]
    },
    {
      "cell_type": "code",
      "metadata": {
        "id": "7ayRed9-atGY",
        "colab_type": "code",
        "colab": {}
      },
      "source": [
        "# ADD code"
      ],
      "execution_count": 0,
      "outputs": []
    },
    {
      "cell_type": "markdown",
      "metadata": {
        "id": "cSAIYr3dajsa",
        "colab_type": "text"
      },
      "source": [
        "### **5.6. Data Normalization**"
      ]
    },
    {
      "cell_type": "code",
      "metadata": {
        "id": "WBAb0yX7awTM",
        "colab_type": "code",
        "colab": {}
      },
      "source": [
        "# ADD code"
      ],
      "execution_count": 0,
      "outputs": []
    },
    {
      "cell_type": "markdown",
      "metadata": {
        "id": "jMUoCrtcbHZH",
        "colab_type": "text"
      },
      "source": [
        "## **6. Unsupervised Exploration : Find relevant Clusters in Your Data**"
      ]
    },
    {
      "cell_type": "markdown",
      "metadata": {
        "id": "vVNC7W7DbLTj",
        "colab_type": "text"
      },
      "source": [
        "### **6.1. How many clusters? Explore different k’s**"
      ]
    },
    {
      "cell_type": "markdown",
      "metadata": {
        "id": "5e-LmVZvoVy6",
        "colab_type": "text"
      },
      "source": [
        "###Elbow method\n",
        "Elbow method gives us an idea on what a good k number of clusters would be based on the sum of squared distance between data points and their assigned clusters’ centroids. "
      ]
    },
    {
      "cell_type": "code",
      "metadata": {
        "id": "GuagK-XrVAKP",
        "colab_type": "code",
        "outputId": "d7059426-d4b6-47aa-8837-b8aae53438cd",
        "colab": {
          "base_uri": "https://localhost:8080/",
          "height": 295
        }
      },
      "source": [
        "from sklearn.cluster import KMeans\n",
        "from scipy.spatial.distance import cdist, pdist\n",
        "\n",
        "distortions = []\n",
        "K = range(1,10)\n",
        "\n",
        "for k in K:\n",
        "    kmeanModel = KMeans(n_clusters=k).fit(location_data)\n",
        "    kmeanModel.fit(location_data)\n",
        "    distortions.append(sum(np.min(cdist(location_data, kmeanModel.cluster_centers_, 'euclidean'), axis=1)) / location_data.shape[0])\n",
        "    \n",
        "plt.plot(K, distortions, 'bx-')\n",
        "plt.xlabel('k')\n",
        "plt.ylabel('Distortion')\n",
        "plt.title('The Elbow Method showing the optimal k')\n",
        "plt.show()"
      ],
      "execution_count": 17,
      "outputs": [
        {
          "output_type": "display_data",
          "data": {
            "image/png": "[encoded data removed]",
            "text/plain": [
              "<Figure size 432x288 with 1 Axes>"
            ]
          },
          "metadata": {
            "tags": []
          }
        }
      ]
    },
    {
      "cell_type": "markdown",
      "metadata": {
        "id": "rzQNuIURbZ7-",
        "colab_type": "text"
      },
      "source": [
        "Based on the Elbow Method, the value of **K is 3**."
      ]
    },
    {
      "cell_type": "markdown",
      "metadata": {
        "id": "8qhzGqAYbxkn",
        "colab_type": "text"
      },
      "source": [
        "### **6.2. Select Clustering algorithms, run several and compare in a table**"
      ]
    },
    {
      "cell_type": "markdown",
      "metadata": {
        "id": "H0OgQ1T4b346",
        "colab_type": "text"
      },
      "source": [
        "\n",
        "\n",
        "1.   DBScan Clusterning\n",
        "2.   K-means Clusterning\n",
        "3.   Gausian Mixture Model (GMM) Clustering\n",
        "\n"
      ]
    },
    {
      "cell_type": "markdown",
      "metadata": {
        "id": "0mW5ft-PopB2",
        "colab_type": "text"
      },
      "source": [
        "###DBSCAN Clustering\n",
        "Using DBSCAN clustering method, to indicate the outlier and filter out these outlier"
      ]
    },
    {
      "cell_type": "code",
      "metadata": {
        "id": "oOD8aAVuzvpo",
        "colab_type": "code",
        "outputId": "e0da7455-2f86-4b5e-a5e5-fb7aa5917393",
        "colab": {
          "base_uri": "https://localhost:8080/",
          "height": 298
        }
      },
      "source": [
        "from sklearn.cluster import DBSCAN\n",
        "\n",
        "location_latlon = np.unique(location_data, axis=0)\n",
        "\n",
        "db = DBSCAN(eps=0.002, min_samples=10)\n",
        "db.fit(location_latlon)\n",
        "dbscan_labels = db.fit_predict(location_latlon)\n",
        "\n",
        "location_latlon_df = pd.DataFrame({'latitude': location_latlon[:,0], \n",
        "                                  'longitude': location_latlon[:,1],\n",
        "                                  'label': dbscan_labels})\n",
        "fig, ax = plt.subplots()\n",
        "colors = ['blue', 'red']\n",
        "for i, dbscan_label in location_latlon_df.groupby('label'):\n",
        "    if i == 0:\n",
        "        color = 'b'\n",
        "    else:\n",
        "        color = 'r'\n",
        "    _ = ax.scatter(dbscan_label['latitude'], dbscan_label['longitude'], c=color, s=0.5, label='Label {}'.format(i))\n",
        "\n",
        "ax.legend(loc='upper right')\n",
        "plt.gca().invert_yaxis()\n",
        "plt.title(\"DBSCAN\")"
      ],
      "execution_count": 18,
      "outputs": [
        {
          "output_type": "execute_result",
          "data": {
            "text/plain": [
              "Text(0.5, 1.0, 'DBSCAN')"
            ]
          },
          "metadata": {
            "tags": []
          },
          "execution_count": 18
        },
        {
          "output_type": "display_data",
          "data": {
            "image/png": "[encoded data removed]",
            "text/plain": [
              "<Figure size 432x288 with 1 Axes>"
            ]
          },
          "metadata": {
            "tags": []
          }
        }
      ]
    },
    {
      "cell_type": "markdown",
      "metadata": {
        "id": "jerWJGHNpeW7",
        "colab_type": "text"
      },
      "source": [
        "**Filtering**\n",
        "Labeling the outlier and filter them out"
      ]
    },
    {
      "cell_type": "code",
      "metadata": {
        "id": "blcymAXRdXLC",
        "colab_type": "code",
        "colab": {}
      },
      "source": [
        "# Filter the outliers\n",
        "crime_data['Dbscan_label'] = 0\n",
        "for index in location_latlon_df.loc[location_latlon_df['label'] != 0].index:\n",
        "    crime_outlier_index = crime_data.loc[(location_latlon_df.loc[index, 'latitude'] == crime_data['Latitude']) & (location_latlon_df.loc[index, 'longitude'] == crime_data['Longitude'])].index\n",
        "    crime_data.loc[crime_outlier_index, 'Dbscan_label'] = -1\n",
        "\n",
        "crime_data = crime_data[crime_data['Dbscan_label'] != -1]\n",
        "crime_data_location = crime_data[['Latitude', 'Longitude']].values"
      ],
      "execution_count": 0,
      "outputs": []
    },
    {
      "cell_type": "code",
      "metadata": {
        "id": "ixDmz-p2T011",
        "colab_type": "code",
        "outputId": "dcaf6ff5-f2b1-404a-ec32-33b6f146b5ae",
        "colab": {
          "base_uri": "https://localhost:8080/",
          "height": 295
        }
      },
      "source": [
        "from sklearn.cluster import KMeans\n",
        "\n",
        "kmeans = KMeans(n_clusters=3)\n",
        "kmeans.fit(crime_data_location)\n",
        "kmean_label = kmeans.predict(crime_data_location)\n",
        "crime_data['KmeanLabel'] = kmean_label\n",
        "\n",
        "fig, ax = plt.subplots()\n",
        "colors = ['blue', 'red', 'purple']\n",
        "# cmap = plt.cm.get_cmap('viridis')\n",
        "for i in range(3):\n",
        "    _ = ax.scatter(crime_data.loc[crime_data['KmeanLabel'] == i, 'Latitude'], crime_data.loc[crime_data['KmeanLabel'] == i, 'Longitude'], c=colors[i], s=1, label='label {}'.format(i))\n",
        "\n",
        "centers = kmeans.cluster_centers_\n",
        "ax.scatter(centers[:, 0], centers[:, 1], c='black', s=10, alpha=1, label='Centers')\n",
        "\n",
        "ax.legend(loc='lower right')\n",
        "plt.title('Kmean Plot for Crime Data')\n",
        "plt.xlabel('Latitude')\n",
        "plt.ylabel('Longitude')\n",
        "plt.gca().invert_yaxis()\n",
        "plt.show()"
      ],
      "execution_count": 20,
      "outputs": [
        {
          "output_type": "display_data",
          "data": {
            "image/png": "[encoded data removed]",
            "text/plain": [
              "<Figure size 432x288 with 1 Axes>"
            ]
          },
          "metadata": {
            "tags": []
          }
        }
      ]
    },
    {
      "cell_type": "code",
      "metadata": {
        "id": "UbKV4KLlEWQk",
        "colab_type": "code",
        "outputId": "a090ba2d-b642-405e-855b-c2dd5a3af240",
        "colab": {
          "base_uri": "https://localhost:8080/",
          "height": 295
        }
      },
      "source": [
        "from sklearn.mixture import GaussianMixture \n",
        "\n",
        "gmm_sklearn = GaussianMixture(n_components = 3,covariance_type='full')\n",
        "gmm_sklearn.fit(crime_data_location)\n",
        "gmm_label = gmm_sklearn.predict(crime_data_location)\n",
        "crime_data['GmmLabel'] = gmm_label\n",
        "\n",
        "fig, ax = plt.subplots()\n",
        "colors = ['blue', 'red', 'purple']\n",
        "for i in range(3):\n",
        "    _ = ax.scatter(crime_data.loc[crime_data['GmmLabel'] == i, 'Latitude'], crime_data.loc[crime_data['GmmLabel'] == i, 'Longitude'], c=colors[i], s=1, label='label {}'.format(i))\n",
        "    \n",
        "ax.legend(loc='lower right')\n",
        "plt.title('GMM Plot for Crime Data')\n",
        "plt.xlabel('Latitude')\n",
        "plt.ylabel('Longitude')\n",
        "plt.gca().invert_yaxis()\n",
        "plt.show()\n"
      ],
      "execution_count": 21,
      "outputs": [
        {
          "output_type": "display_data",
          "data": {
            "image/png": "[encoded data removed]",
            "text/plain": [
              "<Figure size 432x288 with 1 Axes>"
            ]
          },
          "metadata": {
            "tags": []
          }
        }
      ]
    },
    {
      "cell_type": "code",
      "metadata": {
        "id": "ryiVxEHhKYX4",
        "colab_type": "code",
        "outputId": "98ac730e-dff9-4f6b-84ef-d7c52acf28d1",
        "colab": {
          "base_uri": "https://localhost:8080/",
          "height": 295
        }
      },
      "source": [
        "housing_data_location = housing_data[['Latitude', 'Longitude']].values\n",
        "\n",
        "housing_kmean_label = kmeans.predict(housing_data_location)\n",
        "housing_data['KmeanLabel'] = housing_kmean_label\n",
        "\n",
        "fig, ax = plt.subplots()\n",
        "colors = ['blue', 'red', 'purple']\n",
        "\n",
        "for i in range(3):\n",
        "     _ = ax.scatter(housing_data.loc[housing_data['KmeanLabel'] == i, 'Latitude'], housing_data.loc[housing_data['KmeanLabel'] == i, 'Longitude'], c=colors[i], s=1, label='label {}'.format(i))\n",
        "\n",
        "ax.legend(loc='lower right')\n",
        "plt.title('Kmean Plot for Housing Data')\n",
        "plt.xlabel('Latitude')\n",
        "plt.ylabel('Longitude')\n",
        "plt.gca().invert_yaxis()"
      ],
      "execution_count": 22,
      "outputs": [
        {
          "output_type": "display_data",
          "data": {
            "image/png": "[encoded data removed]",
            "text/plain": [
              "<Figure size 432x288 with 1 Axes>"
            ]
          },
          "metadata": {
            "tags": []
          }
        }
      ]
    },
    {
      "cell_type": "code",
      "metadata": {
        "id": "WFKajq6HiL2x",
        "colab_type": "code",
        "outputId": "892a1c0d-95fe-43bc-aab7-7e26af5a6d75",
        "colab": {
          "base_uri": "https://localhost:8080/",
          "height": 34
        }
      },
      "source": [
        "from sklearn.metrics import silhouette_score\n",
        "\n",
        "score = silhouette_score (housing_data_location, housing_kmean_label, metric='euclidean')\n",
        "print (\"Kmean: n_clusters = {}, silhouette score is {})\".format(3, score))"
      ],
      "execution_count": 23,
      "outputs": [
        {
          "output_type": "stream",
          "text": [
            "Kmean: n_clusters = 3, silhouette score is 0.4440246433094136)\n"
          ],
          "name": "stdout"
        }
      ]
    },
    {
      "cell_type": "code",
      "metadata": {
        "id": "bPfmjDsQSkyp",
        "colab_type": "code",
        "outputId": "1b3e5856-8c8c-43db-d6b7-e31994e967b4",
        "colab": {
          "base_uri": "https://localhost:8080/",
          "height": 295
        }
      },
      "source": [
        "housing_gmm_label = gmm_sklearn.predict(housing_data_location)\n",
        "housing_data['GmmLabel'] = housing_gmm_label\n",
        "\n",
        "fig, ax = plt.subplots()\n",
        "colors = ['blue', 'red', 'purple']\n",
        "for i in range(3):\n",
        "    _ = ax.scatter(housing_data.loc[housing_data['GmmLabel'] == i, 'Latitude'], housing_data.loc[housing_data['GmmLabel'] == i, 'Longitude'], c=colors[i], s=1, label='label {}'.format(i))\n",
        "\n",
        "ax.legend(loc='lower right')\n",
        "plt.title('GMM Plot for Housing Data')\n",
        "plt.xlabel('Latitude')\n",
        "plt.ylabel('Longitude')\n",
        "plt.gca().invert_yaxis()"
      ],
      "execution_count": 24,
      "outputs": [
        {
          "output_type": "display_data",
          "data": {
            "image/png": "[encoded data removed]",
            "text/plain": [
              "<Figure size 432x288 with 1 Axes>"
            ]
          },
          "metadata": {
            "tags": []
          }
        }
      ]
    },
    {
      "cell_type": "code",
      "metadata": {
        "id": "D722-GKEii7U",
        "colab_type": "code",
        "outputId": "e8cd6cd9-a312-4b03-ee79-3313d4cd98db",
        "colab": {
          "base_uri": "https://localhost:8080/",
          "height": 34
        }
      },
      "source": [
        "score = silhouette_score (housing_data_location, housing_gmm_label, metric='euclidean')\n",
        "\n",
        "print (\"GMM: n_clusters = {}, silhouette score is {})\".format(3, score))"
      ],
      "execution_count": 25,
      "outputs": [
        {
          "output_type": "stream",
          "text": [
            "GMM: n_clusters = 3, silhouette score is 0.44290238482163635)\n"
          ],
          "name": "stdout"
        }
      ]
    },
    {
      "cell_type": "markdown",
      "metadata": {
        "id": "mtIOd7aGcLAB",
        "colab_type": "text"
      },
      "source": [
        "1.   K-means Clusterning  - n_clusters = 3, silhouette score is 0.4440246433094136)\n",
        "2.   GMM Clusterning - n_clusters = 3, silhouette score is 0.44180902297648)"
      ]
    },
    {
      "cell_type": "markdown",
      "metadata": {
        "id": "-TuJcPCui91a",
        "colab_type": "text"
      },
      "source": [
        "###Silhouette analysis \n",
        "\n",
        "**Silhouette analysis** is used to determine the degree of separation between clusters<br>\n",
        "If it is 0 –> the sample is very close to the neighboring clusters.<br>\n",
        "It it is 1 –> the sample is far away from the neighboring clusters.<br>\n",
        "It it is -1 –> the sample is assigned to the wrong clusters.<br>\n",
        "\n",
        "We want the coefficients to be as big as possible and close to 1 to have a good clusters.\n",
        "Kmean and GMM have similar result, but Kmean has slightly larger coefficient than GMM. \n",
        "Kmean is better fit for our dataset.\n"
      ]
    },
    {
      "cell_type": "markdown",
      "metadata": {
        "id": "hAU0gFOTdGer",
        "colab_type": "text"
      },
      "source": [
        "### **6.3. What does each cluster mean? How do they contribute to your Data Narrative?**"
      ]
    },
    {
      "cell_type": "code",
      "metadata": {
        "id": "4OZp0W0TdOX4",
        "colab_type": "code",
        "colab": {}
      },
      "source": [
        "# Answer"
      ],
      "execution_count": 0,
      "outputs": []
    },
    {
      "cell_type": "markdown",
      "metadata": {
        "id": "a4FsjgvMdRqp",
        "colab_type": "text"
      },
      "source": [
        "###**6.4. Measure goodness of your clusters (e.g., BICs)**"
      ]
    },
    {
      "cell_type": "code",
      "metadata": {
        "id": "_alEhylTdYIn",
        "colab_type": "code",
        "colab": {}
      },
      "source": [
        "# answer"
      ],
      "execution_count": 0,
      "outputs": []
    },
    {
      "cell_type": "markdown",
      "metadata": {
        "id": "8HtAvoobeDq2",
        "colab_type": "text"
      },
      "source": [
        "## **7.Supervised Training Preparation: Data Curation : label your data set**"
      ]
    },
    {
      "cell_type": "code",
      "metadata": {
        "id": "GdsqoAbTOXbe",
        "colab_type": "code",
        "outputId": "d17574c6-2934-4298-f103-eb40c20af3ff",
        "colab": {
          "base_uri": "https://localhost:8080/",
          "height": 1000
        }
      },
      "source": [
        "def set_day_label(day_of_week):\n",
        "    if 'Monday' in day_of_week:\n",
        "        return 1\n",
        "    if 'Tuesday' in day_of_week:\n",
        "        return 2\n",
        "    if 'Wednesday' in day_of_week:\n",
        "        return 3\n",
        "    if 'Thursday' in day_of_week:\n",
        "        return 4\n",
        "    if 'Friday' in day_of_week:\n",
        "        return 5\n",
        "    if 'Saturday' in day_of_week:\n",
        "        return 6\n",
        "    if 'Sunday' in day_of_week:\n",
        "        return 7\n",
        "\n",
        "    \n",
        "crime_data['DayLabel'] = crime_data['DayOfWeek'].apply(lambda x: set_day_label(x))\n",
        "# print(crime_data['Resolution'].unique())\n",
        "\n",
        "from sklearn import preprocessing\n",
        "le = preprocessing.LabelEncoder()\n",
        "\n",
        "# crime_data['DayLabel'] = le.fit_transform(crime_data['DayOfWeek'])\n",
        "# for i in crime_data['DayLabel'].unique():\n",
        "#     print(str(i)+\" is reperesenting \" + crime_data[crime_data['DateLabel']==i]['DayOfWeek'].unique())\n",
        "\n",
        "crime_data['CategoryLabel'] = le.fit_transform(crime_data['Category'])\n",
        "for i in crime_data['CategoryLabel'].unique():\n",
        "    print( \"{}: {}\".format(i, crime_data[crime_data['CategoryLabel']==i]['Category'].unique()) )\n",
        "\n",
        "print('\\n')\n",
        "\n",
        "crime_data['ResolutionLabel'] = le.fit_transform(crime_data['Resolution'])\n",
        "for i in crime_data['ResolutionLabel'].unique():\n",
        "    print( \"{}: {}\".format(i, crime_data[crime_data['ResolutionLabel']==i]['Resolution'].unique()) )\n",
        "    \n",
        "print('\\n')\n",
        "\n",
        "crime_data['PdDistrictLabel'] = le.fit_transform(crime_data['PdDistrict'])\n",
        "for i in crime_data['PdDistrictLabel'].unique():\n",
        "    print( \"{}: {}\".format(i, crime_data[crime_data['PdDistrictLabel']==i]['PdDistrict'].unique()) )\n",
        "    \n",
        "crime_data.head(5)"
      ],
      "execution_count": 28,
      "outputs": [
        {
          "output_type": "stream",
          "text": [
            "45: ['warrant']\n",
            "31: ['recovered vehicle']\n",
            "26: ['missing person']\n",
            "1: ['assault']\n",
            "24: ['malicious mischief']\n",
            "32: ['robbery']\n",
            "20: ['larceny theft']\n",
            "28: ['other']\n",
            "39: ['traffic violation arrest']\n",
            "6: ['disorderly conduct']\n",
            "37: ['suspicious']\n",
            "14: ['forgery and counterfeiting']\n",
            "25: ['miscellaneous investigation']\n",
            "12: ['family offense']\n",
            "27: ['motor vehicle theft']\n",
            "8: ['drug violation']\n",
            "46: ['weapons law']\n",
            "23: ['lost property']\n",
            "3: ['burglary']\n",
            "35: ['stolen property']\n",
            "15: ['fraud']\n",
            "29: ['prostitution']\n",
            "36: ['suicide']\n",
            "4: ['civil sidewalks']\n",
            "10: ['embezzlement']\n",
            "13: ['fire report']\n",
            "0: ['arson']\n",
            "41: ['vandalism']\n",
            "5: ['courtesy report']\n",
            "43: ['vehicle misplaced']\n",
            "18: ['juvenile offenses']\n",
            "34: ['sex offense']\n",
            "38: ['traffic collision']\n",
            "42: ['vehicle impounded']\n",
            "17: ['homicide']\n",
            "21: ['liquor laws']\n",
            "30: ['rape']\n",
            "16: ['gambling']\n",
            "7: ['driving under the influence']\n",
            "44: ['vehicle theft']\n",
            "9: ['drunkenness']\n",
            "40: ['trespass']\n",
            "33: ['runaway']\n",
            "2: ['bribery']\n",
            "19: ['kidnapping']\n",
            "11: ['extortion']\n",
            "22: ['loitering']\n",
            "\n",
            "\n",
            "2: ['cite or arrest adult']\n",
            "16: ['open or active']\n",
            "19: ['unfounded']\n",
            "3: ['cite or arrest juvenile']\n",
            "9: ['exceptional juvenile']\n",
            "7: ['exceptional adult']\n",
            "0: ['arrest, booked']\n",
            "14: ['none']\n",
            "8: ['exceptional clearance']\n",
            "10: ['juvenile booked']\n",
            "4: ['cleared-contact juvenile for more info']\n",
            "12: ['juvenile diverted']\n",
            "1: ['arrest, cited']\n",
            "15: ['not prosecuted']\n",
            "13: ['located']\n",
            "17: ['prosecuted for lesser offense']\n",
            "11: ['juvenile cited']\n",
            "18: ['psychopathic case']\n",
            "5: ['complainant refuses to prosecute']\n",
            "6: ['district attorney refuses to prosecute']\n",
            "\n",
            "\n",
            "2: ['ingleside']\n",
            "6: ['richmond']\n",
            "8: ['taraval']\n",
            "9: ['tenderloin']\n",
            "4: ['northern']\n",
            "7: ['southern']\n",
            "0: ['bayview']\n",
            "1: ['central']\n",
            "3: ['mission']\n",
            "5: ['park']\n"
          ],
          "name": "stdout"
        },
        {
          "output_type": "execute_result",
          "data": {
            "text/html": [
              "<div>\n",
              "<style scoped>\n",
              "    .dataframe tbody tr th:only-of-type {\n",
              "        vertical-align: middle;\n",
              "    }\n",
              "\n",
              "    .dataframe tbody tr th {\n",
              "        vertical-align: top;\n",
              "    }\n",
              "\n",
              "    .dataframe thead th {\n",
              "        text-align: right;\n",
              "    }\n",
              "</style>\n",
              "<table border=\"1\" class=\"dataframe\">\n",
              "  <thead>\n",
              "    <tr style=\"text-align: right;\">\n",
              "      <th></th>\n",
              "      <th>Category</th>\n",
              "      <th>Descript</th>\n",
              "      <th>DayOfWeek</th>\n",
              "      <th>Date</th>\n",
              "      <th>Time</th>\n",
              "      <th>PdDistrict</th>\n",
              "      <th>Resolution</th>\n",
              "      <th>Address</th>\n",
              "      <th>Longitude</th>\n",
              "      <th>Latitude</th>\n",
              "      <th>datetime</th>\n",
              "      <th>Dbscan_label</th>\n",
              "      <th>KmeanLabel</th>\n",
              "      <th>GmmLabel</th>\n",
              "      <th>DayLabel</th>\n",
              "      <th>CategoryLabel</th>\n",
              "      <th>ResolutionLabel</th>\n",
              "      <th>PdDistrictLabel</th>\n",
              "    </tr>\n",
              "  </thead>\n",
              "  <tbody>\n",
              "    <tr>\n",
              "      <th>0</th>\n",
              "      <td>warrant</td>\n",
              "      <td>Warrant Arrest, Local SF Warrant</td>\n",
              "      <td>Sunday</td>\n",
              "      <td>9/29/19</td>\n",
              "      <td>11:32</td>\n",
              "      <td>ingleside</td>\n",
              "      <td>cite or arrest adult</td>\n",
              "      <td>SUNNYDALE AVE \\ SANTOS ST</td>\n",
              "      <td>-122.418283</td>\n",
              "      <td>37.712349</td>\n",
              "      <td>2019-09-29</td>\n",
              "      <td>0</td>\n",
              "      <td>2</td>\n",
              "      <td>2</td>\n",
              "      <td>7</td>\n",
              "      <td>45</td>\n",
              "      <td>2</td>\n",
              "      <td>2</td>\n",
              "    </tr>\n",
              "    <tr>\n",
              "      <th>2</th>\n",
              "      <td>recovered vehicle</td>\n",
              "      <td>Vehicle, Recovered, Auto</td>\n",
              "      <td>Sunday</td>\n",
              "      <td>9/29/19</td>\n",
              "      <td>0:30</td>\n",
              "      <td>richmond</td>\n",
              "      <td>open or active</td>\n",
              "      <td>TRANSVERSE DR \\ JOHN F KENNEDY DR</td>\n",
              "      <td>-122.479895</td>\n",
              "      <td>37.770496</td>\n",
              "      <td>2019-09-29</td>\n",
              "      <td>0</td>\n",
              "      <td>1</td>\n",
              "      <td>1</td>\n",
              "      <td>7</td>\n",
              "      <td>31</td>\n",
              "      <td>16</td>\n",
              "      <td>6</td>\n",
              "    </tr>\n",
              "    <tr>\n",
              "      <th>3</th>\n",
              "      <td>missing person</td>\n",
              "      <td>Found Person</td>\n",
              "      <td>Sunday</td>\n",
              "      <td>9/29/19</td>\n",
              "      <td>15:18</td>\n",
              "      <td>taraval</td>\n",
              "      <td>open or active</td>\n",
              "      <td>23RD AVE \\ NORIEGA ST</td>\n",
              "      <td>-122.480759</td>\n",
              "      <td>37.754051</td>\n",
              "      <td>2019-09-29</td>\n",
              "      <td>0</td>\n",
              "      <td>1</td>\n",
              "      <td>1</td>\n",
              "      <td>7</td>\n",
              "      <td>26</td>\n",
              "      <td>16</td>\n",
              "      <td>8</td>\n",
              "    </tr>\n",
              "    <tr>\n",
              "      <th>4</th>\n",
              "      <td>assault</td>\n",
              "      <td>Battery</td>\n",
              "      <td>Sunday</td>\n",
              "      <td>9/29/19</td>\n",
              "      <td>0:15</td>\n",
              "      <td>tenderloin</td>\n",
              "      <td>open or active</td>\n",
              "      <td>EDDY ST \\ LARKIN ST</td>\n",
              "      <td>-122.417529</td>\n",
              "      <td>37.783311</td>\n",
              "      <td>2019-09-29</td>\n",
              "      <td>0</td>\n",
              "      <td>0</td>\n",
              "      <td>0</td>\n",
              "      <td>7</td>\n",
              "      <td>1</td>\n",
              "      <td>16</td>\n",
              "      <td>9</td>\n",
              "    </tr>\n",
              "    <tr>\n",
              "      <th>5</th>\n",
              "      <td>assault</td>\n",
              "      <td>Battery</td>\n",
              "      <td>Sunday</td>\n",
              "      <td>9/29/19</td>\n",
              "      <td>0:15</td>\n",
              "      <td>northern</td>\n",
              "      <td>open or active</td>\n",
              "      <td>LARKIN ST \\ 09TH ST \\ MARKET ST</td>\n",
              "      <td>-122.416292</td>\n",
              "      <td>37.777494</td>\n",
              "      <td>2019-09-29</td>\n",
              "      <td>0</td>\n",
              "      <td>0</td>\n",
              "      <td>0</td>\n",
              "      <td>7</td>\n",
              "      <td>1</td>\n",
              "      <td>16</td>\n",
              "      <td>4</td>\n",
              "    </tr>\n",
              "  </tbody>\n",
              "</table>\n",
              "</div>"
            ],
            "text/plain": [
              "            Category  ... PdDistrictLabel\n",
              "0            warrant  ...               2\n",
              "2  recovered vehicle  ...               6\n",
              "3     missing person  ...               8\n",
              "4            assault  ...               9\n",
              "5            assault  ...               4\n",
              "\n",
              "[5 rows x 18 columns]"
            ]
          },
          "metadata": {
            "tags": []
          },
          "execution_count": 28
        }
      ]
    },
    {
      "cell_type": "code",
      "metadata": {
        "id": "2HpgV_3SseCV",
        "colab_type": "code",
        "outputId": "c9c2a573-9b1c-4fb6-b631-a41a1b2cad56",
        "colab": {
          "base_uri": "https://localhost:8080/",
          "height": 665
        }
      },
      "source": [
        "#.corr after data curation.\n",
        "plt.figure(figsize=(10,10))\n",
        "cor = crime_data.corr()\n",
        "sns.heatmap(cor, annot=True, cmap=plt.cm.Reds)\n",
        "plt.show()"
      ],
      "execution_count": 29,
      "outputs": [
        {
          "output_type": "display_data",
          "data": {
            "image/png": "[encoded data removed]",
            "text/plain": [
              "<Figure size 720x720 with 2 Axes>"
            ]
          },
          "metadata": {
            "tags": []
          }
        }
      ]
    },
    {
      "cell_type": "markdown",
      "metadata": {
        "id": "pIi66Fy5eW0p",
        "colab_type": "text"
      },
      "source": [
        "### **7.1. Classify Your Data Sets : Run different classification algorithms**"
      ]
    },
    {
      "cell_type": "markdown",
      "metadata": {
        "id": "RMDUcYTSe1-H",
        "colab_type": "text"
      },
      "source": [
        "\n",
        "\n",
        "1.   Random Forest Classification\n",
        "2.   Decision Tree Classification\n",
        "\n"
      ]
    },
    {
      "cell_type": "markdown",
      "metadata": {
        "id": "JIcVrarU1ese",
        "colab_type": "text"
      },
      "source": [
        "**Random Forest Classification**"
      ]
    },
    {
      "cell_type": "code",
      "metadata": {
        "id": "CqdY-bIbTeNF",
        "colab_type": "code",
        "outputId": "166fecfd-e2e0-4aeb-9343-ee41be9d7ac4",
        "colab": {
          "base_uri": "https://localhost:8080/",
          "height": 34
        }
      },
      "source": [
        "from sklearn.ensemble import RandomForestClassifier\n",
        "from sklearn.model_selection import train_test_split\n",
        "\n",
        "x_rf = crime_data[['DayLabel', 'PdDistrictLabel', 'Latitude', 'Longitude', 'ResolutionLabel']]\n",
        "y_rf = crime_data['CategoryLabel']\n",
        "\n",
        "x_train, x_test, y_train, y_test = train_test_split(x_rf, y_rf, test_size=0.3, random_state=0)\n",
        "clf_rf = RandomForestClassifier(n_estimators=50)\n",
        "clf_rf = clf_rf.fit(x_train, y_train)\n",
        "print('Score: {}'.format(clf_rf.score(x_test, y_test)))"
      ],
      "execution_count": 30,
      "outputs": [
        {
          "output_type": "stream",
          "text": [
            "Score: 0.32111301958090005\n"
          ],
          "name": "stdout"
        }
      ]
    },
    {
      "cell_type": "markdown",
      "metadata": {
        "id": "TEP361SO1ycg",
        "colab_type": "text"
      },
      "source": [
        "**Decision Tree Classfication**"
      ]
    },
    {
      "cell_type": "code",
      "metadata": {
        "id": "fGRkzU0CTip4",
        "colab_type": "code",
        "outputId": "1e688322-5675-4891-9142-05e5d4e47a4d",
        "colab": {
          "base_uri": "https://localhost:8080/",
          "height": 34
        }
      },
      "source": [
        "from sklearn.tree import DecisionTreeClassifier\n",
        "from sklearn.model_selection import train_test_split\n",
        "from sklearn import metrics\n",
        "\n",
        "x_dt = crime_data[['DayLabel', 'PdDistrictLabel', 'Latitude', 'Longitude', 'ResolutionLabel']]\n",
        "y_dt = crime_data[['CategoryLabel']]\n",
        "\n",
        "x_dt_train, x_dt_test, y_dt_train, y_dt_test = train_test_split(x_dt, y_dt, test_size=0.3, random_state=0)\n",
        "clf = DecisionTreeClassifier(criterion=\"entropy\")\n",
        "clf = clf.fit(x_dt_train, y_dt_train)\n",
        "y_pred = clf.predict(x_dt_test)\n",
        "print(\"Accuracy:\", metrics.accuracy_score(y_dt_test, y_pred))"
      ],
      "execution_count": 31,
      "outputs": [
        {
          "output_type": "stream",
          "text": [
            "Accuracy: 0.31060116798351084\n"
          ],
          "name": "stdout"
        }
      ]
    },
    {
      "cell_type": "code",
      "metadata": {
        "id": "n-2Mm-_OToep",
        "colab_type": "code",
        "outputId": "82845b57-e143-408d-def9-ea143189c3cb",
        "colab": {
          "base_uri": "https://localhost:8080/",
          "height": 272
        }
      },
      "source": [
        "crime_data['Category'].unique()\n",
        "\n",
        "def set_category_label(category):\n",
        "    vehicle_relatived = ['recovered vehicle', 'traffic violation arrest', 'motor vehicle theft', 'vehicle misplaced', 'traffic collision', 'vehicle impounded', 'driving under the influence', 'vehicle theft']\n",
        "    mischief = ['assult', 'malicious mischief', 'vandalism', 'trespass']\n",
        "    fire = ['fire report', 'arson']\n",
        "    police_involved = ['warrant', 'miscellaneous investigation', 'homicide', 'runaway']\n",
        "    property_lost = ['robbery', 'larceny theft', 'lost property', 'burglary', 'stolen property']\n",
        "    bussiness = ['bribery', 'fraud', 'embezzlement', 'extortion', 'forgery and counterfeiting']\n",
        "    missing = ['missing person', 'kidnapping']\n",
        "    liquor_drug = ['drug violation', 'loitering', 'liquor laws']\n",
        "    other_miscellaneous = ['weapons law', 'civil sidewalks', 'courtesy report', 'gambling', 'other', 'disorderly conduct', 'suspicious']\n",
        "    family = ['family offense', 'juvenile offenses', 'suicide']\n",
        "    sexual = ['prostitution', 'rape']\n",
        "    \n",
        "    if category in vehicle_relatived:\n",
        "        return 0\n",
        "    if category in mischief:\n",
        "        return 1\n",
        "    if category in fire:\n",
        "        return 2\n",
        "    if category in police_involved:\n",
        "        return 3\n",
        "    if category in property_lost:\n",
        "        return 4\n",
        "    if category in bussiness:\n",
        "        return 5\n",
        "    if category in missing:\n",
        "        return 6\n",
        "    if category in liquor_drug :\n",
        "        return 7\n",
        "    if category in other_miscellaneous:\n",
        "        return 8\n",
        "    if category in family:\n",
        "        return 9\n",
        "    if category in sexual:\n",
        "        return 10\n",
        "    return 8\n",
        "crime_data['NewCategoryLabel'] = crime_data['Category'].apply(lambda x: set_category_label(x))\n",
        "\n",
        "for i in crime_data['NewCategoryLabel'].unique():\n",
        "    print( \"{}: {}\".format(i, crime_data[crime_data['NewCategoryLabel']==i]['Category'].unique()) )\n",
        "    "
      ],
      "execution_count": 32,
      "outputs": [
        {
          "output_type": "stream",
          "text": [
            "3: ['warrant' 'miscellaneous investigation' 'homicide' 'runaway']\n",
            "0: ['recovered vehicle' 'traffic violation arrest' 'motor vehicle theft'\n",
            " 'vehicle misplaced' 'traffic collision' 'vehicle impounded'\n",
            " 'driving under the influence' 'vehicle theft']\n",
            "6: ['missing person' 'kidnapping']\n",
            "8: ['assault' 'other' 'disorderly conduct' 'suspicious' 'weapons law'\n",
            " 'civil sidewalks' 'courtesy report' 'sex offense' 'gambling'\n",
            " 'drunkenness']\n",
            "1: ['malicious mischief' 'vandalism' 'trespass']\n",
            "4: ['robbery' 'larceny theft' 'lost property' 'burglary' 'stolen property']\n",
            "5: ['forgery and counterfeiting' 'fraud' 'embezzlement' 'bribery' 'extortion']\n",
            "9: ['family offense' 'suicide' 'juvenile offenses']\n",
            "7: ['drug violation' 'liquor laws' 'loitering']\n",
            "10: ['prostitution' 'rape']\n",
            "2: ['fire report' 'arson']\n"
          ],
          "name": "stdout"
        }
      ]
    },
    {
      "cell_type": "code",
      "metadata": {
        "id": "qBwEl69ZTqiL",
        "colab_type": "code",
        "outputId": "29eba44f-a6ab-447d-bdb1-9acd79350db9",
        "colab": {
          "base_uri": "https://localhost:8080/",
          "height": 34
        }
      },
      "source": [
        "y_dt = crime_data[['NewCategoryLabel']]\n",
        "\n",
        "x_dt_train, x_dt_test, y_dt_train, y_dt_test = train_test_split(x_dt, y_dt, test_size=0.3, random_state=0)\n",
        "clf = DecisionTreeClassifier(criterion=\"entropy\")\n",
        "clf.fit(x_dt_train, y_dt_train)\n",
        "y_pred = clf.predict(x_dt_test)\n",
        "print(\"Accuracy:\", metrics.accuracy_score(y_dt_test, y_pred))\n"
      ],
      "execution_count": 33,
      "outputs": [
        {
          "output_type": "stream",
          "text": [
            "Accuracy: 0.4255444864307798\n"
          ],
          "name": "stdout"
        }
      ]
    },
    {
      "cell_type": "markdown",
      "metadata": {
        "id": "NdDO4IDPgV7V",
        "colab_type": "text"
      },
      "source": [
        "### **7.2. Measure Classification Success**"
      ]
    },
    {
      "cell_type": "markdown",
      "metadata": {
        "id": "_8tycoSPfJJO",
        "colab_type": "text"
      },
      "source": [
        "1.   Random Forest Classification - Score: 0.31999312950875985\n",
        "\n",
        "> before bucketing the  Ctegory for Decision Tree\n",
        "2.   Decision Tree Classification - Accuracy: 0.3106973548608726\n",
        "\n",
        "> after bucketing the  Ctegory for Decision Tree\n",
        "3.   Decision Tree Classification - Accuracy: 0.4253658536585366"
      ]
    },
    {
      "cell_type": "markdown",
      "metadata": {
        "id": "twmUHuSigeSZ",
        "colab_type": "text"
      },
      "source": [
        "### **7.3. What regression objectives should we have? Complete your , add to your Data Story** "
      ]
    },
    {
      "cell_type": "code",
      "metadata": {
        "id": "Vkw-rNregmIc",
        "colab_type": "code",
        "colab": {}
      },
      "source": [
        "# answer"
      ],
      "execution_count": 0,
      "outputs": []
    },
    {
      "cell_type": "markdown",
      "metadata": {
        "id": "40qqtcFcgxEy",
        "colab_type": "text"
      },
      "source": [
        "### **7.4. Run Regressions using various algorithms**"
      ]
    },
    {
      "cell_type": "markdown",
      "metadata": {
        "id": "zWLBPNafg3Lm",
        "colab_type": "text"
      },
      "source": [
        "\n",
        "\n",
        "1.   Logistic Regression\n",
        "2.   X Regression.......\n",
        "\n"
      ]
    },
    {
      "cell_type": "markdown",
      "metadata": {
        "id": "wmSzh_pV1_zd",
        "colab_type": "text"
      },
      "source": [
        "**Logistic Regression**"
      ]
    },
    {
      "cell_type": "code",
      "metadata": {
        "id": "p973QHCYBpD6",
        "colab_type": "code",
        "outputId": "9fb1488b-a65e-4f85-fe52-dcbaeffe983f",
        "colab": {
          "base_uri": "https://localhost:8080/",
          "height": 122
        }
      },
      "source": [
        "from sklearn.linear_model import LogisticRegression\n",
        "x_lgr = crime_data[['DayLabel', 'PdDistrictLabel', 'Latitude', 'Longitude', 'ResolutionLabel']]\n",
        "y_lgr = crime_data['CategoryLabel']\n",
        "\n",
        "x_lgr_train, x_lgr_test, y_lgr_train, y_lgr_test = train_test_split(x_lgr, y_lgr, test_size=0.3, random_state=0)\n",
        "clf = LogisticRegression()\n",
        "clf.fit(x_lgr,y_lgr)\n",
        "y_lgr_pred = clf.predict(x_lgr_test)\n",
        "print(\"Accuracy:\", metrics.accuracy_score(y_lgr_test,y_lgr_pred))"
      ],
      "execution_count": 35,
      "outputs": [
        {
          "output_type": "stream",
          "text": [
            "/usr/local/lib/python3.6/dist-packages/sklearn/linear_model/logistic.py:432: FutureWarning: Default solver will be changed to 'lbfgs' in 0.22. Specify a solver to silence this warning.\n",
            "  FutureWarning)\n",
            "/usr/local/lib/python3.6/dist-packages/sklearn/linear_model/logistic.py:469: FutureWarning: Default multi_class will be changed to 'auto' in 0.22. Specify the multi_class option to silence this warning.\n",
            "  \"this warning.\", FutureWarning)\n"
          ],
          "name": "stderr"
        },
        {
          "output_type": "stream",
          "text": [
            "Accuracy: 0.3546616283064239\n"
          ],
          "name": "stdout"
        }
      ]
    },
    {
      "cell_type": "markdown",
      "metadata": {
        "id": "divYawJ3EROh",
        "colab_type": "text"
      },
      "source": [
        "**Linear Regression**"
      ]
    },
    {
      "cell_type": "code",
      "metadata": {
        "id": "Ej0WajfP_wz5",
        "colab_type": "code",
        "colab": {}
      },
      "source": [
        "# from math import radians, cos, sin, asin, sqrt\n",
        "# from scipy.spatial.distance import pdist, squareform\n",
        "\n",
        "# def haversine(lonlat1, lonlat2):\n",
        "#     \"\"\"\n",
        "#     Calculate the great circle distance between two points \n",
        "#     on the earth (specified in decimal degrees)\n",
        "#     \"\"\"\n",
        "#     # convert decimal degrees to radians \n",
        "#     lat1, lon1 = lonlat1\n",
        "#     lat2, lon2 = lonlat2\n",
        "#     lon1, lat1, lon2, lat2 = map(radians, [lon1, lat1, lon2, lat2])\n",
        "\n",
        "#     # haversine formula \n",
        "#     dlon = lon2 - lon1 \n",
        "#     dlat = lat2 - lat1 \n",
        "#     a = sin(dlat/2)**2 + cos(lat1) * cos(lat2) * sin(dlon/2)**2\n",
        "#     c = 2 * asin(sqrt(a)) \n",
        "#     r = 6371 # Radius of earth in kilometers. Use 3956 for miles\n",
        "#     return c * r\n",
        "\n",
        "# location_data = crime_data[['Longitude', 'Latitude']].values\n",
        "# distance_matrix = squareform(pdist(location_data, (lambda u,v: haversine(u,v))))\n",
        "\n",
        "\n",
        "#https://towardsdatascience.com/kmeans-clustering-for-classification-74b992405d0a\n"
      ],
      "execution_count": 0,
      "outputs": []
    },
    {
      "cell_type": "markdown",
      "metadata": {
        "id": "WBAZ6chChGVT",
        "colab_type": "text"
      },
      "source": [
        "### **7.5. Measure Success of Regressions and**"
      ]
    },
    {
      "cell_type": "markdown",
      "metadata": {
        "id": "xp3Vt_gYhJLE",
        "colab_type": "text"
      },
      "source": [
        "\n",
        "1.   Logistic Regression - Accuracy: 0.3546616283064239\n",
        "2.   X Regression......."
      ]
    },
    {
      "cell_type": "markdown",
      "metadata": {
        "id": "Bhk8ISgohRLz",
        "colab_type": "text"
      },
      "source": [
        "### **7.6. Compare Regressions in a table**"
      ]
    },
    {
      "cell_type": "markdown",
      "metadata": {
        "id": "dZKTbQlzhc_K",
        "colab_type": "text"
      },
      "source": [
        "1.   Logistic Regression - Accuracy: 0.3546616283064239\n",
        "2.   X Regression......."
      ]
    },
    {
      "cell_type": "markdown",
      "metadata": {
        "id": "MsPdkSpbAZzc",
        "colab_type": "text"
      },
      "source": [
        "time split is:\n",
        "\n",
        "\n",
        "1.   morning: 6AM - 11:59 AM\n",
        "2.   noon: 12PM -5:59 PM\n",
        "3.   evening: 6PM - 11:59PM\n",
        "4.   mid-night:1 2AM-5:59AM\n",
        "\n",
        "\n",
        "\n",
        "\n",
        "\n"
      ]
    },
    {
      "cell_type": "markdown",
      "metadata": {
        "id": "yhQOXeqtA6gf",
        "colab_type": "text"
      },
      "source": [
        ""
      ]
    }
  ]
}