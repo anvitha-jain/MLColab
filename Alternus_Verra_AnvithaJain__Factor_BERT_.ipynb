{
  "nbformat": 4,
  "nbformat_minor": 0,
  "metadata": {
    "colab": {
      "name": "Alternus_Verra_AnvithaJain_ Factor_BERT .ipynb",
      "provenance": [],
      "collapsed_sections": [],
      "include_colab_link": true
    },
    "kernelspec": {
      "name": "python3",
      "display_name": "Python 3"
    },
    "accelerator": "GPU"
  },
  "cells": [
    {
      "cell_type": "markdown",
      "metadata": {
        "id": "view-in-github",
        "colab_type": "text"
      },
      "source": [
        "<a href=\"https://colab.research.google.com/github/anvitha-jain/MLColab/blob/master/Alternus_Verra_AnvithaJain__Factor_BERT_.ipynb\" target=\"_parent\"><img src=\"https://colab.research.google.com/assets/colab-badge.svg\" alt=\"Open In Colab\"/></a>"
      ]
    },
    {
      "cell_type": "markdown",
      "metadata": {
        "id": "CqvqXlww1boC",
        "colab_type": "text"
      },
      "source": [
        "# Alternus Vera \n",
        "\n",
        "Course code : **CMPE-257** \n",
        "    \n",
        "Group name : **SEERS**\n",
        "    \n",
        "Name: **Anvitha Shubhaveer Jain** \n",
        "\n",
        "-----\n",
        "\n",
        "### Fake or Real news datset\n",
        "- Dataset has 5 columns\n",
        "\n",
        "    Column 1: the ID .\n",
        "    \n",
        "    Column 2: the label.\n",
        "    \n",
        "    Column 3: the title.\n",
        "    \n",
        "    Column 4: the text.\n",
        "  \n",
        "    Column 5: the title_vectors.\n",
        "\n",
        "### Liar Liar Pants on Fire Dataset Description \n",
        "- Taken only test dataset\n",
        "- Each file has 13 columns\n",
        "    \n",
        "    Column 1: the ID of the statement ([ID].json).\n",
        "    \n",
        "    Column 2: the statement.\n",
        "    \n",
        "    Column 3: the subject(s).\n",
        "    \n",
        "    Column 4: the speaker.\n",
        "    \n",
        "    Column 5: the speaker's job title.\n",
        "    \n",
        "    Column 6: the state info.\n",
        "    \n",
        "    Column 7: the party affiliation.\n",
        "    \n",
        "    Column 8-12: the total credit history count, including the current statement.\n",
        "    \n",
        "    Column 13: the context (venue / location of the speech or statement).\n",
        "\n",
        "### Process of My Approach \n",
        "- Load the Data\n",
        "- Distillation Process\n",
        "    - Data Cleaning and Text Preprocessing\n",
        "    - Visualization\n",
        "- **Feature 1 :** BERT\n",
        "- Vector Classification Modeling \n",
        "- Ranking and Importance\n",
        "- Merge all features and individual contributions\n",
        "- Form Polynomial Equation \n",
        "    \n",
        "\n",
        "### Feature Selection\n",
        "\n",
        "- Title, Text, Label from Fake or Real news datset\n",
        "\n",
        "- TItle  from Liar Liar test dataset\n",
        "\n",
        "\n",
        "\n",
        "### Team Contributions example:\n",
        "\n",
        "|Features  |  Member |\n",
        "|-----|-----|\n",
        "| BERT                   |  Anvitha Shubhaveer Jain |  \n",
        "\n",
        "\n",
        " \n",
        "#### Enrichment Dataset Details\n",
        "\n",
        "- Kaggle - https://www.kaggle.com/nopdev/real-and-fake-news-dataset\n",
        "\n",
        "#### Libraries Used \n",
        "\n",
        "- NLTK \n",
        "- Gensim \n",
        "- Numpy\n",
        "- Pandas\n",
        "- CSV\n",
        "- WordCloud\n",
        "- Seaborn\n",
        "- Scipy\n",
        "- Regualr Expression\n",
        "- Matplotlib\n",
        "- Sklearn \n",
        "\n",
        "\n",
        "#### What did I try and What worked? \n",
        "\n",
        "> For BERT I did data preparation and used BERT **tokenizer** and tried to load the real or fake news dataset to BERT classifier it failed as bert has certain regulation for incoming data. I used bert classification model for layering which gives me BERT specifications.Now I took the data and did preprocessing(fake or real news dataset from kaggle) according to BERT specifications, used **EDA** to augment sentences and augment it.\n",
        "\n",
        "#### What did not work?\n",
        "\n",
        "> Just the BERT algorithm was not enough to prove the improvemnet. It had to be compared with other algorithms to be validated for the results. And then had to be compared to test the accuracy with others.\n",
        "\n",
        "\n",
        "#### What alternatives did you try?\n",
        "\n",
        "> I tried data enrichment by getting additional real or fake news data from kaggle, cleaned the feature content and text columns by applying and similar cleanning logic used in the original data set, insted of amagamation I used fake or real news dataset to train the BERT model and used Liar Liar test dataset test the BERT model which gives the accuracy of 96% for the algorithm. There are 10 Epochs and  after 10 Epos it shows best accuracy and validation results.\n",
        "\n",
        "----\n",
        "\n",
        "\n",
        "\n",
        "BERT understanding and Source Code: https://github.com/google-research/bert"
      ]
    },
    {
      "cell_type": "code",
      "metadata": {
        "id": "XN2pMWPqQntb",
        "colab_type": "code",
        "outputId": "e9965919-b28b-4d8e-db6d-144384621676",
        "colab": {
          "base_uri": "https://localhost:8080/",
          "height": 122
        }
      },
      "source": [
        "from google.colab import drive\n",
        "drive.mount('/content/drive')"
      ],
      "execution_count": 0,
      "outputs": [
        {
          "output_type": "stream",
          "text": [
            "Go to this URL in a browser: https://accounts.google.com/o/oauth2/auth?client_id=947318989803-6bn6qk8qdgf4n4g3pfee6491hc0brc4i.apps.googleusercontent.com&redirect_uri=urn%3aietf%3awg%3aoauth%3a2.0%3aoob&response_type=code&scope=email%20https%3a%2f%2fwww.googleapis.com%2fauth%2fdocs.test%20https%3a%2f%2fwww.googleapis.com%2fauth%2fdrive%20https%3a%2f%2fwww.googleapis.com%2fauth%2fdrive.photos.readonly%20https%3a%2f%2fwww.googleapis.com%2fauth%2fpeopleapi.readonly\n",
            "\n",
            "Enter your authorization code:\n",
            "··········\n",
            "Mounted at /content/drive\n"
          ],
          "name": "stdout"
        }
      ]
    },
    {
      "cell_type": "markdown",
      "metadata": {
        "id": "WRkw9Wainip-",
        "colab_type": "text"
      },
      "source": [
        "BERT - it is Google’s neural network-based technique for natural language processing (NLP) pre-training called Bidirectional Encoder Representations from Transformers, or as we call it--BERT, for short. This technology enables anyone to train their own state-of-the-art question answering system. \n",
        "\n",
        "BERT helps better understand the nuances and context of words in searches and better match those queries with more relevant results. It works bi-directional which helps in context analysis.\n",
        "\n",
        "There are things that we humans understand easily that machines don’t really understand at all including search engines.\n",
        "\n",
        "Problems BERT solve are:\n",
        "- Ambiguity & Polysemy\n",
        "- Word’s Context\n",
        "\n",
        "\n",
        "\n",
        "\n"
      ]
    },
    {
      "cell_type": "markdown",
      "metadata": {
        "id": "ulvxN1DIRJKr",
        "colab_type": "text"
      },
      "source": [
        "\n",
        "# 1. Preparation"
      ]
    },
    {
      "cell_type": "markdown",
      "metadata": {
        "id": "DcME1RVjo8MQ",
        "colab_type": "text"
      },
      "source": [
        "Steps followed are\n",
        "1. Data Preperation\n",
        "2. Tokenization\n",
        "3. Data Preprocessing\n",
        "4. Google BERT\n",
        "5. comparion of results with other Algorithms.\n",
        "6. Conclusion\n"
      ]
    },
    {
      "cell_type": "markdown",
      "metadata": {
        "id": "Pe4SBzFyRLGb",
        "colab_type": "text"
      },
      "source": [
        "\n",
        "## 1.1 Set parameters"
      ]
    },
    {
      "cell_type": "code",
      "metadata": {
        "id": "7P65HMRfQ2ou",
        "colab_type": "code",
        "colab": {}
      },
      "source": [
        "## parameters Setting\n",
        "par_cased = 0 # default cased, 0 means uncased\n",
        "par_cleanup = 1 # default cleanup, 0 means non-cleanup\n",
        "par_eda = 1 # default eda, 0 means non-eda"
      ],
      "execution_count": 0,
      "outputs": []
    },
    {
      "cell_type": "code",
      "metadata": {
        "id": "NaFoZwMVQ4Uv",
        "colab_type": "code",
        "outputId": "708f8a72-ccba-4505-9342-23f4b68a002b",
        "colab": {
          "base_uri": "https://localhost:8080/",
          "height": 734
        }
      },
      "source": [
        "!pip install pytorch_pretrained_bert nlpaug bert matplotlib sklearn librosa SoundFile nltk pandas"
      ],
      "execution_count": 0,
      "outputs": [
        {
          "output_type": "stream",
          "text": [
            "Requirement already satisfied: pytorch_pretrained_bert in /usr/local/lib/python3.6/dist-packages (0.6.2)\n",
            "Requirement already satisfied: nlpaug in /usr/local/lib/python3.6/dist-packages (0.0.10)\n",
            "Requirement already satisfied: bert in /usr/local/lib/python3.6/dist-packages (2.2.0)\n",
            "Requirement already satisfied: matplotlib in /usr/local/lib/python3.6/dist-packages (3.1.1)\n",
            "Requirement already satisfied: sklearn in /usr/local/lib/python3.6/dist-packages (0.0)\n",
            "Requirement already satisfied: librosa in /usr/local/lib/python3.6/dist-packages (0.6.3)\n",
            "Requirement already satisfied: SoundFile in /usr/local/lib/python3.6/dist-packages (0.10.3.post1)\n",
            "Requirement already satisfied: nltk in /usr/local/lib/python3.6/dist-packages (3.2.5)\n",
            "Requirement already satisfied: pandas in /usr/local/lib/python3.6/dist-packages (0.25.3)\n",
            "Requirement already satisfied: requests in /usr/local/lib/python3.6/dist-packages (from pytorch_pretrained_bert) (2.21.0)\n",
            "Requirement already satisfied: boto3 in /usr/local/lib/python3.6/dist-packages (from pytorch_pretrained_bert) (1.10.18)\n",
            "Requirement already satisfied: regex in /usr/local/lib/python3.6/dist-packages (from pytorch_pretrained_bert) (2019.11.1)\n",
            "Requirement already satisfied: torch>=0.4.1 in /usr/local/lib/python3.6/dist-packages (from pytorch_pretrained_bert) (1.3.1)\n",
            "Requirement already satisfied: numpy in /usr/local/lib/python3.6/dist-packages (from pytorch_pretrained_bert) (1.17.4)\n",
            "Requirement already satisfied: tqdm in /usr/local/lib/python3.6/dist-packages (from pytorch_pretrained_bert) (4.28.1)\n",
            "Requirement already satisfied: erlastic in /usr/local/lib/python3.6/dist-packages (from bert) (2.0.0)\n",
            "Requirement already satisfied: pyparsing!=2.0.4,!=2.1.2,!=2.1.6,>=2.0.1 in /usr/local/lib/python3.6/dist-packages (from matplotlib) (2.4.5)\n",
            "Requirement already satisfied: kiwisolver>=1.0.1 in /usr/local/lib/python3.6/dist-packages (from matplotlib) (1.1.0)\n",
            "Requirement already satisfied: cycler>=0.10 in /usr/local/lib/python3.6/dist-packages (from matplotlib) (0.10.0)\n",
            "Requirement already satisfied: python-dateutil>=2.1 in /usr/local/lib/python3.6/dist-packages (from matplotlib) (2.6.1)\n",
            "Requirement already satisfied: scikit-learn in /usr/local/lib/python3.6/dist-packages (from sklearn) (0.21.3)\n",
            "Requirement already satisfied: resampy>=0.2.0 in /usr/local/lib/python3.6/dist-packages (from librosa) (0.2.2)\n",
            "Requirement already satisfied: joblib>=0.12 in /usr/local/lib/python3.6/dist-packages (from librosa) (0.14.0)\n",
            "Requirement already satisfied: numba>=0.38.0 in /usr/local/lib/python3.6/dist-packages (from librosa) (0.40.1)\n",
            "Requirement already satisfied: audioread>=2.0.0 in /usr/local/lib/python3.6/dist-packages (from librosa) (2.1.8)\n",
            "Requirement already satisfied: decorator>=3.0.0 in /usr/local/lib/python3.6/dist-packages (from librosa) (4.4.1)\n",
            "Requirement already satisfied: scipy>=1.0.0 in /usr/local/lib/python3.6/dist-packages (from librosa) (1.3.2)\n",
            "Requirement already satisfied: six>=1.3 in /usr/local/lib/python3.6/dist-packages (from librosa) (1.12.0)\n",
            "Requirement already satisfied: cffi>=1.0 in /usr/local/lib/python3.6/dist-packages (from SoundFile) (1.13.2)\n",
            "Requirement already satisfied: pytz>=2017.2 in /usr/local/lib/python3.6/dist-packages (from pandas) (2018.9)\n",
            "Requirement already satisfied: chardet<3.1.0,>=3.0.2 in /usr/local/lib/python3.6/dist-packages (from requests->pytorch_pretrained_bert) (3.0.4)\n",
            "Requirement already satisfied: urllib3<1.25,>=1.21.1 in /usr/local/lib/python3.6/dist-packages (from requests->pytorch_pretrained_bert) (1.24.3)\n",
            "Requirement already satisfied: idna<2.9,>=2.5 in /usr/local/lib/python3.6/dist-packages (from requests->pytorch_pretrained_bert) (2.8)\n",
            "Requirement already satisfied: certifi>=2017.4.17 in /usr/local/lib/python3.6/dist-packages (from requests->pytorch_pretrained_bert) (2019.9.11)\n",
            "Requirement already satisfied: s3transfer<0.3.0,>=0.2.0 in /usr/local/lib/python3.6/dist-packages (from boto3->pytorch_pretrained_bert) (0.2.1)\n",
            "Requirement already satisfied: botocore<1.14.0,>=1.13.18 in /usr/local/lib/python3.6/dist-packages (from boto3->pytorch_pretrained_bert) (1.13.18)\n",
            "Requirement already satisfied: jmespath<1.0.0,>=0.7.1 in /usr/local/lib/python3.6/dist-packages (from boto3->pytorch_pretrained_bert) (0.9.4)\n",
            "Requirement already satisfied: setuptools in /usr/local/lib/python3.6/dist-packages (from kiwisolver>=1.0.1->matplotlib) (41.6.0)\n",
            "Requirement already satisfied: llvmlite>=0.25.0dev0 in /usr/local/lib/python3.6/dist-packages (from numba>=0.38.0->librosa) (0.30.0)\n",
            "Requirement already satisfied: pycparser in /usr/local/lib/python3.6/dist-packages (from cffi>=1.0->SoundFile) (2.19)\n",
            "Requirement already satisfied: docutils<0.16,>=0.10 in /usr/local/lib/python3.6/dist-packages (from botocore<1.14.0,>=1.13.18->boto3->pytorch_pretrained_bert) (0.15.2)\n"
          ],
          "name": "stdout"
        }
      ]
    },
    {
      "cell_type": "code",
      "metadata": {
        "id": "JA39i_i-Q_cl",
        "colab_type": "code",
        "outputId": "e9b36036-eb03-4ae7-bf75-1b0f47ee4f26",
        "colab": {
          "base_uri": "https://localhost:8080/",
          "height": 119
        }
      },
      "source": [
        "from __future__ import print_function, division\n",
        "import torch\n",
        "import torch.nn as nn\n",
        "import torch.optim as optim\n",
        "from torch.optim import lr_scheduler\n",
        "import numpy as np\n",
        "import torchvision\n",
        "from torchvision import datasets, models, transforms\n",
        "import matplotlib.pyplot as plt\n",
        "import time\n",
        "import os\n",
        "import copy\n",
        "from torch.utils.data import Dataset, DataLoader\n",
        "from PIL import Image\n",
        "from random import randrange\n",
        "import torch.nn.functional as F\n",
        "from sklearn.metrics import roc_curve, auc\n",
        "import nlpaug.augmenter.char as nac\n",
        "import nlpaug.augmenter.word as naw\n",
        "import nlpaug.flow as naf\n",
        "from sklearn.pipeline import Pipeline\n",
        "from sklearn.preprocessing import StandardScaler\n",
        "from sklearn.decomposition import PCA\n",
        "from sklearn import svm\n",
        "from nlpaug.util import Action\n",
        "import pandas as pd\n",
        "import numpy as np\n",
        "import csv\n",
        "import gensim\n",
        "from sklearn.feature_extraction.text import TfidfVectorizer\n",
        "from sklearn.feature_extraction.text import CountVectorizer\n",
        "from sklearn.model_selection import train_test_split\n",
        "from sklearn.linear_model import LogisticRegression\n",
        "from sklearn.metrics import classification_report\n",
        "from sklearn.preprocessing import StandardScaler\n",
        "from nltk.stem.wordnet import WordNetLemmatizer\n",
        "from sklearn.model_selection import GridSearchCV\n",
        "from sklearn.metrics import confusion_matrix\n",
        "from nltk.stem.porter import PorterStemmer\n",
        "from sklearn import metrics\n",
        "from sklearn.metrics import roc_auc_score\n",
        "from sklearn.metrics import roc_curve\n",
        "from sklearn.pipeline import Pipeline\n",
        "from nltk.corpus import stopwords\n",
        "from string import punctuation\n",
        "import seaborn as sns\n",
        "import pandas as pd\n",
        "import numpy as np\n",
        "import nltk\n",
        "import re\n",
        "import nltk\n",
        "nltk.download('stopwords')\n",
        "nltk.download('averaged_perceptron_tagger')\n",
        "import matplotlib.pyplot as plt\n",
        "from scipy import sparse"
      ],
      "execution_count": 0,
      "outputs": [
        {
          "output_type": "stream",
          "text": [
            "[nltk_data] Downloading package stopwords to /root/nltk_data...\n",
            "[nltk_data]   Package stopwords is already up-to-date!\n",
            "[nltk_data] Downloading package averaged_perceptron_tagger to\n",
            "[nltk_data]     /root/nltk_data...\n",
            "[nltk_data]   Package averaged_perceptron_tagger is already up-to-\n",
            "[nltk_data]       date!\n"
          ],
          "name": "stdout"
        }
      ]
    },
    {
      "cell_type": "markdown",
      "metadata": {
        "id": "Bxt0ifgJRPyl",
        "colab_type": "text"
      },
      "source": [
        "## 1.2 Set tokenizer"
      ]
    },
    {
      "cell_type": "code",
      "metadata": {
        "id": "GypStE_pRUHt",
        "colab_type": "code",
        "outputId": "f8fe193d-b7df-4d7d-fab7-2bc6d1e4627b",
        "colab": {
          "base_uri": "https://localhost:8080/",
          "height": 54
        }
      },
      "source": [
        "import torch\n",
        "from pytorch_pretrained_bert import BertTokenizer, BertModel, BertForMaskedLM\n",
        "\n",
        "# OPTIONAL: if you want to have more information on what's happening, activate the logger as follows\n",
        "import logging\n",
        "logging.basicConfig(level=logging.INFO)\n",
        "\n",
        "# Load pre-trained model tokenizer (vocabulary)\n",
        "if par_cased ==1:\n",
        "    tokenizer = BertTokenizer.from_pretrained('bert-base-cased')\n",
        "else:\n",
        "    tokenizer = BertTokenizer.from_pretrained('bert-base-uncased')"
      ],
      "execution_count": 0,
      "outputs": [
        {
          "output_type": "stream",
          "text": [
            "INFO:pytorch_pretrained_bert.tokenization:loading vocabulary file https://s3.amazonaws.com/models.huggingface.co/bert/bert-base-uncased-vocab.txt from cache at /root/.pytorch_pretrained_bert/26bc1ad6c0ac742e9b52263248f6d0f00068293b33709fae12320c0e35ccfbbb.542ce4285a40d23a559526243235df47c5f75c197f04f37d1a0c124c32c9a084\n"
          ],
          "name": "stderr"
        }
      ]
    },
    {
      "cell_type": "markdown",
      "metadata": {
        "id": "PLpNul1_RYPW",
        "colab_type": "text"
      },
      "source": [
        "## 1.3 Define Bert config"
      ]
    },
    {
      "cell_type": "code",
      "metadata": {
        "id": "nWs8ACxtRdQd",
        "colab_type": "code",
        "colab": {}
      },
      "source": [
        "class BertLayerNorm(nn.Module):\n",
        "        def __init__(self, hidden_size, eps=1e-12):\n",
        "            \"\"\"Construct a layernorm module in the TF style (epsilon inside the square root).\n",
        "            \"\"\"\n",
        "            super(BertLayerNorm, self).__init__()\n",
        "            self.weight = nn.Parameter(torch.ones(hidden_size))\n",
        "            self.bias = nn.Parameter(torch.zeros(hidden_size))\n",
        "            self.variance_epsilon = eps\n",
        "\n",
        "        def forward(self, x):\n",
        "            u = x.mean(-1, keepdim=True)\n",
        "            s = (x - u).pow(2).mean(-1, keepdim=True)\n",
        "            x = (x - u) / torch.sqrt(s + self.variance_epsilon)\n",
        "            return self.weight * x + self.bias\n",
        "        \n",
        "\n",
        "class BertForSequenceClassification(nn.Module):\n",
        "    \"\"\"BERT model for classification.\n",
        "    This module is composed of the BERT model with a linear layer on top of\n",
        "    the pooled output.\n",
        "    Params:\n",
        "        `config`: a BertConfig class instance with the configuration to build a new model.\n",
        "        `num_labels`: the number of classes for the classifier. Default = 2.\n",
        "    Inputs:\n",
        "        `input_ids`: a torch.LongTensor of shape [batch_size, sequence_length]\n",
        "            with the word token indices in the vocabulary. Items in the batch should begin with the special \"CLS\" token. (see the tokens preprocessing logic in the scripts\n",
        "            `extract_features.py`, `run_classifier.py` and `run_squad.py`)\n",
        "        `token_type_ids`: an optional torch.LongTensor of shape [batch_size, sequence_length] with the token\n",
        "            types indices selected in [0, 1]. Type 0 corresponds to a `sentence A` and type 1 corresponds to\n",
        "            a `sentence B` token (see BERT paper for more details).\n",
        "        `attention_mask`: an optional torch.LongTensor of shape [batch_size, sequence_length] with indices\n",
        "            selected in [0, 1]. It's a mask to be used if the input sequence length is smaller than the max\n",
        "            input sequence length in the current batch. It's the mask that we typically use for attention when\n",
        "            a batch has varying length sentences.\n",
        "        `labels`: labels for the classification output: torch.LongTensor of shape [batch_size]\n",
        "            with indices selected in [0, ..., num_labels].\n",
        "    Outputs:\n",
        "        if `labels` is not `None`:\n",
        "            Outputs the CrossEntropy classification loss of the output with the labels.\n",
        "        if `labels` is `None`:\n",
        "            Outputs the classification logits of shape [batch_size, num_labels].\n",
        "    Example usage:\n",
        "    ```python\n",
        "    # Already been converted into WordPiece token ids\n",
        "    input_ids = torch.LongTensor([[31, 51, 99], [15, 5, 0]])\n",
        "    input_mask = torch.LongTensor([[1, 1, 1], [1, 1, 0]])\n",
        "    token_type_ids = torch.LongTensor([[0, 0, 1], [0, 1, 0]])\n",
        "    config = BertConfig(vocab_size_or_config_json_file=32000, hidden_size=768,\n",
        "        num_hidden_layers=12, num_attention_heads=12, intermediate_size=3072)\n",
        "    num_labels = 2\n",
        "    model = BertForSequenceClassification(config, num_labels)\n",
        "    logits = model(input_ids, token_type_ids, input_mask)\n",
        "    ```\n",
        "    \"\"\"\n",
        "    def __init__(self, num_labels=2):\n",
        "        super(BertForSequenceClassification, self).__init__()\n",
        "        self.num_labels = num_labels\n",
        "        if par_cased ==1:\n",
        "            self.bert = BertModel.from_pretrained('bert-base-cased')\n",
        "        else:\n",
        "            self.bert = BertModel.from_pretrained('bert-base-uncased')\n",
        "        self.dropout = nn.Dropout(config.hidden_dropout_prob)\n",
        "        self.classifier = nn.Linear(config.hidden_size, num_labels)\n",
        "        nn.init.xavier_normal_(self.classifier.weight)\n",
        "    def forward(self, input_ids, token_type_ids=None, attention_mask=None, labels=None):\n",
        "        _, pooled_output = self.bert(input_ids, token_type_ids, attention_mask, output_all_encoded_layers=False)\n",
        "        pooled_output = self.dropout(pooled_output)\n",
        "        logits = self.classifier(pooled_output)\n",
        "\n",
        "        return logits\n",
        "    def freeze_bert_encoder(self):\n",
        "        for param in self.bert.parameters():\n",
        "            param.requires_grad = False\n",
        "    \n",
        "    def unfreeze_bert_encoder(self):\n",
        "        for param in self.bert.parameters():\n",
        "            param.requires_grad = True"
      ],
      "execution_count": 0,
      "outputs": []
    },
    {
      "cell_type": "code",
      "metadata": {
        "id": "0r5o7Q4BT4bE",
        "colab_type": "code",
        "colab": {}
      },
      "source": [
        "# !pip install pytorch_pretrained_bert pytorch-nlp"
      ],
      "execution_count": 0,
      "outputs": []
    },
    {
      "cell_type": "code",
      "metadata": {
        "id": "f0MGLCeLR5u5",
        "colab_type": "code",
        "outputId": "f9ad035c-4e80-426d-cee0-e6a8c7a8a9e3",
        "colab": {
          "base_uri": "https://localhost:8080/",
          "height": 309
        }
      },
      "source": [
        "from pytorch_pretrained_bert import BertConfig\n",
        "\n",
        "config = BertConfig(vocab_size_or_config_json_file=32000, hidden_size=768,\n",
        "        num_hidden_layers=12, num_attention_heads=12, intermediate_size=3072)\n",
        "\n",
        "num_labels = 2\n",
        "model = BertForSequenceClassification(num_labels)\n",
        "\n",
        "# Convert inputs to PyTorch tensors\n",
        "# tokens_tensor = torch.tensor([tokenizer.convert_tokens_to_ids(zz)])\n",
        "\n",
        "# logits = model(tokens_tensor)"
      ],
      "execution_count": 0,
      "outputs": [
        {
          "output_type": "stream",
          "text": [
            "INFO:pytorch_pretrained_bert.modeling:loading archive file https://s3.amazonaws.com/models.huggingface.co/bert/bert-base-uncased.tar.gz from cache at /root/.pytorch_pretrained_bert/9c41111e2de84547a463fd39217199738d1e3deb72d4fec4399e6e241983c6f0.ae3cef932725ca7a30cdcb93fc6e09150a55e2a130ec7af63975a16c153ae2ba\n",
            "INFO:pytorch_pretrained_bert.modeling:extracting archive file /root/.pytorch_pretrained_bert/9c41111e2de84547a463fd39217199738d1e3deb72d4fec4399e6e241983c6f0.ae3cef932725ca7a30cdcb93fc6e09150a55e2a130ec7af63975a16c153ae2ba to temp dir /tmp/tmp2y3uiojv\n",
            "INFO:pytorch_pretrained_bert.modeling:Model config {\n",
            "  \"attention_probs_dropout_prob\": 0.1,\n",
            "  \"hidden_act\": \"gelu\",\n",
            "  \"hidden_dropout_prob\": 0.1,\n",
            "  \"hidden_size\": 768,\n",
            "  \"initializer_range\": 0.02,\n",
            "  \"intermediate_size\": 3072,\n",
            "  \"max_position_embeddings\": 512,\n",
            "  \"num_attention_heads\": 12,\n",
            "  \"num_hidden_layers\": 12,\n",
            "  \"type_vocab_size\": 2,\n",
            "  \"vocab_size\": 30522\n",
            "}\n",
            "\n"
          ],
          "name": "stderr"
        }
      ]
    },
    {
      "cell_type": "markdown",
      "metadata": {
        "id": "M3uNvttDUn38",
        "colab_type": "text"
      },
      "source": [
        "# 2. Dataset Processing"
      ]
    },
    {
      "cell_type": "code",
      "metadata": {
        "id": "ut0jdjPSUrQ0",
        "colab_type": "code",
        "outputId": "a245921a-b160-4020-fdf9-d485e2062720",
        "colab": {
          "base_uri": "https://localhost:8080/",
          "height": 204
        }
      },
      "source": [
        "import pandas as pd\n",
        "\n",
        "dat = pd.read_csv('/content/drive/My Drive/AlternusVeraDataSets2019/Seers/AnvithaJain/fake_or_real_news.csv')\n",
        "dat.head()"
      ],
      "execution_count": 0,
      "outputs": [
        {
          "output_type": "execute_result",
          "data": {
            "text/html": [
              "<div>\n",
              "<style scoped>\n",
              "    .dataframe tbody tr th:only-of-type {\n",
              "        vertical-align: middle;\n",
              "    }\n",
              "\n",
              "    .dataframe tbody tr th {\n",
              "        vertical-align: top;\n",
              "    }\n",
              "\n",
              "    .dataframe thead th {\n",
              "        text-align: right;\n",
              "    }\n",
              "</style>\n",
              "<table border=\"1\" class=\"dataframe\">\n",
              "  <thead>\n",
              "    <tr style=\"text-align: right;\">\n",
              "      <th></th>\n",
              "      <th>Unnamed: 0</th>\n",
              "      <th>title</th>\n",
              "      <th>text</th>\n",
              "      <th>label</th>\n",
              "      <th>title_vectors</th>\n",
              "    </tr>\n",
              "  </thead>\n",
              "  <tbody>\n",
              "    <tr>\n",
              "      <th>0</th>\n",
              "      <td>8476</td>\n",
              "      <td>You Can Smell Hillary’s Fear</td>\n",
              "      <td>Daniel Greenfield, a Shillman Journalism Fello...</td>\n",
              "      <td>FAKE</td>\n",
              "      <td>[ 1.1533764e-02  4.2144405e-03  1.9692603e-02 ...</td>\n",
              "    </tr>\n",
              "    <tr>\n",
              "      <th>1</th>\n",
              "      <td>10294</td>\n",
              "      <td>Watch The Exact Moment Paul Ryan Committed Pol...</td>\n",
              "      <td>Google Pinterest Digg Linkedin Reddit Stumbleu...</td>\n",
              "      <td>FAKE</td>\n",
              "      <td>[ 0.11267698  0.02518966 -0.00212591  0.021095...</td>\n",
              "    </tr>\n",
              "    <tr>\n",
              "      <th>2</th>\n",
              "      <td>3608</td>\n",
              "      <td>Kerry to go to Paris in gesture of sympathy</td>\n",
              "      <td>U.S. Secretary of State John F. Kerry said Mon...</td>\n",
              "      <td>REAL</td>\n",
              "      <td>[ 0.04253004  0.04300297  0.01848392  0.048672...</td>\n",
              "    </tr>\n",
              "    <tr>\n",
              "      <th>3</th>\n",
              "      <td>10142</td>\n",
              "      <td>Bernie supporters on Twitter erupt in anger ag...</td>\n",
              "      <td>— Kaydee King (@KaydeeKing) November 9, 2016 T...</td>\n",
              "      <td>FAKE</td>\n",
              "      <td>[ 0.10801624  0.11583211  0.02874823  0.061732...</td>\n",
              "    </tr>\n",
              "    <tr>\n",
              "      <th>4</th>\n",
              "      <td>875</td>\n",
              "      <td>The Battle of New York: Why This Primary Matters</td>\n",
              "      <td>It's primary day in New York and front-runners...</td>\n",
              "      <td>REAL</td>\n",
              "      <td>[ 1.69016439e-02  7.13498285e-03 -7.81233795e-...</td>\n",
              "    </tr>\n",
              "  </tbody>\n",
              "</table>\n",
              "</div>"
            ],
            "text/plain": [
              "   Unnamed: 0  ...                                      title_vectors\n",
              "0        8476  ...  [ 1.1533764e-02  4.2144405e-03  1.9692603e-02 ...\n",
              "1       10294  ...  [ 0.11267698  0.02518966 -0.00212591  0.021095...\n",
              "2        3608  ...  [ 0.04253004  0.04300297  0.01848392  0.048672...\n",
              "3       10142  ...  [ 0.10801624  0.11583211  0.02874823  0.061732...\n",
              "4         875  ...  [ 1.69016439e-02  7.13498285e-03 -7.81233795e-...\n",
              "\n",
              "[5 rows x 5 columns]"
            ]
          },
          "metadata": {
            "tags": []
          },
          "execution_count": 29
        }
      ]
    },
    {
      "cell_type": "markdown",
      "metadata": {
        "id": "0TCp9U5cU7jl",
        "colab_type": "text"
      },
      "source": [
        "## 2.1 Convert label into binary text"
      ]
    },
    {
      "cell_type": "code",
      "metadata": {
        "id": "gQJf6LayU4iW",
        "colab_type": "code",
        "outputId": "251e36dc-412a-4e21-ddb0-79998a4c0f89",
        "colab": {
          "base_uri": "https://localhost:8080/",
          "height": 204
        }
      },
      "source": [
        "dat = dat.drop(columns=['Unnamed: 0', 'title_vectors'])\n",
        "for i in range(len(dat)):\n",
        "    if dat.loc[i, 'label'] == \"REAL\": #REAL equal 0\n",
        "        dat.loc[i, 'label'] = 0\n",
        "    elif dat.loc[i, 'label'] == \"FAKE\": #FAKE equal 1\n",
        "        dat.loc[i, 'label'] = 1\n",
        "    if dat.loc[i, 'text'] == \"\":\n",
        "        dat = dat.drop([i])\n",
        "dat.head()"
      ],
      "execution_count": 0,
      "outputs": [
        {
          "output_type": "execute_result",
          "data": {
            "text/html": [
              "<div>\n",
              "<style scoped>\n",
              "    .dataframe tbody tr th:only-of-type {\n",
              "        vertical-align: middle;\n",
              "    }\n",
              "\n",
              "    .dataframe tbody tr th {\n",
              "        vertical-align: top;\n",
              "    }\n",
              "\n",
              "    .dataframe thead th {\n",
              "        text-align: right;\n",
              "    }\n",
              "</style>\n",
              "<table border=\"1\" class=\"dataframe\">\n",
              "  <thead>\n",
              "    <tr style=\"text-align: right;\">\n",
              "      <th></th>\n",
              "      <th>title</th>\n",
              "      <th>text</th>\n",
              "      <th>label</th>\n",
              "    </tr>\n",
              "  </thead>\n",
              "  <tbody>\n",
              "    <tr>\n",
              "      <th>0</th>\n",
              "      <td>You Can Smell Hillary’s Fear</td>\n",
              "      <td>Daniel Greenfield, a Shillman Journalism Fello...</td>\n",
              "      <td>1</td>\n",
              "    </tr>\n",
              "    <tr>\n",
              "      <th>1</th>\n",
              "      <td>Watch The Exact Moment Paul Ryan Committed Pol...</td>\n",
              "      <td>Google Pinterest Digg Linkedin Reddit Stumbleu...</td>\n",
              "      <td>1</td>\n",
              "    </tr>\n",
              "    <tr>\n",
              "      <th>2</th>\n",
              "      <td>Kerry to go to Paris in gesture of sympathy</td>\n",
              "      <td>U.S. Secretary of State John F. Kerry said Mon...</td>\n",
              "      <td>0</td>\n",
              "    </tr>\n",
              "    <tr>\n",
              "      <th>3</th>\n",
              "      <td>Bernie supporters on Twitter erupt in anger ag...</td>\n",
              "      <td>— Kaydee King (@KaydeeKing) November 9, 2016 T...</td>\n",
              "      <td>1</td>\n",
              "    </tr>\n",
              "    <tr>\n",
              "      <th>4</th>\n",
              "      <td>The Battle of New York: Why This Primary Matters</td>\n",
              "      <td>It's primary day in New York and front-runners...</td>\n",
              "      <td>0</td>\n",
              "    </tr>\n",
              "  </tbody>\n",
              "</table>\n",
              "</div>"
            ],
            "text/plain": [
              "                                               title  ... label\n",
              "0                       You Can Smell Hillary’s Fear  ...     1\n",
              "1  Watch The Exact Moment Paul Ryan Committed Pol...  ...     1\n",
              "2        Kerry to go to Paris in gesture of sympathy  ...     0\n",
              "3  Bernie supporters on Twitter erupt in anger ag...  ...     1\n",
              "4   The Battle of New York: Why This Primary Matters  ...     0\n",
              "\n",
              "[5 rows x 3 columns]"
            ]
          },
          "metadata": {
            "tags": []
          },
          "execution_count": 13
        }
      ]
    },
    {
      "cell_type": "markdown",
      "metadata": {
        "id": "uaVxenSZVEhI",
        "colab_type": "text"
      },
      "source": [
        "## 2.2 Combine the title and text"
      ]
    },
    {
      "cell_type": "code",
      "metadata": {
        "id": "4fbC2V2vVBnh",
        "colab_type": "code",
        "outputId": "c21fc3e1-b759-4e6c-f437-6c1384142df9",
        "colab": {
          "base_uri": "https://localhost:8080/",
          "height": 34
        }
      },
      "source": [
        "dat_plus = dat.copy()\n",
        "dat_plus['title_text']=dat['title']+'. '+dat['text']\n",
        "dat_plus = dat_plus.drop(columns=['title', 'text'])"
      ],
      "execution_count": 0,
      "outputs": [
        {
          "output_type": "stream",
          "text": [
            "INFO:numexpr.utils:NumExpr defaulting to 2 threads.\n"
          ],
          "name": "stderr"
        }
      ]
    },
    {
      "cell_type": "code",
      "metadata": {
        "id": "3vI1-NdPVMKF",
        "colab_type": "code",
        "outputId": "a2da6bb0-b0db-47fe-de1e-cde1372cb442",
        "colab": {
          "base_uri": "https://localhost:8080/",
          "height": 221
        }
      },
      "source": [
        "dat_plus['title_text']"
      ],
      "execution_count": 0,
      "outputs": [
        {
          "output_type": "execute_result",
          "data": {
            "text/plain": [
              "0       You Can Smell Hillary’s Fear. Daniel Greenfiel...\n",
              "1       Watch The Exact Moment Paul Ryan Committed Pol...\n",
              "2       Kerry to go to Paris in gesture of sympathy. U...\n",
              "3       Bernie supporters on Twitter erupt in anger ag...\n",
              "4       The Battle of New York: Why This Primary Matte...\n",
              "                              ...                        \n",
              "6330    State Department says it can't find emails fro...\n",
              "6331    The ‘P’ in PBS Should Stand for ‘Plutocratic’ ...\n",
              "6332    Anti-Trump Protesters Are Tools of the Oligarc...\n",
              "6333    In Ethiopia, Obama seeks progress on peace, se...\n",
              "6334    Jeb Bush Is Suddenly Attacking Trump. Here's W...\n",
              "Name: title_text, Length: 6335, dtype: object"
            ]
          },
          "metadata": {
            "tags": []
          },
          "execution_count": 15
        }
      ]
    },
    {
      "cell_type": "markdown",
      "metadata": {
        "id": "JEXR6y5IVVaH",
        "colab_type": "text"
      },
      "source": [
        "## 2.3 Use regular expression to drop non-sentence"
      ]
    },
    {
      "cell_type": "code",
      "metadata": {
        "id": "-FvkQSulVQa0",
        "colab_type": "code",
        "colab": {}
      },
      "source": [
        "import re\n",
        "def cleanup(text):\n",
        "    # print(type(text))\n",
        "    if par_cased == 0: # transfer into lower text if par_cased is false\n",
        "        text = text.lower()\n",
        "    text = re.sub(r'http[s]?://(?:[a-zA-Z]|[0-9]|[$-_@.&+]|[!*\\(\\),]|(?:%[0-9a-fA-F][0-9a-fA-F]))+','',text) # drop http[s]://*\n",
        "    text = re.sub(u\"\\\\{.*?}|\\\\[.*?]\",'',text) # drop [*]\n",
        "    text = re.sub(u\"\\(\\@.*?\\s\", '', text) # drop something like (@EP_President)\n",
        "    text = re.sub(u\"\\@.*?\\s\", '', text) # drop soething liek @EP_President\n",
        "    text = re.sub(u\"\\#.*?\\s\", '', text) # drop something like #EP_President (maybe hashtag)\n",
        "    text = re.sub(u\"\\© .*?\\s\", '', text) # drop something like © EP_President\n",
        "    text = re.sub(r'pic.tw(?:[a-zA-Z]|[0-9]|[$-_@.&+#]|[!*\\(\\),]|(?:%[0-9a-fA-F][0-9a-fA-F]))+','',text) # drop pic.twitter.com/*\n",
        "    text = re.sub(u\"\\*\\*\", '', text) # drop something like **Want FOX News First * in your inbox every day? Sign up here.**\n",
        "    text = re.sub(u\"|•|☮️|💚|🌍|😍|♦|☢\", '', text) # drop something like  and • etc\n",
        "    return(text)"
      ],
      "execution_count": 0,
      "outputs": []
    },
    {
      "cell_type": "markdown",
      "metadata": {
        "id": "9CaX2lBiVaNu",
        "colab_type": "text"
      },
      "source": [
        "## 2.4 Use Easy Data Augmentation techniques (EDA) method to augment the text"
      ]
    },
    {
      "cell_type": "markdown",
      "metadata": {
        "id": "ZRhW766CV9wL",
        "colab_type": "text"
      },
      "source": [
        "EDA consists of four simple operations that do a surprisingly good job at preventing overfitting and helping train more robust models. Here they are:\n",
        "\n",
        "- Synonym Replacement: Randomly choose n words from the sentence that are not stop words. Replace each of these words with one of its synonyms chosen at random.\n",
        "\n",
        "- Random Insertion: Find a random synonym of a random word in the sentence that is not a stop word. Insert that synonym into a random position in the sentence. Do this n times.\n",
        "\n",
        "- Random Swap: Randomly choose two words in the sentence and swap their positions. Do this n times.\n",
        "\n",
        "- Random Deletion: Randomly remove each word in the sentence with probability p."
      ]
    },
    {
      "cell_type": "code",
      "metadata": {
        "id": "GE5P1xsuVe77",
        "colab_type": "code",
        "outputId": "69921641-4ab0-45cb-c107-13649a2f9dbc",
        "colab": {
          "base_uri": "https://localhost:8080/",
          "height": 68
        }
      },
      "source": [
        "import nlpaug.augmenter.char as nac\n",
        "# import nlpaug.augmenter.word as naw\n",
        "import nlpaug.augmenter.sentence as nas\n",
        "import nlpaug.flow as nafc\n",
        "\n",
        "from nlpaug.util import Action\n",
        "import nltk\n",
        "nltk.download('punkt')"
      ],
      "execution_count": 0,
      "outputs": [
        {
          "output_type": "stream",
          "text": [
            "[nltk_data] Downloading package punkt to /root/nltk_data...\n",
            "[nltk_data]   Package punkt is already up-to-date!\n"
          ],
          "name": "stdout"
        },
        {
          "output_type": "execute_result",
          "data": {
            "text/plain": [
              "True"
            ]
          },
          "metadata": {
            "tags": []
          },
          "execution_count": 17
        }
      ]
    },
    {
      "cell_type": "code",
      "metadata": {
        "id": "Bg_XX5exp8aV",
        "colab_type": "code",
        "colab": {}
      },
      "source": [
        ""
      ],
      "execution_count": 0,
      "outputs": []
    },
    {
      "cell_type": "code",
      "metadata": {
        "id": "7XLj6AdDVaeD",
        "colab_type": "code",
        "colab": {}
      },
      "source": [
        "\n",
        "# if par_cased ==1:\n",
        "#     aug = naf.Sequential([\n",
        "#         naw.BertAug(action=\"substitute\", aug_p=0.8, aug_n=20,model_path='bert-base-cased',tokenizer_path='bert-base-cased'),\n",
        "#         naw.BertAug(action=\"insert\", aug_p=0.1)\n",
        "#     ])\n",
        "# else:\n",
        "#     aug = naf.Sequential([\n",
        "#         naw.BertAug(action=\"substitute\", aug_p=0.8, aug_n=20,model_path='bert-base-uncased',tokenizer_path='bert-base-uncased'),\n",
        "#         naw.BertAug(action=\"insert\", aug_p=0.1)\n",
        "#     ])\n",
        "\n",
        "# def aug_text(text):\n",
        "#     text = aug.augment(text)\n",
        "#     return(text)\n",
        "from nltk.tokenize import sent_tokenize\n",
        "def sentence_token_nltk(text):\n",
        "    sent_tokenize_list = sent_tokenize(text)\n",
        "    return sent_tokenize_list\n",
        "def eda_text(text):\n",
        "    if len(text) < 2:\n",
        "        return(text)\n",
        "    # split text into sentences\n",
        "    text = sentence_token_nltk(text)\n",
        "    if len(text) <= 1:\n",
        "        return(text)\n",
        "    if len(text) == 2:\n",
        "        for i in range(len(text)):\n",
        "            if i == 0:\n",
        "                tmp_text = text[i]\n",
        "            else:\n",
        "                tmp_text += text[i]\n",
        "        return(tmp_text)\n",
        "    # operate prior 3 sentences\n",
        "    for i in range(3):\n",
        "        if i == 0:\n",
        "            tmp_text = text[i]\n",
        "        else:\n",
        "            tmp_text += text[i]\n",
        "    zz = tokenizer.tokenize(tmp_text)\n",
        "    # operate proper sentences\n",
        "    # if len(zz) <= 500:\n",
        "    # #print(len(zz))\n",
        "    #     tmp_text = aug_text(tmp_text)\n",
        "    # conbine prior 3 sentences and rest sentences\n",
        "    for j in range(len(text)-3):\n",
        "        tmp_text += text[j+3]\n",
        "    return(tmp_text)"
      ],
      "execution_count": 0,
      "outputs": []
    },
    {
      "cell_type": "code",
      "metadata": {
        "id": "CXvF8KbSbFNg",
        "colab_type": "code",
        "outputId": "68f36030-f56e-46ad-e9df-5c47d7f9be3c",
        "colab": {
          "base_uri": "https://localhost:8080/",
          "height": 1000
        }
      },
      "source": [
        "if par_eda == 1: # use eda to operate sentences when par_eda is true\n",
        "  for i in range(len(dat_plus['title_text'])):\n",
        "      if i%6 == 1:       \n",
        "          print(i)\n",
        "          dat_plus['title_text'][i] = copy.deepcopy(eda_text(dat_plus['title_text'][i]))\n",
        "          dat_plus['title_text'][i] = \"\".join(dat_plus['title_text'][i])"
      ],
      "execution_count": 0,
      "outputs": [
        {
          "output_type": "stream",
          "text": [
            "1\n",
            "7\n",
            "13\n",
            "19\n",
            "25\n",
            "31\n",
            "37\n",
            "43\n",
            "49\n",
            "55\n",
            "61\n",
            "67\n",
            "73\n",
            "79\n",
            "85\n",
            "91\n",
            "97\n",
            "103\n",
            "109\n",
            "115\n",
            "121\n",
            "127\n",
            "133\n",
            "139\n",
            "145\n",
            "151\n",
            "157\n",
            "163\n",
            "169\n",
            "175\n",
            "181\n",
            "187\n",
            "193\n",
            "199\n",
            "205\n",
            "211\n",
            "217\n",
            "223\n",
            "229\n",
            "235\n",
            "241\n",
            "247\n",
            "253\n",
            "259\n",
            "265\n",
            "271\n",
            "277\n",
            "283\n",
            "289\n",
            "295\n",
            "301\n",
            "307\n",
            "313\n",
            "319\n",
            "325\n",
            "331\n",
            "337\n",
            "343\n",
            "349\n",
            "355\n",
            "361\n",
            "367\n",
            "373\n",
            "379\n",
            "385\n",
            "391\n",
            "397\n",
            "403\n",
            "409\n",
            "415\n",
            "421\n",
            "427\n",
            "433\n",
            "439\n",
            "445\n",
            "451\n",
            "457\n",
            "463\n",
            "469\n",
            "475\n",
            "481\n",
            "487\n",
            "493\n",
            "499\n",
            "505\n",
            "511\n",
            "517\n",
            "523\n",
            "529\n",
            "535\n",
            "541\n",
            "547\n",
            "553\n",
            "559\n",
            "565\n",
            "571\n",
            "577\n",
            "583\n",
            "589\n",
            "595\n",
            "601\n",
            "607\n",
            "613\n",
            "619\n",
            "625\n",
            "631\n",
            "637\n",
            "643\n",
            "649\n",
            "655\n",
            "661\n",
            "667\n",
            "673\n",
            "679\n",
            "685\n",
            "691\n",
            "697\n",
            "703\n",
            "709\n",
            "715\n",
            "721\n",
            "727\n",
            "733\n",
            "739\n",
            "745\n",
            "751\n",
            "757\n",
            "763\n",
            "769\n",
            "775\n",
            "781\n",
            "787\n",
            "793\n",
            "799\n",
            "805\n",
            "811\n",
            "817\n",
            "823\n",
            "829\n",
            "835\n",
            "841\n",
            "847\n",
            "853\n",
            "859\n",
            "865\n",
            "871\n",
            "877\n",
            "883\n",
            "889\n",
            "895\n",
            "901\n",
            "907\n",
            "913\n",
            "919\n",
            "925\n",
            "931\n",
            "937\n",
            "943\n",
            "949\n",
            "955\n",
            "961\n",
            "967\n",
            "973\n",
            "979\n",
            "985\n",
            "991\n",
            "997\n",
            "1003\n",
            "1009\n",
            "1015\n",
            "1021\n",
            "1027\n",
            "1033\n",
            "1039\n",
            "1045\n",
            "1051\n",
            "1057\n",
            "1063\n",
            "1069\n",
            "1075\n",
            "1081\n",
            "1087\n",
            "1093\n",
            "1099\n",
            "1105\n",
            "1111\n",
            "1117\n",
            "1123\n",
            "1129\n",
            "1135\n",
            "1141\n",
            "1147\n",
            "1153\n",
            "1159\n",
            "1165\n",
            "1171\n",
            "1177\n",
            "1183\n",
            "1189\n",
            "1195\n",
            "1201\n",
            "1207\n",
            "1213\n",
            "1219\n",
            "1225\n",
            "1231\n",
            "1237\n",
            "1243\n",
            "1249\n",
            "1255\n",
            "1261\n",
            "1267\n",
            "1273\n",
            "1279\n",
            "1285\n",
            "1291\n",
            "1297\n",
            "1303\n",
            "1309\n",
            "1315\n",
            "1321\n",
            "1327\n",
            "1333\n",
            "1339\n",
            "1345\n",
            "1351\n",
            "1357\n",
            "1363\n",
            "1369\n",
            "1375\n",
            "1381\n",
            "1387\n",
            "1393\n",
            "1399\n",
            "1405\n",
            "1411\n",
            "1417\n",
            "1423\n",
            "1429\n",
            "1435\n",
            "1441\n",
            "1447\n",
            "1453\n",
            "1459\n",
            "1465\n",
            "1471\n",
            "1477\n",
            "1483\n",
            "1489\n",
            "1495\n",
            "1501\n",
            "1507\n",
            "1513\n",
            "1519\n",
            "1525\n",
            "1531\n",
            "1537\n",
            "1543\n",
            "1549\n",
            "1555\n",
            "1561\n",
            "1567\n",
            "1573\n",
            "1579\n",
            "1585\n",
            "1591\n",
            "1597\n",
            "1603\n",
            "1609\n",
            "1615\n",
            "1621\n",
            "1627\n",
            "1633\n",
            "1639\n",
            "1645\n",
            "1651\n",
            "1657\n",
            "1663\n",
            "1669\n",
            "1675\n",
            "1681\n",
            "1687\n",
            "1693\n",
            "1699\n",
            "1705\n",
            "1711\n",
            "1717\n",
            "1723\n",
            "1729\n",
            "1735\n",
            "1741\n",
            "1747\n",
            "1753\n",
            "1759\n",
            "1765\n",
            "1771\n",
            "1777\n",
            "1783\n",
            "1789\n",
            "1795\n",
            "1801\n",
            "1807\n",
            "1813\n",
            "1819\n",
            "1825\n",
            "1831\n",
            "1837\n",
            "1843\n",
            "1849\n",
            "1855\n",
            "1861\n",
            "1867\n",
            "1873\n",
            "1879\n",
            "1885\n",
            "1891\n",
            "1897\n",
            "1903\n",
            "1909\n",
            "1915\n",
            "1921\n",
            "1927\n",
            "1933\n",
            "1939\n",
            "1945\n",
            "1951\n",
            "1957\n",
            "1963\n",
            "1969\n",
            "1975\n",
            "1981\n",
            "1987\n",
            "1993\n",
            "1999\n",
            "2005\n",
            "2011\n",
            "2017\n",
            "2023\n",
            "2029\n",
            "2035\n",
            "2041\n",
            "2047\n",
            "2053\n",
            "2059\n",
            "2065\n",
            "2071\n",
            "2077\n",
            "2083\n",
            "2089\n",
            "2095\n",
            "2101\n",
            "2107\n",
            "2113\n",
            "2119\n",
            "2125\n",
            "2131\n",
            "2137\n",
            "2143\n",
            "2149\n",
            "2155\n",
            "2161\n",
            "2167\n",
            "2173\n",
            "2179\n",
            "2185\n",
            "2191\n",
            "2197\n",
            "2203\n",
            "2209\n",
            "2215\n",
            "2221\n",
            "2227\n",
            "2233\n",
            "2239\n",
            "2245\n",
            "2251\n",
            "2257\n",
            "2263\n",
            "2269\n",
            "2275\n",
            "2281\n",
            "2287\n",
            "2293\n",
            "2299\n",
            "2305\n",
            "2311\n",
            "2317\n",
            "2323\n",
            "2329\n",
            "2335\n",
            "2341\n",
            "2347\n",
            "2353\n",
            "2359\n",
            "2365\n",
            "2371\n",
            "2377\n",
            "2383\n",
            "2389\n",
            "2395\n",
            "2401\n",
            "2407\n",
            "2413\n",
            "2419\n",
            "2425\n",
            "2431\n",
            "2437\n",
            "2443\n",
            "2449\n",
            "2455\n",
            "2461\n",
            "2467\n",
            "2473\n",
            "2479\n",
            "2485\n",
            "2491\n",
            "2497\n",
            "2503\n",
            "2509\n",
            "2515\n",
            "2521\n",
            "2527\n",
            "2533\n",
            "2539\n",
            "2545\n",
            "2551\n",
            "2557\n",
            "2563\n",
            "2569\n",
            "2575\n",
            "2581\n",
            "2587\n",
            "2593\n",
            "2599\n",
            "2605\n",
            "2611\n",
            "2617\n",
            "2623\n",
            "2629\n",
            "2635\n",
            "2641\n",
            "2647\n",
            "2653\n",
            "2659\n",
            "2665\n",
            "2671\n",
            "2677\n",
            "2683\n",
            "2689\n",
            "2695\n",
            "2701\n",
            "2707\n",
            "2713\n",
            "2719\n",
            "2725\n",
            "2731\n",
            "2737\n",
            "2743\n",
            "2749\n",
            "2755\n",
            "2761\n",
            "2767\n",
            "2773\n",
            "2779\n",
            "2785\n",
            "2791\n",
            "2797\n",
            "2803\n",
            "2809\n",
            "2815\n",
            "2821\n",
            "2827\n",
            "2833\n",
            "2839\n",
            "2845\n",
            "2851\n",
            "2857\n",
            "2863\n",
            "2869\n",
            "2875\n",
            "2881\n",
            "2887\n",
            "2893\n",
            "2899\n",
            "2905\n",
            "2911\n",
            "2917\n",
            "2923\n",
            "2929\n",
            "2935\n",
            "2941\n",
            "2947\n",
            "2953\n",
            "2959\n",
            "2965\n",
            "2971\n",
            "2977\n",
            "2983\n",
            "2989\n",
            "2995\n",
            "3001\n",
            "3007\n",
            "3013\n",
            "3019\n",
            "3025\n",
            "3031\n",
            "3037\n",
            "3043\n",
            "3049\n",
            "3055\n",
            "3061\n",
            "3067\n",
            "3073\n",
            "3079\n",
            "3085\n",
            "3091\n",
            "3097\n",
            "3103\n",
            "3109\n",
            "3115\n",
            "3121\n",
            "3127\n",
            "3133\n",
            "3139\n",
            "3145\n",
            "3151\n",
            "3157\n",
            "3163\n",
            "3169\n",
            "3175\n",
            "3181\n",
            "3187\n",
            "3193\n",
            "3199\n",
            "3205\n",
            "3211\n",
            "3217\n",
            "3223\n",
            "3229\n",
            "3235\n",
            "3241\n",
            "3247\n",
            "3253\n",
            "3259\n",
            "3265\n",
            "3271\n",
            "3277\n",
            "3283\n",
            "3289\n",
            "3295\n",
            "3301\n",
            "3307\n",
            "3313\n",
            "3319\n",
            "3325\n",
            "3331\n",
            "3337\n",
            "3343\n",
            "3349\n",
            "3355\n",
            "3361\n",
            "3367\n",
            "3373\n",
            "3379\n",
            "3385\n",
            "3391\n",
            "3397\n",
            "3403\n",
            "3409\n",
            "3415\n",
            "3421\n",
            "3427\n",
            "3433\n",
            "3439\n",
            "3445\n",
            "3451\n",
            "3457\n",
            "3463\n",
            "3469\n",
            "3475\n",
            "3481\n",
            "3487\n",
            "3493\n",
            "3499\n",
            "3505\n",
            "3511\n",
            "3517\n",
            "3523\n",
            "3529\n",
            "3535\n",
            "3541\n",
            "3547\n",
            "3553\n",
            "3559\n",
            "3565\n",
            "3571\n",
            "3577\n",
            "3583\n",
            "3589\n",
            "3595\n",
            "3601\n",
            "3607\n",
            "3613\n",
            "3619\n",
            "3625\n",
            "3631\n",
            "3637\n",
            "3643\n",
            "3649\n",
            "3655\n",
            "3661\n",
            "3667\n",
            "3673\n",
            "3679\n",
            "3685\n",
            "3691\n",
            "3697\n",
            "3703\n",
            "3709\n",
            "3715\n",
            "3721\n",
            "3727\n",
            "3733\n",
            "3739\n",
            "3745\n",
            "3751\n",
            "3757\n",
            "3763\n",
            "3769\n",
            "3775\n",
            "3781\n",
            "3787\n",
            "3793\n",
            "3799\n",
            "3805\n",
            "3811\n",
            "3817\n",
            "3823\n",
            "3829\n",
            "3835\n",
            "3841\n",
            "3847\n",
            "3853\n",
            "3859\n",
            "3865\n",
            "3871\n",
            "3877\n",
            "3883\n",
            "3889\n",
            "3895\n",
            "3901\n",
            "3907\n",
            "3913\n",
            "3919\n",
            "3925\n",
            "3931\n",
            "3937\n",
            "3943\n",
            "3949\n",
            "3955\n",
            "3961\n",
            "3967\n",
            "3973\n",
            "3979\n",
            "3985\n",
            "3991\n",
            "3997\n",
            "4003\n",
            "4009\n",
            "4015\n",
            "4021\n",
            "4027\n",
            "4033\n",
            "4039\n",
            "4045\n",
            "4051\n",
            "4057\n",
            "4063\n",
            "4069\n",
            "4075\n",
            "4081\n",
            "4087\n",
            "4093\n",
            "4099\n",
            "4105\n",
            "4111\n",
            "4117\n",
            "4123\n",
            "4129\n",
            "4135\n",
            "4141\n",
            "4147\n",
            "4153\n",
            "4159\n",
            "4165\n",
            "4171\n",
            "4177\n",
            "4183\n",
            "4189\n",
            "4195\n",
            "4201\n",
            "4207\n",
            "4213\n",
            "4219\n",
            "4225\n",
            "4231\n",
            "4237\n",
            "4243\n",
            "4249\n",
            "4255\n",
            "4261\n",
            "4267\n",
            "4273\n",
            "4279\n",
            "4285\n",
            "4291\n",
            "4297\n",
            "4303\n",
            "4309\n",
            "4315\n",
            "4321\n",
            "4327\n",
            "4333\n",
            "4339\n",
            "4345\n",
            "4351\n",
            "4357\n",
            "4363\n",
            "4369\n",
            "4375\n",
            "4381\n",
            "4387\n",
            "4393\n",
            "4399\n",
            "4405\n",
            "4411\n",
            "4417\n",
            "4423\n",
            "4429\n",
            "4435\n",
            "4441\n",
            "4447\n",
            "4453\n",
            "4459\n",
            "4465\n",
            "4471\n",
            "4477\n",
            "4483\n",
            "4489\n",
            "4495\n",
            "4501\n",
            "4507\n",
            "4513\n",
            "4519\n",
            "4525\n",
            "4531\n",
            "4537\n",
            "4543\n",
            "4549\n",
            "4555\n",
            "4561\n",
            "4567\n",
            "4573\n",
            "4579\n",
            "4585\n",
            "4591\n",
            "4597\n",
            "4603\n",
            "4609\n",
            "4615\n",
            "4621\n",
            "4627\n",
            "4633\n",
            "4639\n",
            "4645\n",
            "4651\n",
            "4657\n",
            "4663\n",
            "4669\n",
            "4675\n",
            "4681\n",
            "4687\n",
            "4693\n",
            "4699\n",
            "4705\n",
            "4711\n",
            "4717\n",
            "4723\n",
            "4729\n",
            "4735\n",
            "4741\n",
            "4747\n",
            "4753\n",
            "4759\n",
            "4765\n",
            "4771\n",
            "4777\n",
            "4783\n",
            "4789\n",
            "4795\n",
            "4801\n",
            "4807\n",
            "4813\n",
            "4819\n",
            "4825\n",
            "4831\n",
            "4837\n",
            "4843\n",
            "4849\n",
            "4855\n",
            "4861\n",
            "4867\n",
            "4873\n",
            "4879\n",
            "4885\n",
            "4891\n",
            "4897\n",
            "4903\n",
            "4909\n",
            "4915\n",
            "4921\n",
            "4927\n",
            "4933\n",
            "4939\n",
            "4945\n",
            "4951\n",
            "4957\n",
            "4963\n",
            "4969\n",
            "4975\n",
            "4981\n",
            "4987\n",
            "4993\n",
            "4999\n",
            "5005\n",
            "5011\n",
            "5017\n",
            "5023\n",
            "5029\n",
            "5035\n",
            "5041\n",
            "5047\n",
            "5053\n",
            "5059\n",
            "5065\n",
            "5071\n",
            "5077\n",
            "5083\n",
            "5089\n",
            "5095\n",
            "5101\n",
            "5107\n",
            "5113\n",
            "5119\n",
            "5125\n",
            "5131\n",
            "5137\n",
            "5143\n",
            "5149\n",
            "5155\n",
            "5161\n",
            "5167\n",
            "5173\n",
            "5179\n",
            "5185\n",
            "5191\n",
            "5197\n",
            "5203\n",
            "5209\n",
            "5215\n",
            "5221\n",
            "5227\n",
            "5233\n",
            "5239\n",
            "5245\n",
            "5251\n",
            "5257\n",
            "5263\n",
            "5269\n",
            "5275\n",
            "5281\n",
            "5287\n",
            "5293\n",
            "5299\n",
            "5305\n",
            "5311\n",
            "5317\n",
            "5323\n",
            "5329\n",
            "5335\n",
            "5341\n",
            "5347\n",
            "5353\n",
            "5359\n",
            "5365\n",
            "5371\n",
            "5377\n",
            "5383\n",
            "5389\n",
            "5395\n",
            "5401\n",
            "5407\n",
            "5413\n",
            "5419\n",
            "5425\n",
            "5431\n",
            "5437\n",
            "5443\n",
            "5449\n",
            "5455\n",
            "5461\n",
            "5467\n",
            "5473\n",
            "5479\n",
            "5485\n",
            "5491\n",
            "5497\n",
            "5503\n",
            "5509\n",
            "5515\n",
            "5521\n",
            "5527\n",
            "5533\n",
            "5539\n",
            "5545\n",
            "5551\n",
            "5557\n",
            "5563\n",
            "5569\n",
            "5575\n",
            "5581\n",
            "5587\n",
            "5593\n",
            "5599\n",
            "5605\n",
            "5611\n",
            "5617\n",
            "5623\n",
            "5629\n",
            "5635\n",
            "5641\n",
            "5647\n",
            "5653\n",
            "5659\n",
            "5665\n",
            "5671\n",
            "5677\n",
            "5683\n",
            "5689\n",
            "5695\n",
            "5701\n",
            "5707\n",
            "5713\n",
            "5719\n",
            "5725\n",
            "5731\n",
            "5737\n",
            "5743\n",
            "5749\n",
            "5755\n",
            "5761\n",
            "5767\n",
            "5773\n",
            "5779\n",
            "5785\n",
            "5791\n",
            "5797\n",
            "5803\n",
            "5809\n",
            "5815\n",
            "5821\n",
            "5827\n",
            "5833\n",
            "5839\n",
            "5845\n",
            "5851\n",
            "5857\n",
            "5863\n",
            "5869\n",
            "5875\n",
            "5881\n",
            "5887\n",
            "5893\n",
            "5899\n",
            "5905\n",
            "5911\n",
            "5917\n",
            "5923\n",
            "5929\n",
            "5935\n",
            "5941\n",
            "5947\n",
            "5953\n",
            "5959\n",
            "5965\n",
            "5971\n",
            "5977\n",
            "5983\n",
            "5989\n",
            "5995\n",
            "6001\n",
            "6007\n",
            "6013\n",
            "6019\n",
            "6025\n",
            "6031\n",
            "6037\n",
            "6043\n",
            "6049\n",
            "6055\n",
            "6061\n",
            "6067\n",
            "6073\n",
            "6079\n",
            "6085\n",
            "6091\n",
            "6097\n",
            "6103\n",
            "6109\n",
            "6115\n",
            "6121\n",
            "6127\n",
            "6133\n",
            "6139\n",
            "6145\n",
            "6151\n",
            "6157\n",
            "6163\n",
            "6169\n",
            "6175\n",
            "6181\n",
            "6187\n",
            "6193\n",
            "6199\n",
            "6205\n",
            "6211\n",
            "6217\n",
            "6223\n",
            "6229\n",
            "6235\n",
            "6241\n",
            "6247\n",
            "6253\n",
            "6259\n",
            "6265\n",
            "6271\n",
            "6277\n",
            "6283\n",
            "6289\n",
            "6295\n",
            "6301\n",
            "6307\n",
            "6313\n",
            "6319\n",
            "6325\n",
            "6331\n"
          ],
          "name": "stdout"
        }
      ]
    },
    {
      "cell_type": "markdown",
      "metadata": {
        "id": "NJcPIY2aqkkw",
        "colab_type": "text"
      },
      "source": [
        "# 3. Google Bert"
      ]
    },
    {
      "cell_type": "code",
      "metadata": {
        "id": "SmWly7Q7qbxo",
        "colab_type": "code",
        "colab": {}
      },
      "source": [
        "import torch.nn.functional as F\n",
        "\n",
        "# F.softmax(logits,dim=1)"
      ],
      "execution_count": 0,
      "outputs": []
    },
    {
      "cell_type": "code",
      "metadata": {
        "id": "21oyUPswqo9g",
        "colab_type": "code",
        "colab": {}
      },
      "source": [
        "from sklearn.model_selection import train_test_split\n",
        "if par_cleanup == 1:\n",
        "    X = dat_plus['title_text'].apply(cleanup)\n",
        "else:\n",
        "    X = dat_plus['title_text']\n",
        "y = dat_plus['label']\n",
        "X_train, X_test, y_train, y_test = train_test_split(X, y, test_size=0.3, random_state=42)"
      ],
      "execution_count": 0,
      "outputs": []
    },
    {
      "cell_type": "code",
      "metadata": {
        "id": "pmbRmUeDqsrs",
        "colab_type": "code",
        "colab": {}
      },
      "source": [
        "X_train = X_train.values.tolist()\n",
        "X_test = X_test.values.tolist()\n",
        "\n",
        "y_train = pd.get_dummies(y_train).values.tolist() # convert to one-hot encoding\n",
        "y_test = pd.get_dummies(y_test).values.tolist()"
      ],
      "execution_count": 0,
      "outputs": []
    },
    {
      "cell_type": "markdown",
      "metadata": {
        "id": "Mlh0DGiQuk-z",
        "colab_type": "text"
      },
      "source": [
        "Adding Liar Liar Data set"
      ]
    },
    {
      "cell_type": "code",
      "metadata": {
        "id": "wBBCyxJjvlxl",
        "colab_type": "code",
        "colab": {}
      },
      "source": [
        "test_filename = '/content/drive/My Drive/AlternusVeraDataSets2019/Seers/LiarLiar/test.tsv'\n",
        "train_filename = '/content/drive/My Drive/AlternusVeraDataSets2019/Seers/LiarLiar/train.tsv'\n",
        "valid_filename = '/content/drive/My Drive/AlternusVeraDataSets2019/Seers/LiarLiar/valid.tsv'\n",
        "\n",
        "colnames = ['jsonid', 'label', 'headline_text', 'subject', 'speaker', 'speakerjobtitle', 'stateinfo','partyaffiliation', 'barelytruecounts', 'falsecounts','halftruecounts','mostlytrueocunts','pantsonfirecounts','context']\n",
        "\n",
        "train_news = pd.read_csv(train_filename, sep='\\t', names = colnames, error_bad_lines=False)\n",
        "test_news = pd.read_csv(test_filename, sep='\\t', names = colnames, error_bad_lines=False)\n",
        "valid_news = pd.read_csv(valid_filename, sep='\\t', names = colnames, error_bad_lines=False)"
      ],
      "execution_count": 0,
      "outputs": []
    },
    {
      "cell_type": "code",
      "metadata": {
        "id": "jyx64tDkwZRs",
        "colab_type": "code",
        "outputId": "f8c07350-11bd-4c0f-972e-6740bdd48ac8",
        "colab": {
          "base_uri": "https://localhost:8080/",
          "height": 216
        }
      },
      "source": [
        "print('train dim:',train_news.shape, 'test dim:', test_news.shape)\n",
        "train_news.iloc[0:2]"
      ],
      "execution_count": 0,
      "outputs": [
        {
          "output_type": "stream",
          "text": [
            "train dim: (10240, 14) test dim: (1267, 14)\n"
          ],
          "name": "stdout"
        },
        {
          "output_type": "execute_result",
          "data": {
            "text/html": [
              "<div>\n",
              "<style scoped>\n",
              "    .dataframe tbody tr th:only-of-type {\n",
              "        vertical-align: middle;\n",
              "    }\n",
              "\n",
              "    .dataframe tbody tr th {\n",
              "        vertical-align: top;\n",
              "    }\n",
              "\n",
              "    .dataframe thead th {\n",
              "        text-align: right;\n",
              "    }\n",
              "</style>\n",
              "<table border=\"1\" class=\"dataframe\">\n",
              "  <thead>\n",
              "    <tr style=\"text-align: right;\">\n",
              "      <th></th>\n",
              "      <th>jsonid</th>\n",
              "      <th>label</th>\n",
              "      <th>headline_text</th>\n",
              "      <th>subject</th>\n",
              "      <th>speaker</th>\n",
              "      <th>speakerjobtitle</th>\n",
              "      <th>stateinfo</th>\n",
              "      <th>partyaffiliation</th>\n",
              "      <th>barelytruecounts</th>\n",
              "      <th>falsecounts</th>\n",
              "      <th>halftruecounts</th>\n",
              "      <th>mostlytrueocunts</th>\n",
              "      <th>pantsonfirecounts</th>\n",
              "      <th>context</th>\n",
              "    </tr>\n",
              "  </thead>\n",
              "  <tbody>\n",
              "    <tr>\n",
              "      <th>0</th>\n",
              "      <td>2635.json</td>\n",
              "      <td>false</td>\n",
              "      <td>Says the Annies List political group supports ...</td>\n",
              "      <td>abortion</td>\n",
              "      <td>dwayne-bohac</td>\n",
              "      <td>State representative</td>\n",
              "      <td>Texas</td>\n",
              "      <td>republican</td>\n",
              "      <td>0.0</td>\n",
              "      <td>1.0</td>\n",
              "      <td>0.0</td>\n",
              "      <td>0.0</td>\n",
              "      <td>0.0</td>\n",
              "      <td>a mailer</td>\n",
              "    </tr>\n",
              "    <tr>\n",
              "      <th>1</th>\n",
              "      <td>10540.json</td>\n",
              "      <td>half-true</td>\n",
              "      <td>When did the decline of coal start? It started...</td>\n",
              "      <td>energy,history,job-accomplishments</td>\n",
              "      <td>scott-surovell</td>\n",
              "      <td>State delegate</td>\n",
              "      <td>Virginia</td>\n",
              "      <td>democrat</td>\n",
              "      <td>0.0</td>\n",
              "      <td>0.0</td>\n",
              "      <td>1.0</td>\n",
              "      <td>1.0</td>\n",
              "      <td>0.0</td>\n",
              "      <td>a floor speech.</td>\n",
              "    </tr>\n",
              "  </tbody>\n",
              "</table>\n",
              "</div>"
            ],
            "text/plain": [
              "       jsonid      label  ... pantsonfirecounts          context\n",
              "0   2635.json      false  ...               0.0         a mailer\n",
              "1  10540.json  half-true  ...               0.0  a floor speech.\n",
              "\n",
              "[2 rows x 14 columns]"
            ]
          },
          "metadata": {
            "tags": []
          },
          "execution_count": 17
        }
      ]
    },
    {
      "cell_type": "markdown",
      "metadata": {
        "id": "jaGiamc5xr3V",
        "colab_type": "text"
      },
      "source": [
        "Data Cleaning and Text Preprocessing for Liar Liar dataset\n",
        "Steps included in the preprocessing:\n",
        "\n",
        "Remove Special Characters and Punctuations\n",
        "- Lower case the news\n",
        "- Tokenization\n",
        "- Remove Stop Words\n",
        "- Lemmatization\n",
        "- Stemming\n",
        " -Spell Check"
      ]
    },
    {
      "cell_type": "code",
      "metadata": {
        "id": "ROdZxJ_Nxek1",
        "colab_type": "code",
        "colab": {}
      },
      "source": [
        "import re\n",
        "\n",
        "def cleaning(raw_news):\n",
        "    import nltk\n",
        "    \n",
        "    # 1. Remove non-letters/Special Characters and Punctuations\n",
        "    news = re.sub(\"[^a-zA-Z]\", \" \", raw_news)\n",
        "    \n",
        "    # 2. Convert to lower case.\n",
        "    news =  news.lower()\n",
        "    \n",
        "    # 3. Tokenize.\n",
        "    news_words = nltk.word_tokenize( news)\n",
        "    \n",
        "    # 4. Convert the stopwords list to \"set\" data type.\n",
        "    stops = set(nltk.corpus.stopwords.words(\"english\"))\n",
        "    \n",
        "    # 5. Remove stop words. \n",
        "    words = [w for w in  news_words  if not w in stops]\n",
        "    \n",
        "    # 6. Lemmentize \n",
        "    wordnet_lem = [ WordNetLemmatizer().lemmatize(w) for w in words ]\n",
        "    \n",
        "    # 7. Stemming\n",
        "    stems = [nltk.stem.SnowballStemmer('english').stem(w) for w in wordnet_lem ]\n",
        "    \n",
        "    # 8. Join the stemmed words back into one string separated by space, and return the result.\n",
        "    return \" \".join(stems)"
      ],
      "execution_count": 0,
      "outputs": []
    },
    {
      "cell_type": "code",
      "metadata": {
        "id": "rE1Gi5NVx7pC",
        "colab_type": "code",
        "outputId": "7787916c-0d9d-45f2-c59b-50704fbdad72",
        "colab": {
          "base_uri": "https://localhost:8080/",
          "height": 272
        }
      },
      "source": [
        "import nltk\n",
        "nltk.download('punkt')\n",
        "nltk.download('wordnet')\n",
        "import time\n",
        "# clean training and test data \n",
        "# create new column \"tokenized\"\n",
        "t1 = time.time()\n",
        "\n",
        "# Add the processed data to the original data. \n",
        "# Perhaps using apply function would be more elegant and concise than using for loop\n",
        "train_news['clean'] = train_news[\"headline_text\"].apply(cleaning) \n",
        "\n",
        "t2 = time.time()\n",
        "print(\"\\nTime to clean, tokenize and stem train data: \\n\", len(train_news), \"news:\", (t2-t1)/60, \"min\")\n",
        "\n",
        "t1 = time.time()\n",
        "test_news['clean'] = test_news[\"headline_text\"].apply(cleaning)\n",
        "\n",
        "t2 = time.time()\n",
        "print(\"\\n\\nTime to clean, tokenize and stem test data: \\n\", len(test_news), \"news:\", (t2-t1)/60, \"min\")\n",
        "\n",
        "t1 = time.time()\n",
        "valid_news['clean'] = valid_news[\"headline_text\"].apply(cleaning)\n",
        "\n",
        "t2 = time.time()\n",
        "print(\"\\n\\nTime to clean, tokenize and stem valid data: \\n\", len(valid_news), \"news:\", (t2-t1)/60, \"min\")"
      ],
      "execution_count": 0,
      "outputs": [
        {
          "output_type": "stream",
          "text": [
            "[nltk_data] Downloading package punkt to /root/nltk_data...\n",
            "[nltk_data]   Package punkt is already up-to-date!\n",
            "[nltk_data] Downloading package wordnet to /root/nltk_data...\n",
            "[nltk_data]   Unzipping corpora/wordnet.zip.\n",
            "\n",
            "Time to clean, tokenize and stem train data: \n",
            " 10240 news: 0.10487012465794882 min\n",
            "\n",
            "\n",
            "Time to clean, tokenize and stem test data: \n",
            " 1267 news: 0.010770614941914875 min\n",
            "\n",
            "\n",
            "Time to clean, tokenize and stem valid data: \n",
            " 1284 news: 0.010303755601247152 min\n"
          ],
          "name": "stdout"
        }
      ]
    },
    {
      "cell_type": "markdown",
      "metadata": {
        "id": "94WmUcpTyVYQ",
        "colab_type": "text"
      },
      "source": [
        "\n",
        "### **Google News corpus word2vec**\n",
        "**Spell Check**\n",
        "\n",
        "You can download the pre-trained model here\n",
        "\n",
        "Or clone it from GitHub GoogleNews-vectors-negative300"
      ]
    },
    {
      "cell_type": "code",
      "metadata": {
        "id": "XqPsve5mycM2",
        "colab_type": "code",
        "outputId": "a57baa3f-d0e9-46ee-d75d-d90bb987c4a1",
        "colab": {
          "base_uri": "https://localhost:8080/",
          "height": 71
        }
      },
      "source": [
        "model = gensim.models.KeyedVectors.load_word2vec_format('/content/drive/My Drive/AlternusVeraDataSets2019/Seers/GoogleNews-vectors-negative300.bin.gz', binary=True)\n",
        "words = model.index2word\n",
        "\n",
        "w_rank = {}\n",
        "for i,word in enumerate(words):\n",
        "    w_rank[word] = i\n",
        "\n",
        "WORDS = w_rank"
      ],
      "execution_count": 0,
      "outputs": [
        {
          "output_type": "stream",
          "text": [
            "/usr/local/lib/python3.6/dist-packages/smart_open/smart_open_lib.py:402: UserWarning: This function is deprecated, use smart_open.open instead. See the migration notes for details: https://github.com/RaRe-Technologies/smart_open/blob/master/README.rst#migrating-to-the-new-open-function\n",
            "  'See the migration notes for details: %s' % _MIGRATION_NOTES_URL\n"
          ],
          "name": "stderr"
        }
      ]
    },
    {
      "cell_type": "code",
      "metadata": {
        "id": "CdJ3E3O0yrc9",
        "colab_type": "code",
        "colab": {}
      },
      "source": [
        "import re\n",
        "from collections import Counter\n",
        "\n",
        "def words(text): return re.findall(r'\\w+', text.lower())\n",
        "\n",
        "def P(word, N=sum(WORDS.values())): \n",
        "    \"Probability of `word`.\"\n",
        "    return - WORDS.get(word, 0)\n",
        "\n",
        "def correction(word): \n",
        "    \"Most probable spelling correction for word.\"\n",
        "    return max(candidates(word), key=P)\n",
        "\n",
        "def candidates(word): \n",
        "    \"Generate possible spelling corrections for word.\"\n",
        "    return (known([word]) or known(edits1(word)) or known(edits2(word)) or [word])\n",
        "\n",
        "def known(words): \n",
        "    \"The subset of `words` that appear in the dictionary of WORDS.\"\n",
        "    return set(w for w in words if w in WORDS)\n",
        "\n",
        "def edits1(word):\n",
        "    \"All edits that are one edit away from `word`.\"\n",
        "    letters    = 'abcdefghijklmnopqrstuvwxyz'\n",
        "    splits     = [(word[:i], word[i:])    for i in range(len(word) + 1)]\n",
        "    deletes    = [L + R[1:]               for L, R in splits if R]\n",
        "    transposes = [L + R[1] + R[0] + R[2:] for L, R in splits if len(R)>1]\n",
        "    replaces   = [L + c + R[1:]           for L, R in splits if R for c in letters]\n",
        "    inserts    = [L + c + R               for L, R in splits for c in letters]\n",
        "    return set(deletes + transposes + replaces + inserts)\n",
        "\n",
        "def edits2(word): \n",
        "    \"All edits that are two edits away from `word`.\"\n",
        "    return (e2 for e1 in edits1(word) for e2 in edits1(e1))"
      ],
      "execution_count": 0,
      "outputs": []
    },
    {
      "cell_type": "code",
      "metadata": {
        "id": "l6O_PO-HyzM1",
        "colab_type": "code",
        "colab": {}
      },
      "source": [
        "def spell_checker(text):\n",
        "    all_words = re.findall(r'\\w+', text.lower()) # split sentence to words\n",
        "    spell_checked_text  = []\n",
        "    for i in range(len(all_words)):\n",
        "        spell_checked_text.append(correction(all_words[i]))\n",
        "    return ' '.join(spell_checked_text)"
      ],
      "execution_count": 0,
      "outputs": []
    },
    {
      "cell_type": "code",
      "metadata": {
        "id": "PdH9N8gQy2f9",
        "colab_type": "code",
        "outputId": "70556d33-500e-4721-a4c6-21ed5cfd29f0",
        "colab": {
          "base_uri": "https://localhost:8080/",
          "height": 68
        }
      },
      "source": [
        "t1 = time.time()\n",
        "test_news['clean'] = test_news['clean'].apply(spell_checker)\n",
        "test_news.head(5)\n",
        "t2 = time.time()\n",
        "print(\"\\nTime to spell check the test data: \\n\", len(test_news), \"news:\", (t2-t1)/60, \"min\")"
      ],
      "execution_count": 0,
      "outputs": [
        {
          "output_type": "stream",
          "text": [
            "\n",
            "Time to spell check the test data: \n",
            " 1267 news: 0.37355693578720095 min\n"
          ],
          "name": "stdout"
        }
      ]
    },
    {
      "cell_type": "code",
      "metadata": {
        "id": "nvlSzES0zJpI",
        "colab_type": "code",
        "colab": {}
      },
      "source": [
        "from wordcloud import WordCloud, STOPWORDS\n",
        "import matplotlib.pyplot as plt\n",
        "import seaborn as sns\n",
        "from scipy import stats\n",
        "\n",
        "%matplotlib inline"
      ],
      "execution_count": 0,
      "outputs": []
    },
    {
      "cell_type": "code",
      "metadata": {
        "id": "M4f9SyOWzP1j",
        "colab_type": "code",
        "outputId": "552c4cad-e8a7-4c13-a846-076d0f37a1d9",
        "colab": {
          "base_uri": "https://localhost:8080/",
          "height": 575
        }
      },
      "source": [
        "def cloud(data,backgroundcolor = 'white', width = 800, height = 600):\n",
        "    wordcloud = WordCloud(stopwords = STOPWORDS, background_color = backgroundcolor,\n",
        "                         width = width, height = height).generate(data)\n",
        "    plt.figure(figsize = (15, 10))\n",
        "    plt.imshow(wordcloud)\n",
        "    plt.axis(\"off\")\n",
        "    plt.show()\n",
        "\n",
        "\n",
        "cloud(' '.join(test_news['clean']))"
      ],
      "execution_count": 0,
      "outputs": [
        {
          "output_type": "display_data",
          "data": {
            "image/png": "[encoded data removed]",
            "text/plain": [
              "<Figure size 1080x720 with 1 Axes>"
            ]
          },
          "metadata": {
            "tags": []
          }
        }
      ]
    },
    {
      "cell_type": "code",
      "metadata": {
        "id": "GK0IS96Iqv2V",
        "colab_type": "code",
        "colab": {}
      },
      "source": [
        "max_seq_length = 256\n",
        "class text_dataset(Dataset):\n",
        "    def __init__(self,x_y_list, transform=None):\n",
        "        \n",
        "        self.x_y_list = x_y_list\n",
        "        self.transform = transform\n",
        "        \n",
        "    def __getitem__(self,index):\n",
        "        \n",
        "        tokenized_title_text = tokenizer.tokenize(self.x_y_list[0][index])\n",
        "        \n",
        "        if len(tokenized_title_text) > max_seq_length:\n",
        "            tokenized_title_text = tokenized_title_text[:max_seq_length]\n",
        "            \n",
        "        ids_title_text  = tokenizer.convert_tokens_to_ids(tokenized_title_text) #tokens->input_ids\n",
        "\n",
        "        padding = [0] * (max_seq_length - len(ids_title_text))\n",
        "        \n",
        "        ids_title_text += padding # use padding to make the same ids\n",
        "        \n",
        "        assert len(ids_title_text) == max_seq_length\n",
        "        \n",
        "        #print(ids_title_text)\n",
        "        ids_title_text = torch.tensor(ids_title_text)\n",
        "        \n",
        "        label = self.x_y_list[1][index] # color        \n",
        "        list_of_labels = [torch.from_numpy(np.array(label))]\n",
        "        \n",
        "        \n",
        "        return ids_title_text, list_of_labels[0]\n",
        "    \n",
        "    def __len__(self):\n",
        "        return len(self.x_y_list[0])"
      ],
      "execution_count": 0,
      "outputs": []
    },
    {
      "cell_type": "markdown",
      "metadata": {
        "id": "BgIVwfFzq8LR",
        "colab_type": "text"
      },
      "source": [
        "## 3.1 Create data dictionary"
      ]
    },
    {
      "cell_type": "code",
      "metadata": {
        "id": "vkZphijwq5Rd",
        "colab_type": "code",
        "outputId": "1c6b6ddb-9d50-4ef1-cc5e-e82ced79b06e",
        "colab": {
          "base_uri": "https://localhost:8080/",
          "height": 34
        }
      },
      "source": [
        "batch_size = 16 # divide into 16 batches\n",
        "\n",
        "train_lists = [X_train, y_train]\n",
        "test_lists = [X_test, y_test]\n",
        "\n",
        "training_dataset = text_dataset(x_y_list = train_lists )\n",
        "\n",
        "test_dataset = text_dataset(x_y_list = test_lists )\n",
        "\n",
        "dataloaders_dict = {'train': torch.utils.data.DataLoader(training_dataset, batch_size=batch_size, shuffle=True, num_workers=0),\n",
        "                   'val':torch.utils.data.DataLoader(test_dataset, batch_size=batch_size, shuffle=True, num_workers=0)\n",
        "                  }                \n",
        "dataset_sizes = {'train':len(train_lists[0]),\n",
        "                'val':len(test_lists[0])}\n",
        "\n",
        "device = torch.device(\"cuda:0\" if torch.cuda.is_available() else \"cpu\")\n",
        "n_gpu = torch.cuda.device_count()\n",
        "torch.cuda.get_device_name(0)\n",
        "print(device)"
      ],
      "execution_count": 0,
      "outputs": [
        {
          "output_type": "stream",
          "text": [
            "cuda:0\n"
          ],
          "name": "stdout"
        }
      ]
    },
    {
      "cell_type": "markdown",
      "metadata": {
        "id": "bMYBr2O8rGXr",
        "colab_type": "text"
      },
      "source": [
        "## 3.2 Define the train model"
      ]
    },
    {
      "cell_type": "code",
      "metadata": {
        "id": "fHxX1eZorEA0",
        "colab_type": "code",
        "colab": {}
      },
      "source": [
        "def train_model(model, criterion, optimizer, scheduler, num_epochs=25):    \n",
        "    since = time.time()\n",
        "    print('starting')\n",
        "    best_model_wts = copy.deepcopy(model.state_dict())\n",
        "    best_loss = 100\n",
        "    best_f1 = 0.978\n",
        "    best_acc_test = 0.96\n",
        "    best_acc_train = 0.96\n",
        "    best_auc = 0.96\n",
        "    for epoch in range(num_epochs):\n",
        "        print('Epoch {}/{}'.format(epoch, num_epochs - 1))\n",
        "        print('-' * 10)\n",
        "\n",
        "        # Each epoch has a training and validation phase\n",
        "        for phase in ['train', 'val']:\n",
        "            if phase == 'train':\n",
        "                scheduler.step()\n",
        "                model.train()  # Set model to training mode\n",
        "            else:\n",
        "                model.eval()   # Set model to evaluate mode\n",
        "\n",
        "            running_loss = 0.0\n",
        "            \n",
        "            label_corrects = 0\n",
        "            TP = 0\n",
        "            TN = 0\n",
        "            FN = 0\n",
        "            FP = 0\n",
        "            total_scores = []\n",
        "            total_tar = []\n",
        "            # Iterate over data.\n",
        "            for inputs, label in dataloaders_dict[phase]:\n",
        "                #inputs = inputs\n",
        "                #print(len(inputs),type(inputs),inputs)\n",
        "                #inputs = torch.from_numpy(np.array(inputs)).to(device) \n",
        "                inputs = inputs.to(device) \n",
        "                label = label.to(device)\n",
        "\n",
        "                # zero the parameter gradients\n",
        "                optimizer.zero_grad()\n",
        "\n",
        "                # forward\n",
        "                # track history if only in train\n",
        "                with torch.set_grad_enabled(phase == 'train'):\n",
        "                    #print(inputs)\n",
        "                    outputs = model(inputs)\n",
        "\n",
        "                    outputs = F.softmax(outputs,dim=1)\n",
        "                    \n",
        "                    loss = criterion(outputs, torch.max(label.float(), 1)[1])\n",
        "                    # backward + optimize only if in training phase\n",
        "                    if phase == 'train':\n",
        "                        \n",
        "                        loss.backward()\n",
        "                        optimizer.step()\n",
        "\n",
        "                # statistics\n",
        "                running_loss += loss.item() * inputs.size(0)\n",
        "                label_corrects += torch.sum(torch.max(outputs, 1)[1] == torch.max(label, 1)[1]) #返回每一行中最大值的那个元素，且返回其索引（返回最大元素在这一行的列索引）\n",
        "                pred_choice = torch.max(outputs, 1)[1]\n",
        "                target = torch.max(label, 1)[1]\n",
        "                scores = pred_choice.cpu().tolist()\n",
        "                tar = target.cpu().tolist()\n",
        "                total_scores = total_scores + scores\n",
        "                total_tar = total_tar + tar\n",
        "\n",
        "                tmp_tp = 0\n",
        "                tmp_tn = 0\n",
        "                tmp_fn = 0\n",
        "                tmp_fp = 0\n",
        "                if pred_choice.numel()!= target.numel():\n",
        "                    print(\"error\")\n",
        "                for i in range(pred_choice.numel()):\n",
        "                    if pred_choice[i] == 1 and target[i] == 1 :\n",
        "                        tmp_tp = tmp_tp + 1\n",
        "                    elif pred_choice[i] == 0 and target[i] == 0 :\n",
        "                        tmp_tn = tmp_tn + 1\n",
        "                    elif pred_choice[i] == 0 and target[i] == 1 :\n",
        "                        tmp_fn = tmp_fn + 1\n",
        "                    elif pred_choice[i] == 1 and target[i] == 0 :\n",
        "                        tmp_fp = tmp_fp + 1\n",
        "                # TP    both predict and label are 1\n",
        "                TP += tmp_tp\n",
        "                # TN    both predict and label are 0\n",
        "                TN += tmp_tn\n",
        "                # FN    predict 0 label 1\n",
        "                FN += tmp_fn\n",
        "                # FP    predict 1 label 0\n",
        "                FP += tmp_fp\n",
        "            epoch_loss = running_loss / dataset_sizes[phase]\n",
        "            p = TP / (TP + FP)\n",
        "            r = TP / (TP + FN)\n",
        "            F1 = 2 * r * p / (r + p)\n",
        "            acc = (TP + TN) / (TP + TN + FP + FN)\n",
        "\n",
        "            ### draw ROC curce\n",
        "            tpr = TP/(TP+FN)\n",
        "            fpr = FP/(FP+TN)\n",
        "            tnr = TN/(FP+TN)\n",
        "\n",
        "            total_scores = np.array(total_scores)\n",
        "            total_tar = np.array(total_tar)\n",
        "            fpr, tpr, thresholds = roc_curve(total_tar, total_scores)\n",
        "            roc_auc = auc(fpr, tpr) \n",
        "            plt.title('ROC')\n",
        "            if roc_auc > best_auc:\n",
        "                best_auc = roc_auc\n",
        "            if epoch < num_epochs -1:\n",
        "                plt.plot(fpr, tpr,'b',label='AUC = %0.4f'% roc_auc)\n",
        "            if epoch == num_epochs -1:\n",
        "                plt.plot(fpr, tpr, color='darkorange', label='MAX AUC = %0.4f'% best_auc) \n",
        "            plt.legend(loc='lower right')\n",
        "            plt.plot([0,1],[0,1],'r--')\n",
        "            plt.ylabel('TPR')\n",
        "            plt.xlabel('FPR')\n",
        "            plt.show()\n",
        "\n",
        "            #print('{} p: {:.4f} '.format(phase,p ))\n",
        "            #print('{} r: {:.4f} '.format(phase,r ))\n",
        "            print('{} F1: {:.4f} '.format(phase,F1 ))\n",
        "            print('{} accuracy: {:.4f} '.format(phase,acc ))\n",
        "\n",
        "            if phase == 'val' and epoch_loss < best_loss:\n",
        "                print('saving with loss of {}'.format(epoch_loss),\n",
        "                      'improved over previous {}'.format(best_loss))\n",
        "                best_loss = epoch_loss\n",
        "                best_model_wts = copy.deepcopy(model.state_dict())\n",
        "                #torch.save(model.state_dict(), '/content/drive/My Drive/Colab Notebooks/bert_model_test_loss.pth')\n",
        "            if F1 > best_f1:\n",
        "                best_f1 = F1\n",
        "            if phase == 'val' and acc > best_acc_test:\n",
        "                best_acc_test = acc\n",
        "            if phase == 'train' and acc > best_acc_train:\n",
        "                best_acc_train = acc\n",
        "                #best_model_wts = copy.deepcopy(model.state_dict())\n",
        "                #torch.save(model.state_dict(), '/content/drive/My Drive/Colab Notebooks/bert_model_test_f1.pth')\n",
        "        print()\n",
        "\n",
        "    time_elapsed = time.time() - since\n",
        "    print('Training complete in {:.0f}m {:.0f}s'.format(\n",
        "        time_elapsed // 60, time_elapsed % 60))\n",
        "    print(\"Parament setting: \")\n",
        "    print(\"cased: \",par_cased)\n",
        "    print(\"cleanup: \",par_cleanup)\n",
        "    print(\"eda: \",par_eda)\n",
        "    print('Best train Acc: {:4f}'.format(float(best_acc_train)))\n",
        "    print('Best test Acc: {:4f}'.format(float(best_acc_test)))\n",
        "    print('Best f1 score: {:4f}'.format(float(best_f1)))\n",
        "    # load best model weights\n",
        "    model.load_state_dict(best_model_wts)\n",
        "    return model"
      ],
      "execution_count": 0,
      "outputs": []
    },
    {
      "cell_type": "markdown",
      "metadata": {
        "id": "bfz3P0fdsTXV",
        "colab_type": "text"
      },
      "source": [
        "# 4. Final Output"
      ]
    },
    {
      "cell_type": "markdown",
      "metadata": {
        "id": "ydvfCJ7MsU0h",
        "colab_type": "text"
      },
      "source": [
        "## 4.1 Model details"
      ]
    },
    {
      "cell_type": "code",
      "metadata": {
        "id": "YgnlF7x3sX0V",
        "colab_type": "code",
        "outputId": "dceb9c69-3496-46e9-9679-84614ebb0b54",
        "colab": {
          "base_uri": "https://localhost:8080/",
          "height": 1000
        }
      },
      "source": [
        "print(model)"
      ],
      "execution_count": 0,
      "outputs": [
        {
          "output_type": "stream",
          "text": [
            "BertForSequenceClassification(\n",
            "  (bert): BertModel(\n",
            "    (embeddings): BertEmbeddings(\n",
            "      (word_embeddings): Embedding(30522, 768, padding_idx=0)\n",
            "      (position_embeddings): Embedding(512, 768)\n",
            "      (token_type_embeddings): Embedding(2, 768)\n",
            "      (LayerNorm): BertLayerNorm()\n",
            "      (dropout): Dropout(p=0.1, inplace=False)\n",
            "    )\n",
            "    (encoder): BertEncoder(\n",
            "      (layer): ModuleList(\n",
            "        (0): BertLayer(\n",
            "          (attention): BertAttention(\n",
            "            (self): BertSelfAttention(\n",
            "              (query): Linear(in_features=768, out_features=768, bias=True)\n",
            "              (key): Linear(in_features=768, out_features=768, bias=True)\n",
            "              (value): Linear(in_features=768, out_features=768, bias=True)\n",
            "              (dropout): Dropout(p=0.1, inplace=False)\n",
            "            )\n",
            "            (output): BertSelfOutput(\n",
            "              (dense): Linear(in_features=768, out_features=768, bias=True)\n",
            "              (LayerNorm): BertLayerNorm()\n",
            "              (dropout): Dropout(p=0.1, inplace=False)\n",
            "            )\n",
            "          )\n",
            "          (intermediate): BertIntermediate(\n",
            "            (dense): Linear(in_features=768, out_features=3072, bias=True)\n",
            "          )\n",
            "          (output): BertOutput(\n",
            "            (dense): Linear(in_features=3072, out_features=768, bias=True)\n",
            "            (LayerNorm): BertLayerNorm()\n",
            "            (dropout): Dropout(p=0.1, inplace=False)\n",
            "          )\n",
            "        )\n",
            "        (1): BertLayer(\n",
            "          (attention): BertAttention(\n",
            "            (self): BertSelfAttention(\n",
            "              (query): Linear(in_features=768, out_features=768, bias=True)\n",
            "              (key): Linear(in_features=768, out_features=768, bias=True)\n",
            "              (value): Linear(in_features=768, out_features=768, bias=True)\n",
            "              (dropout): Dropout(p=0.1, inplace=False)\n",
            "            )\n",
            "            (output): BertSelfOutput(\n",
            "              (dense): Linear(in_features=768, out_features=768, bias=True)\n",
            "              (LayerNorm): BertLayerNorm()\n",
            "              (dropout): Dropout(p=0.1, inplace=False)\n",
            "            )\n",
            "          )\n",
            "          (intermediate): BertIntermediate(\n",
            "            (dense): Linear(in_features=768, out_features=3072, bias=True)\n",
            "          )\n",
            "          (output): BertOutput(\n",
            "            (dense): Linear(in_features=3072, out_features=768, bias=True)\n",
            "            (LayerNorm): BertLayerNorm()\n",
            "            (dropout): Dropout(p=0.1, inplace=False)\n",
            "          )\n",
            "        )\n",
            "        (2): BertLayer(\n",
            "          (attention): BertAttention(\n",
            "            (self): BertSelfAttention(\n",
            "              (query): Linear(in_features=768, out_features=768, bias=True)\n",
            "              (key): Linear(in_features=768, out_features=768, bias=True)\n",
            "              (value): Linear(in_features=768, out_features=768, bias=True)\n",
            "              (dropout): Dropout(p=0.1, inplace=False)\n",
            "            )\n",
            "            (output): BertSelfOutput(\n",
            "              (dense): Linear(in_features=768, out_features=768, bias=True)\n",
            "              (LayerNorm): BertLayerNorm()\n",
            "              (dropout): Dropout(p=0.1, inplace=False)\n",
            "            )\n",
            "          )\n",
            "          (intermediate): BertIntermediate(\n",
            "            (dense): Linear(in_features=768, out_features=3072, bias=True)\n",
            "          )\n",
            "          (output): BertOutput(\n",
            "            (dense): Linear(in_features=3072, out_features=768, bias=True)\n",
            "            (LayerNorm): BertLayerNorm()\n",
            "            (dropout): Dropout(p=0.1, inplace=False)\n",
            "          )\n",
            "        )\n",
            "        (3): BertLayer(\n",
            "          (attention): BertAttention(\n",
            "            (self): BertSelfAttention(\n",
            "              (query): Linear(in_features=768, out_features=768, bias=True)\n",
            "              (key): Linear(in_features=768, out_features=768, bias=True)\n",
            "              (value): Linear(in_features=768, out_features=768, bias=True)\n",
            "              (dropout): Dropout(p=0.1, inplace=False)\n",
            "            )\n",
            "            (output): BertSelfOutput(\n",
            "              (dense): Linear(in_features=768, out_features=768, bias=True)\n",
            "              (LayerNorm): BertLayerNorm()\n",
            "              (dropout): Dropout(p=0.1, inplace=False)\n",
            "            )\n",
            "          )\n",
            "          (intermediate): BertIntermediate(\n",
            "            (dense): Linear(in_features=768, out_features=3072, bias=True)\n",
            "          )\n",
            "          (output): BertOutput(\n",
            "            (dense): Linear(in_features=3072, out_features=768, bias=True)\n",
            "            (LayerNorm): BertLayerNorm()\n",
            "            (dropout): Dropout(p=0.1, inplace=False)\n",
            "          )\n",
            "        )\n",
            "        (4): BertLayer(\n",
            "          (attention): BertAttention(\n",
            "            (self): BertSelfAttention(\n",
            "              (query): Linear(in_features=768, out_features=768, bias=True)\n",
            "              (key): Linear(in_features=768, out_features=768, bias=True)\n",
            "              (value): Linear(in_features=768, out_features=768, bias=True)\n",
            "              (dropout): Dropout(p=0.1, inplace=False)\n",
            "            )\n",
            "            (output): BertSelfOutput(\n",
            "              (dense): Linear(in_features=768, out_features=768, bias=True)\n",
            "              (LayerNorm): BertLayerNorm()\n",
            "              (dropout): Dropout(p=0.1, inplace=False)\n",
            "            )\n",
            "          )\n",
            "          (intermediate): BertIntermediate(\n",
            "            (dense): Linear(in_features=768, out_features=3072, bias=True)\n",
            "          )\n",
            "          (output): BertOutput(\n",
            "            (dense): Linear(in_features=3072, out_features=768, bias=True)\n",
            "            (LayerNorm): BertLayerNorm()\n",
            "            (dropout): Dropout(p=0.1, inplace=False)\n",
            "          )\n",
            "        )\n",
            "        (5): BertLayer(\n",
            "          (attention): BertAttention(\n",
            "            (self): BertSelfAttention(\n",
            "              (query): Linear(in_features=768, out_features=768, bias=True)\n",
            "              (key): Linear(in_features=768, out_features=768, bias=True)\n",
            "              (value): Linear(in_features=768, out_features=768, bias=True)\n",
            "              (dropout): Dropout(p=0.1, inplace=False)\n",
            "            )\n",
            "            (output): BertSelfOutput(\n",
            "              (dense): Linear(in_features=768, out_features=768, bias=True)\n",
            "              (LayerNorm): BertLayerNorm()\n",
            "              (dropout): Dropout(p=0.1, inplace=False)\n",
            "            )\n",
            "          )\n",
            "          (intermediate): BertIntermediate(\n",
            "            (dense): Linear(in_features=768, out_features=3072, bias=True)\n",
            "          )\n",
            "          (output): BertOutput(\n",
            "            (dense): Linear(in_features=3072, out_features=768, bias=True)\n",
            "            (LayerNorm): BertLayerNorm()\n",
            "            (dropout): Dropout(p=0.1, inplace=False)\n",
            "          )\n",
            "        )\n",
            "        (6): BertLayer(\n",
            "          (attention): BertAttention(\n",
            "            (self): BertSelfAttention(\n",
            "              (query): Linear(in_features=768, out_features=768, bias=True)\n",
            "              (key): Linear(in_features=768, out_features=768, bias=True)\n",
            "              (value): Linear(in_features=768, out_features=768, bias=True)\n",
            "              (dropout): Dropout(p=0.1, inplace=False)\n",
            "            )\n",
            "            (output): BertSelfOutput(\n",
            "              (dense): Linear(in_features=768, out_features=768, bias=True)\n",
            "              (LayerNorm): BertLayerNorm()\n",
            "              (dropout): Dropout(p=0.1, inplace=False)\n",
            "            )\n",
            "          )\n",
            "          (intermediate): BertIntermediate(\n",
            "            (dense): Linear(in_features=768, out_features=3072, bias=True)\n",
            "          )\n",
            "          (output): BertOutput(\n",
            "            (dense): Linear(in_features=3072, out_features=768, bias=True)\n",
            "            (LayerNorm): BertLayerNorm()\n",
            "            (dropout): Dropout(p=0.1, inplace=False)\n",
            "          )\n",
            "        )\n",
            "        (7): BertLayer(\n",
            "          (attention): BertAttention(\n",
            "            (self): BertSelfAttention(\n",
            "              (query): Linear(in_features=768, out_features=768, bias=True)\n",
            "              (key): Linear(in_features=768, out_features=768, bias=True)\n",
            "              (value): Linear(in_features=768, out_features=768, bias=True)\n",
            "              (dropout): Dropout(p=0.1, inplace=False)\n",
            "            )\n",
            "            (output): BertSelfOutput(\n",
            "              (dense): Linear(in_features=768, out_features=768, bias=True)\n",
            "              (LayerNorm): BertLayerNorm()\n",
            "              (dropout): Dropout(p=0.1, inplace=False)\n",
            "            )\n",
            "          )\n",
            "          (intermediate): BertIntermediate(\n",
            "            (dense): Linear(in_features=768, out_features=3072, bias=True)\n",
            "          )\n",
            "          (output): BertOutput(\n",
            "            (dense): Linear(in_features=3072, out_features=768, bias=True)\n",
            "            (LayerNorm): BertLayerNorm()\n",
            "            (dropout): Dropout(p=0.1, inplace=False)\n",
            "          )\n",
            "        )\n",
            "        (8): BertLayer(\n",
            "          (attention): BertAttention(\n",
            "            (self): BertSelfAttention(\n",
            "              (query): Linear(in_features=768, out_features=768, bias=True)\n",
            "              (key): Linear(in_features=768, out_features=768, bias=True)\n",
            "              (value): Linear(in_features=768, out_features=768, bias=True)\n",
            "              (dropout): Dropout(p=0.1, inplace=False)\n",
            "            )\n",
            "            (output): BertSelfOutput(\n",
            "              (dense): Linear(in_features=768, out_features=768, bias=True)\n",
            "              (LayerNorm): BertLayerNorm()\n",
            "              (dropout): Dropout(p=0.1, inplace=False)\n",
            "            )\n",
            "          )\n",
            "          (intermediate): BertIntermediate(\n",
            "            (dense): Linear(in_features=768, out_features=3072, bias=True)\n",
            "          )\n",
            "          (output): BertOutput(\n",
            "            (dense): Linear(in_features=3072, out_features=768, bias=True)\n",
            "            (LayerNorm): BertLayerNorm()\n",
            "            (dropout): Dropout(p=0.1, inplace=False)\n",
            "          )\n",
            "        )\n",
            "        (9): BertLayer(\n",
            "          (attention): BertAttention(\n",
            "            (self): BertSelfAttention(\n",
            "              (query): Linear(in_features=768, out_features=768, bias=True)\n",
            "              (key): Linear(in_features=768, out_features=768, bias=True)\n",
            "              (value): Linear(in_features=768, out_features=768, bias=True)\n",
            "              (dropout): Dropout(p=0.1, inplace=False)\n",
            "            )\n",
            "            (output): BertSelfOutput(\n",
            "              (dense): Linear(in_features=768, out_features=768, bias=True)\n",
            "              (LayerNorm): BertLayerNorm()\n",
            "              (dropout): Dropout(p=0.1, inplace=False)\n",
            "            )\n",
            "          )\n",
            "          (intermediate): BertIntermediate(\n",
            "            (dense): Linear(in_features=768, out_features=3072, bias=True)\n",
            "          )\n",
            "          (output): BertOutput(\n",
            "            (dense): Linear(in_features=3072, out_features=768, bias=True)\n",
            "            (LayerNorm): BertLayerNorm()\n",
            "            (dropout): Dropout(p=0.1, inplace=False)\n",
            "          )\n",
            "        )\n",
            "        (10): BertLayer(\n",
            "          (attention): BertAttention(\n",
            "            (self): BertSelfAttention(\n",
            "              (query): Linear(in_features=768, out_features=768, bias=True)\n",
            "              (key): Linear(in_features=768, out_features=768, bias=True)\n",
            "              (value): Linear(in_features=768, out_features=768, bias=True)\n",
            "              (dropout): Dropout(p=0.1, inplace=False)\n",
            "            )\n",
            "            (output): BertSelfOutput(\n",
            "              (dense): Linear(in_features=768, out_features=768, bias=True)\n",
            "              (LayerNorm): BertLayerNorm()\n",
            "              (dropout): Dropout(p=0.1, inplace=False)\n",
            "            )\n",
            "          )\n",
            "          (intermediate): BertIntermediate(\n",
            "            (dense): Linear(in_features=768, out_features=3072, bias=True)\n",
            "          )\n",
            "          (output): BertOutput(\n",
            "            (dense): Linear(in_features=3072, out_features=768, bias=True)\n",
            "            (LayerNorm): BertLayerNorm()\n",
            "            (dropout): Dropout(p=0.1, inplace=False)\n",
            "          )\n",
            "        )\n",
            "        (11): BertLayer(\n",
            "          (attention): BertAttention(\n",
            "            (self): BertSelfAttention(\n",
            "              (query): Linear(in_features=768, out_features=768, bias=True)\n",
            "              (key): Linear(in_features=768, out_features=768, bias=True)\n",
            "              (value): Linear(in_features=768, out_features=768, bias=True)\n",
            "              (dropout): Dropout(p=0.1, inplace=False)\n",
            "            )\n",
            "            (output): BertSelfOutput(\n",
            "              (dense): Linear(in_features=768, out_features=768, bias=True)\n",
            "              (LayerNorm): BertLayerNorm()\n",
            "              (dropout): Dropout(p=0.1, inplace=False)\n",
            "            )\n",
            "          )\n",
            "          (intermediate): BertIntermediate(\n",
            "            (dense): Linear(in_features=768, out_features=3072, bias=True)\n",
            "          )\n",
            "          (output): BertOutput(\n",
            "            (dense): Linear(in_features=3072, out_features=768, bias=True)\n",
            "            (LayerNorm): BertLayerNorm()\n",
            "            (dropout): Dropout(p=0.1, inplace=False)\n",
            "          )\n",
            "        )\n",
            "      )\n",
            "    )\n",
            "    (pooler): BertPooler(\n",
            "      (dense): Linear(in_features=768, out_features=768, bias=True)\n",
            "      (activation): Tanh()\n",
            "    )\n",
            "  )\n",
            "  (dropout): Dropout(p=0.1, inplace=False)\n",
            "  (classifier): Linear(in_features=768, out_features=2, bias=True)\n",
            ")\n"
          ],
          "name": "stdout"
        }
      ]
    },
    {
      "cell_type": "code",
      "metadata": {
        "id": "mzdUCcVtsd-s",
        "colab_type": "code",
        "outputId": "f7da9c14-5675-423d-f62f-3908005b143b",
        "colab": {
          "base_uri": "https://localhost:8080/",
          "height": 1000
        }
      },
      "source": [
        "model.to(device)\n",
        "\n",
        "#model.freeze_bert_encoder()\n",
        "#model.classifier.weight.requires_grad = True\n",
        "#    def freeze_bert_encoder(self):\n",
        "#        for param in self.bert.parameters():\n",
        "#            param.requires_grad = False\n",
        "#    \n",
        "#    def unfreeze_bert_encoder(self):\n",
        "#        for param in self.bert.parameters():\n",
        "#            param.requires_grad = True"
      ],
      "execution_count": 0,
      "outputs": [
        {
          "output_type": "execute_result",
          "data": {
            "text/plain": [
              "BertForSequenceClassification(\n",
              "  (bert): BertModel(\n",
              "    (embeddings): BertEmbeddings(\n",
              "      (word_embeddings): Embedding(30522, 768, padding_idx=0)\n",
              "      (position_embeddings): Embedding(512, 768)\n",
              "      (token_type_embeddings): Embedding(2, 768)\n",
              "      (LayerNorm): BertLayerNorm()\n",
              "      (dropout): Dropout(p=0.1, inplace=False)\n",
              "    )\n",
              "    (encoder): BertEncoder(\n",
              "      (layer): ModuleList(\n",
              "        (0): BertLayer(\n",
              "          (attention): BertAttention(\n",
              "            (self): BertSelfAttention(\n",
              "              (query): Linear(in_features=768, out_features=768, bias=True)\n",
              "              (key): Linear(in_features=768, out_features=768, bias=True)\n",
              "              (value): Linear(in_features=768, out_features=768, bias=True)\n",
              "              (dropout): Dropout(p=0.1, inplace=False)\n",
              "            )\n",
              "            (output): BertSelfOutput(\n",
              "              (dense): Linear(in_features=768, out_features=768, bias=True)\n",
              "              (LayerNorm): BertLayerNorm()\n",
              "              (dropout): Dropout(p=0.1, inplace=False)\n",
              "            )\n",
              "          )\n",
              "          (intermediate): BertIntermediate(\n",
              "            (dense): Linear(in_features=768, out_features=3072, bias=True)\n",
              "          )\n",
              "          (output): BertOutput(\n",
              "            (dense): Linear(in_features=3072, out_features=768, bias=True)\n",
              "            (LayerNorm): BertLayerNorm()\n",
              "            (dropout): Dropout(p=0.1, inplace=False)\n",
              "          )\n",
              "        )\n",
              "        (1): BertLayer(\n",
              "          (attention): BertAttention(\n",
              "            (self): BertSelfAttention(\n",
              "              (query): Linear(in_features=768, out_features=768, bias=True)\n",
              "              (key): Linear(in_features=768, out_features=768, bias=True)\n",
              "              (value): Linear(in_features=768, out_features=768, bias=True)\n",
              "              (dropout): Dropout(p=0.1, inplace=False)\n",
              "            )\n",
              "            (output): BertSelfOutput(\n",
              "              (dense): Linear(in_features=768, out_features=768, bias=True)\n",
              "              (LayerNorm): BertLayerNorm()\n",
              "              (dropout): Dropout(p=0.1, inplace=False)\n",
              "            )\n",
              "          )\n",
              "          (intermediate): BertIntermediate(\n",
              "            (dense): Linear(in_features=768, out_features=3072, bias=True)\n",
              "          )\n",
              "          (output): BertOutput(\n",
              "            (dense): Linear(in_features=3072, out_features=768, bias=True)\n",
              "            (LayerNorm): BertLayerNorm()\n",
              "            (dropout): Dropout(p=0.1, inplace=False)\n",
              "          )\n",
              "        )\n",
              "        (2): BertLayer(\n",
              "          (attention): BertAttention(\n",
              "            (self): BertSelfAttention(\n",
              "              (query): Linear(in_features=768, out_features=768, bias=True)\n",
              "              (key): Linear(in_features=768, out_features=768, bias=True)\n",
              "              (value): Linear(in_features=768, out_features=768, bias=True)\n",
              "              (dropout): Dropout(p=0.1, inplace=False)\n",
              "            )\n",
              "            (output): BertSelfOutput(\n",
              "              (dense): Linear(in_features=768, out_features=768, bias=True)\n",
              "              (LayerNorm): BertLayerNorm()\n",
              "              (dropout): Dropout(p=0.1, inplace=False)\n",
              "            )\n",
              "          )\n",
              "          (intermediate): BertIntermediate(\n",
              "            (dense): Linear(in_features=768, out_features=3072, bias=True)\n",
              "          )\n",
              "          (output): BertOutput(\n",
              "            (dense): Linear(in_features=3072, out_features=768, bias=True)\n",
              "            (LayerNorm): BertLayerNorm()\n",
              "            (dropout): Dropout(p=0.1, inplace=False)\n",
              "          )\n",
              "        )\n",
              "        (3): BertLayer(\n",
              "          (attention): BertAttention(\n",
              "            (self): BertSelfAttention(\n",
              "              (query): Linear(in_features=768, out_features=768, bias=True)\n",
              "              (key): Linear(in_features=768, out_features=768, bias=True)\n",
              "              (value): Linear(in_features=768, out_features=768, bias=True)\n",
              "              (dropout): Dropout(p=0.1, inplace=False)\n",
              "            )\n",
              "            (output): BertSelfOutput(\n",
              "              (dense): Linear(in_features=768, out_features=768, bias=True)\n",
              "              (LayerNorm): BertLayerNorm()\n",
              "              (dropout): Dropout(p=0.1, inplace=False)\n",
              "            )\n",
              "          )\n",
              "          (intermediate): BertIntermediate(\n",
              "            (dense): Linear(in_features=768, out_features=3072, bias=True)\n",
              "          )\n",
              "          (output): BertOutput(\n",
              "            (dense): Linear(in_features=3072, out_features=768, bias=True)\n",
              "            (LayerNorm): BertLayerNorm()\n",
              "            (dropout): Dropout(p=0.1, inplace=False)\n",
              "          )\n",
              "        )\n",
              "        (4): BertLayer(\n",
              "          (attention): BertAttention(\n",
              "            (self): BertSelfAttention(\n",
              "              (query): Linear(in_features=768, out_features=768, bias=True)\n",
              "              (key): Linear(in_features=768, out_features=768, bias=True)\n",
              "              (value): Linear(in_features=768, out_features=768, bias=True)\n",
              "              (dropout): Dropout(p=0.1, inplace=False)\n",
              "            )\n",
              "            (output): BertSelfOutput(\n",
              "              (dense): Linear(in_features=768, out_features=768, bias=True)\n",
              "              (LayerNorm): BertLayerNorm()\n",
              "              (dropout): Dropout(p=0.1, inplace=False)\n",
              "            )\n",
              "          )\n",
              "          (intermediate): BertIntermediate(\n",
              "            (dense): Linear(in_features=768, out_features=3072, bias=True)\n",
              "          )\n",
              "          (output): BertOutput(\n",
              "            (dense): Linear(in_features=3072, out_features=768, bias=True)\n",
              "            (LayerNorm): BertLayerNorm()\n",
              "            (dropout): Dropout(p=0.1, inplace=False)\n",
              "          )\n",
              "        )\n",
              "        (5): BertLayer(\n",
              "          (attention): BertAttention(\n",
              "            (self): BertSelfAttention(\n",
              "              (query): Linear(in_features=768, out_features=768, bias=True)\n",
              "              (key): Linear(in_features=768, out_features=768, bias=True)\n",
              "              (value): Linear(in_features=768, out_features=768, bias=True)\n",
              "              (dropout): Dropout(p=0.1, inplace=False)\n",
              "            )\n",
              "            (output): BertSelfOutput(\n",
              "              (dense): Linear(in_features=768, out_features=768, bias=True)\n",
              "              (LayerNorm): BertLayerNorm()\n",
              "              (dropout): Dropout(p=0.1, inplace=False)\n",
              "            )\n",
              "          )\n",
              "          (intermediate): BertIntermediate(\n",
              "            (dense): Linear(in_features=768, out_features=3072, bias=True)\n",
              "          )\n",
              "          (output): BertOutput(\n",
              "            (dense): Linear(in_features=3072, out_features=768, bias=True)\n",
              "            (LayerNorm): BertLayerNorm()\n",
              "            (dropout): Dropout(p=0.1, inplace=False)\n",
              "          )\n",
              "        )\n",
              "        (6): BertLayer(\n",
              "          (attention): BertAttention(\n",
              "            (self): BertSelfAttention(\n",
              "              (query): Linear(in_features=768, out_features=768, bias=True)\n",
              "              (key): Linear(in_features=768, out_features=768, bias=True)\n",
              "              (value): Linear(in_features=768, out_features=768, bias=True)\n",
              "              (dropout): Dropout(p=0.1, inplace=False)\n",
              "            )\n",
              "            (output): BertSelfOutput(\n",
              "              (dense): Linear(in_features=768, out_features=768, bias=True)\n",
              "              (LayerNorm): BertLayerNorm()\n",
              "              (dropout): Dropout(p=0.1, inplace=False)\n",
              "            )\n",
              "          )\n",
              "          (intermediate): BertIntermediate(\n",
              "            (dense): Linear(in_features=768, out_features=3072, bias=True)\n",
              "          )\n",
              "          (output): BertOutput(\n",
              "            (dense): Linear(in_features=3072, out_features=768, bias=True)\n",
              "            (LayerNorm): BertLayerNorm()\n",
              "            (dropout): Dropout(p=0.1, inplace=False)\n",
              "          )\n",
              "        )\n",
              "        (7): BertLayer(\n",
              "          (attention): BertAttention(\n",
              "            (self): BertSelfAttention(\n",
              "              (query): Linear(in_features=768, out_features=768, bias=True)\n",
              "              (key): Linear(in_features=768, out_features=768, bias=True)\n",
              "              (value): Linear(in_features=768, out_features=768, bias=True)\n",
              "              (dropout): Dropout(p=0.1, inplace=False)\n",
              "            )\n",
              "            (output): BertSelfOutput(\n",
              "              (dense): Linear(in_features=768, out_features=768, bias=True)\n",
              "              (LayerNorm): BertLayerNorm()\n",
              "              (dropout): Dropout(p=0.1, inplace=False)\n",
              "            )\n",
              "          )\n",
              "          (intermediate): BertIntermediate(\n",
              "            (dense): Linear(in_features=768, out_features=3072, bias=True)\n",
              "          )\n",
              "          (output): BertOutput(\n",
              "            (dense): Linear(in_features=3072, out_features=768, bias=True)\n",
              "            (LayerNorm): BertLayerNorm()\n",
              "            (dropout): Dropout(p=0.1, inplace=False)\n",
              "          )\n",
              "        )\n",
              "        (8): BertLayer(\n",
              "          (attention): BertAttention(\n",
              "            (self): BertSelfAttention(\n",
              "              (query): Linear(in_features=768, out_features=768, bias=True)\n",
              "              (key): Linear(in_features=768, out_features=768, bias=True)\n",
              "              (value): Linear(in_features=768, out_features=768, bias=True)\n",
              "              (dropout): Dropout(p=0.1, inplace=False)\n",
              "            )\n",
              "            (output): BertSelfOutput(\n",
              "              (dense): Linear(in_features=768, out_features=768, bias=True)\n",
              "              (LayerNorm): BertLayerNorm()\n",
              "              (dropout): Dropout(p=0.1, inplace=False)\n",
              "            )\n",
              "          )\n",
              "          (intermediate): BertIntermediate(\n",
              "            (dense): Linear(in_features=768, out_features=3072, bias=True)\n",
              "          )\n",
              "          (output): BertOutput(\n",
              "            (dense): Linear(in_features=3072, out_features=768, bias=True)\n",
              "            (LayerNorm): BertLayerNorm()\n",
              "            (dropout): Dropout(p=0.1, inplace=False)\n",
              "          )\n",
              "        )\n",
              "        (9): BertLayer(\n",
              "          (attention): BertAttention(\n",
              "            (self): BertSelfAttention(\n",
              "              (query): Linear(in_features=768, out_features=768, bias=True)\n",
              "              (key): Linear(in_features=768, out_features=768, bias=True)\n",
              "              (value): Linear(in_features=768, out_features=768, bias=True)\n",
              "              (dropout): Dropout(p=0.1, inplace=False)\n",
              "            )\n",
              "            (output): BertSelfOutput(\n",
              "              (dense): Linear(in_features=768, out_features=768, bias=True)\n",
              "              (LayerNorm): BertLayerNorm()\n",
              "              (dropout): Dropout(p=0.1, inplace=False)\n",
              "            )\n",
              "          )\n",
              "          (intermediate): BertIntermediate(\n",
              "            (dense): Linear(in_features=768, out_features=3072, bias=True)\n",
              "          )\n",
              "          (output): BertOutput(\n",
              "            (dense): Linear(in_features=3072, out_features=768, bias=True)\n",
              "            (LayerNorm): BertLayerNorm()\n",
              "            (dropout): Dropout(p=0.1, inplace=False)\n",
              "          )\n",
              "        )\n",
              "        (10): BertLayer(\n",
              "          (attention): BertAttention(\n",
              "            (self): BertSelfAttention(\n",
              "              (query): Linear(in_features=768, out_features=768, bias=True)\n",
              "              (key): Linear(in_features=768, out_features=768, bias=True)\n",
              "              (value): Linear(in_features=768, out_features=768, bias=True)\n",
              "              (dropout): Dropout(p=0.1, inplace=False)\n",
              "            )\n",
              "            (output): BertSelfOutput(\n",
              "              (dense): Linear(in_features=768, out_features=768, bias=True)\n",
              "              (LayerNorm): BertLayerNorm()\n",
              "              (dropout): Dropout(p=0.1, inplace=False)\n",
              "            )\n",
              "          )\n",
              "          (intermediate): BertIntermediate(\n",
              "            (dense): Linear(in_features=768, out_features=3072, bias=True)\n",
              "          )\n",
              "          (output): BertOutput(\n",
              "            (dense): Linear(in_features=3072, out_features=768, bias=True)\n",
              "            (LayerNorm): BertLayerNorm()\n",
              "            (dropout): Dropout(p=0.1, inplace=False)\n",
              "          )\n",
              "        )\n",
              "        (11): BertLayer(\n",
              "          (attention): BertAttention(\n",
              "            (self): BertSelfAttention(\n",
              "              (query): Linear(in_features=768, out_features=768, bias=True)\n",
              "              (key): Linear(in_features=768, out_features=768, bias=True)\n",
              "              (value): Linear(in_features=768, out_features=768, bias=True)\n",
              "              (dropout): Dropout(p=0.1, inplace=False)\n",
              "            )\n",
              "            (output): BertSelfOutput(\n",
              "              (dense): Linear(in_features=768, out_features=768, bias=True)\n",
              "              (LayerNorm): BertLayerNorm()\n",
              "              (dropout): Dropout(p=0.1, inplace=False)\n",
              "            )\n",
              "          )\n",
              "          (intermediate): BertIntermediate(\n",
              "            (dense): Linear(in_features=768, out_features=3072, bias=True)\n",
              "          )\n",
              "          (output): BertOutput(\n",
              "            (dense): Linear(in_features=3072, out_features=768, bias=True)\n",
              "            (LayerNorm): BertLayerNorm()\n",
              "            (dropout): Dropout(p=0.1, inplace=False)\n",
              "          )\n",
              "        )\n",
              "      )\n",
              "    )\n",
              "    (pooler): BertPooler(\n",
              "      (dense): Linear(in_features=768, out_features=768, bias=True)\n",
              "      (activation): Tanh()\n",
              "    )\n",
              "  )\n",
              "  (dropout): Dropout(p=0.1, inplace=False)\n",
              "  (classifier): Linear(in_features=768, out_features=2, bias=True)\n",
              ")"
            ]
          },
          "metadata": {
            "tags": []
          },
          "execution_count": 27
        }
      ]
    },
    {
      "cell_type": "code",
      "metadata": {
        "id": "OJrcFSUCsjLr",
        "colab_type": "code",
        "colab": {}
      },
      "source": [
        "lrlast = .001\n",
        "lrmain = .00001\n",
        "optim1 = optim.Adam(\n",
        "    [\n",
        "        {\"params\":model.bert.parameters(),\"lr\": lrmain},\n",
        "        {\"params\":model.classifier.parameters(), \"lr\": lrlast},\n",
        "       \n",
        "   ])\n",
        "\n",
        "#optim1 = optim.Adam(model.parameters(), lr=0.001)#,momentum=.9)\n",
        "# Observe that all parameters are being optimized\n",
        "optimizer_ft = optim1\n",
        "criterion = nn.CrossEntropyLoss() # loss function\n",
        "\n",
        "# Decay LR by a factor of 0.1 every 7 epochs\n",
        "exp_lr_scheduler = lr_scheduler.StepLR(optimizer_ft, step_size=3, gamma=0.1)"
      ],
      "execution_count": 0,
      "outputs": []
    },
    {
      "cell_type": "markdown",
      "metadata": {
        "id": "dJdZLTs7srYo",
        "colab_type": "text"
      },
      "source": [
        "## 4.2 F1 and other para details"
      ]
    },
    {
      "cell_type": "code",
      "metadata": {
        "id": "nuDSnzjeso0w",
        "colab_type": "code",
        "outputId": "6287af6e-8e56-4c83-dd8b-65d0e954a4d9",
        "colab": {
          "base_uri": "https://localhost:8080/",
          "height": 1000
        }
      },
      "source": [
        "model_ft1 = train_model(model, criterion, optimizer_ft, exp_lr_scheduler,num_epochs=10)"
      ],
      "execution_count": 0,
      "outputs": [
        {
          "output_type": "stream",
          "text": [
            "starting\n",
            "Epoch 0/9\n",
            "----------\n"
          ],
          "name": "stdout"
        },
        {
          "output_type": "stream",
          "text": [
            "/usr/local/lib/python3.6/dist-packages/torch/optim/lr_scheduler.py:100: UserWarning: Detected call of `lr_scheduler.step()` before `optimizer.step()`. In PyTorch 1.1.0 and later, you should call them in the opposite order: `optimizer.step()` before `lr_scheduler.step()`.  Failure to do this will result in PyTorch skipping the first value of the learning rate schedule.See more details at https://pytorch.org/docs/stable/optim.html#how-to-adjust-learning-rate\n",
            "  \"https://pytorch.org/docs/stable/optim.html#how-to-adjust-learning-rate\", UserWarning)\n"
          ],
          "name": "stderr"
        },
        {
          "output_type": "display_data",
          "data": {
            "image/png": "[encoded data removed]",
            "text/plain": [
              "<Figure size 432x288 with 1 Axes>"
            ]
          },
          "metadata": {
            "tags": []
          }
        },
        {
          "output_type": "stream",
          "text": [
            "train F1: 0.8853 \n",
            "train accuracy: 0.8881 \n"
          ],
          "name": "stdout"
        },
        {
          "output_type": "display_data",
          "data": {
            "image/png": "[encoded data removed]",
            "text/plain": [
              "<Figure size 432x288 with 1 Axes>"
            ]
          },
          "metadata": {
            "tags": []
          }
        },
        {
          "output_type": "stream",
          "text": [
            "val F1: 0.9500 \n",
            "val accuracy: 0.9490 \n",
            "saving with loss of 0.36194135680567396 improved over previous 100\n",
            "\n",
            "Epoch 1/9\n",
            "----------\n"
          ],
          "name": "stdout"
        },
        {
          "output_type": "display_data",
          "data": {
            "image/png": "[encoded data removed]",
            "text/plain": [
              "<Figure size 432x288 with 1 Axes>"
            ]
          },
          "metadata": {
            "tags": []
          }
        },
        {
          "output_type": "stream",
          "text": [
            "train F1: 0.9420 \n",
            "train accuracy: 0.9432 \n"
          ],
          "name": "stdout"
        },
        {
          "output_type": "display_data",
          "data": {
            "image/png": "[encoded data removed]",
            "text/plain": [
              "<Figure size 432x288 with 1 Axes>"
            ]
          },
          "metadata": {
            "tags": []
          }
        },
        {
          "output_type": "stream",
          "text": [
            "val F1: 0.9588 \n",
            "val accuracy: 0.9590 \n",
            "saving with loss of 0.3526385567302393 improved over previous 0.36194135680567396\n",
            "\n",
            "Epoch 2/9\n",
            "----------\n"
          ],
          "name": "stdout"
        },
        {
          "output_type": "display_data",
          "data": {
            "image/png": "[encoded data removed]",
            "text/plain": [
              "<Figure size 432x288 with 1 Axes>"
            ]
          },
          "metadata": {
            "tags": []
          }
        },
        {
          "output_type": "stream",
          "text": [
            "train F1: 0.9645 \n",
            "train accuracy: 0.9653 \n"
          ],
          "name": "stdout"
        },
        {
          "output_type": "display_data",
          "data": {
            "image/png": "[encoded data removed]",
            "text/plain": [
              "<Figure size 432x288 with 1 Axes>"
            ]
          },
          "metadata": {
            "tags": []
          }
        },
        {
          "output_type": "stream",
          "text": [
            "val F1: 0.9671 \n",
            "val accuracy: 0.9669 \n",
            "saving with loss of 0.3466916621233024 improved over previous 0.3526385567302393\n",
            "\n",
            "Epoch 3/9\n",
            "----------\n"
          ],
          "name": "stdout"
        },
        {
          "output_type": "display_data",
          "data": {
            "image/png": "[encoded data removed]",
            "text/plain": [
              "<Figure size 432x288 with 1 Axes>"
            ]
          },
          "metadata": {
            "tags": []
          }
        },
        {
          "output_type": "stream",
          "text": [
            "train F1: 0.9688 \n",
            "train accuracy: 0.9693 \n"
          ],
          "name": "stdout"
        },
        {
          "output_type": "display_data",
          "data": {
            "image/png": "[encoded data removed]",
            "text/plain": [
              "<Figure size 432x288 with 1 Axes>"
            ]
          },
          "metadata": {
            "tags": []
          }
        },
        {
          "output_type": "stream",
          "text": [
            "val F1: 0.9660 \n",
            "val accuracy: 0.9658 \n",
            "saving with loss of 0.3457775747913991 improved over previous 0.3466916621233024\n",
            "\n",
            "Epoch 4/9\n",
            "----------\n"
          ],
          "name": "stdout"
        },
        {
          "output_type": "display_data",
          "data": {
            "image/png": "[encoded data removed]",
            "text/plain": [
              "<Figure size 432x288 with 1 Axes>"
            ]
          },
          "metadata": {
            "tags": []
          }
        },
        {
          "output_type": "stream",
          "text": [
            "train F1: 0.9704 \n",
            "train accuracy: 0.9709 \n"
          ],
          "name": "stdout"
        },
        {
          "output_type": "display_data",
          "data": {
            "image/png": "[encoded data removed]",
            "text/plain": [
              "<Figure size 432x288 with 1 Axes>"
            ]
          },
          "metadata": {
            "tags": []
          }
        },
        {
          "output_type": "stream",
          "text": [
            "val F1: 0.9649 \n",
            "val accuracy: 0.9648 \n",
            "\n",
            "Epoch 5/9\n",
            "----------\n"
          ],
          "name": "stdout"
        },
        {
          "output_type": "display_data",
          "data": {
            "image/png": "[encoded data removed]",
            "text/plain": [
              "<Figure size 432x288 with 1 Axes>"
            ]
          },
          "metadata": {
            "tags": []
          }
        },
        {
          "output_type": "stream",
          "text": [
            "train F1: 0.9768 \n",
            "train accuracy: 0.9772 \n"
          ],
          "name": "stdout"
        },
        {
          "output_type": "display_data",
          "data": {
            "image/png": "[encoded data removed]",
            "text/plain": [
              "<Figure size 432x288 with 1 Axes>"
            ]
          },
          "metadata": {
            "tags": []
          }
        },
        {
          "output_type": "stream",
          "text": [
            "val F1: 0.9621 \n",
            "val accuracy: 0.9621 \n",
            "\n",
            "Epoch 6/9\n",
            "----------\n"
          ],
          "name": "stdout"
        },
        {
          "output_type": "display_data",
          "data": {
            "image/png": "[encoded data removed]",
            "text/plain": [
              "<Figure size 432x288 with 1 Axes>"
            ]
          },
          "metadata": {
            "tags": []
          }
        },
        {
          "output_type": "stream",
          "text": [
            "train F1: 0.9759 \n",
            "train accuracy: 0.9763 \n"
          ],
          "name": "stdout"
        },
        {
          "output_type": "display_data",
          "data": {
            "image/png": "[encoded data removed]",
            "text/plain": [
              "<Figure size 432x288 with 1 Axes>"
            ]
          },
          "metadata": {
            "tags": []
          }
        },
        {
          "output_type": "stream",
          "text": [
            "val F1: 0.9675 \n",
            "val accuracy: 0.9674 \n",
            "\n",
            "Epoch 7/9\n",
            "----------\n"
          ],
          "name": "stdout"
        },
        {
          "output_type": "display_data",
          "data": {
            "image/png": "[encoded data removed]",
            "text/plain": [
              "<Figure size 432x288 with 1 Axes>"
            ]
          },
          "metadata": {
            "tags": []
          }
        },
        {
          "output_type": "stream",
          "text": [
            "train F1: 0.9775 \n",
            "train accuracy: 0.9779 \n"
          ],
          "name": "stdout"
        },
        {
          "output_type": "display_data",
          "data": {
            "image/png": "[encoded data removed]",
            "text/plain": [
              "<Figure size 432x288 with 1 Axes>"
            ]
          },
          "metadata": {
            "tags": []
          }
        },
        {
          "output_type": "stream",
          "text": [
            "val F1: 0.9659 \n",
            "val accuracy: 0.9658 \n",
            "\n",
            "Epoch 8/9\n",
            "----------\n"
          ],
          "name": "stdout"
        },
        {
          "output_type": "display_data",
          "data": {
            "image/png": "[encoded data removed]",
            "text/plain": [
              "<Figure size 432x288 with 1 Axes>"
            ]
          },
          "metadata": {
            "tags": []
          }
        },
        {
          "output_type": "stream",
          "text": [
            "train F1: 0.9782 \n",
            "train accuracy: 0.9786 \n"
          ],
          "name": "stdout"
        },
        {
          "output_type": "display_data",
          "data": {
            "image/png": "[encoded data removed]",
            "text/plain": [
              "<Figure size 432x288 with 1 Axes>"
            ]
          },
          "metadata": {
            "tags": []
          }
        },
        {
          "output_type": "stream",
          "text": [
            "val F1: 0.9653 \n",
            "val accuracy: 0.9653 \n",
            "\n",
            "Epoch 9/9\n",
            "----------\n"
          ],
          "name": "stdout"
        },
        {
          "output_type": "display_data",
          "data": {
            "image/png": "[encoded data removed]",
            "text/plain": [
              "<Figure size 432x288 with 1 Axes>"
            ]
          },
          "metadata": {
            "tags": []
          }
        },
        {
          "output_type": "stream",
          "text": [
            "train F1: 0.9773 \n",
            "train accuracy: 0.9777 \n"
          ],
          "name": "stdout"
        },
        {
          "output_type": "display_data",
          "data": {
            "image/png": "[encoded data removed]",
            "text/plain": [
              "<Figure size 432x288 with 1 Axes>"
            ]
          },
          "metadata": {
            "tags": []
          }
        },
        {
          "output_type": "stream",
          "text": [
            "val F1: 0.9653 \n",
            "val accuracy: 0.9653 \n",
            "\n",
            "Training complete in 35m 49s\n",
            "Parament setting: \n",
            "cased:  0\n",
            "cleanup:  1\n",
            "eda:  1\n",
            "Best train Acc: 0.978575\n",
            "Best test Acc: 0.967386\n",
            "Best f1 score: 0.978206\n"
          ],
          "name": "stdout"
        }
      ]
    },
    {
      "cell_type": "code",
      "metadata": {
        "id": "agMUul1eJeJP",
        "colab_type": "code",
        "colab": {}
      },
      "source": [
        "def getPrediction(in_sentences):\n",
        "  labels = [\"Real\", \"Fake\"]\n",
        "  input_examples = [run_classifier.InputExample(guid=\"\", text_a = x, text_b = None, label = 0) for x in in_sentences] # here, \"\" is just a dummy label\n",
        "  input_features = run_classifier.convert_examples_to_features(input_examples, label_list, MAX_SEQ_LENGTH, tokenizer)\n",
        "  predict_input_fn = run_classifier.input_fn_builder(features=input_features, seq_length=MAX_SEQ_LENGTH, is_training=False, drop_remainder=False)\n",
        "  predictions = estimator.predict(predict_input_fn)\n",
        "  return [(sentence, prediction['probabilities'], labels[prediction['labels']]) for sentence, prediction in zip(in_sentences, predictions)]"
      ],
      "execution_count": 0,
      "outputs": []
    },
    {
      "cell_type": "code",
      "metadata": {
        "id": "ZVxwmt2LJoW6",
        "colab_type": "code",
        "colab": {}
      },
      "source": [
        "pred_sentences = [\n",
        "  \"The Trump-Ukraine impeachment inquiry report, annotated\",\n",
        "  \"President Trump killed Modi\",\n",
        "]"
      ],
      "execution_count": 0,
      "outputs": []
    },
    {
      "cell_type": "code",
      "metadata": {
        "id": "e2TQlTcNKa1Y",
        "colab_type": "code",
        "colab": {}
      },
      "source": [
        "# predictions = getPrediction(pred_sentences)"
      ],
      "execution_count": 0,
      "outputs": []
    },
    {
      "cell_type": "code",
      "metadata": {
        "id": "xHB8isYWb8IE",
        "colab_type": "code",
        "colab": {}
      },
      "source": [
        "import pandas as pd\n",
        "import numpy as np\n",
        "import itertools\n",
        "from sklearn.feature_extraction.text import CountVectorizer, TfidfVectorizer, HashingVectorizer\n",
        "from sklearn.model_selection import train_test_split\n",
        "from sklearn.linear_model import PassiveAggressiveClassifier, SGDClassifier\n",
        "from sklearn.svm import LinearSVC\n",
        "from sklearn.naive_bayes import MultinomialNB\n",
        "from sklearn import metrics\n",
        "import matplotlib.pyplot as plt"
      ],
      "execution_count": 0,
      "outputs": []
    },
    {
      "cell_type": "code",
      "metadata": {
        "id": "FfneH12dLzUL",
        "colab_type": "code",
        "outputId": "a2b521da-281c-4a9f-9924-1d0e780969ea",
        "colab": {
          "base_uri": "https://localhost:8080/",
          "height": 34
        }
      },
      "source": [
        "%pylab inline"
      ],
      "execution_count": 0,
      "outputs": [
        {
          "output_type": "stream",
          "text": [
            "Populating the interactive namespace from numpy and matplotlib\n"
          ],
          "name": "stdout"
        }
      ]
    },
    {
      "cell_type": "code",
      "metadata": {
        "id": "1B6T2nCfL3bB",
        "colab_type": "code",
        "colab": {}
      },
      "source": [
        "y = dat.label"
      ],
      "execution_count": 0,
      "outputs": []
    },
    {
      "cell_type": "code",
      "metadata": {
        "id": "Tm05kLIIMQ9G",
        "colab_type": "code",
        "outputId": "3d63beba-9ddc-4f0d-a384-8616ba96963e",
        "colab": {
          "base_uri": "https://localhost:8080/",
          "height": 204
        }
      },
      "source": [
        "df = dat.drop('label', axis=1)\n",
        "df.head()"
      ],
      "execution_count": 0,
      "outputs": [
        {
          "output_type": "execute_result",
          "data": {
            "text/html": [
              "<div>\n",
              "<style scoped>\n",
              "    .dataframe tbody tr th:only-of-type {\n",
              "        vertical-align: middle;\n",
              "    }\n",
              "\n",
              "    .dataframe tbody tr th {\n",
              "        vertical-align: top;\n",
              "    }\n",
              "\n",
              "    .dataframe thead th {\n",
              "        text-align: right;\n",
              "    }\n",
              "</style>\n",
              "<table border=\"1\" class=\"dataframe\">\n",
              "  <thead>\n",
              "    <tr style=\"text-align: right;\">\n",
              "      <th></th>\n",
              "      <th>Unnamed: 0</th>\n",
              "      <th>title</th>\n",
              "      <th>text</th>\n",
              "      <th>title_vectors</th>\n",
              "    </tr>\n",
              "  </thead>\n",
              "  <tbody>\n",
              "    <tr>\n",
              "      <th>0</th>\n",
              "      <td>8476</td>\n",
              "      <td>You Can Smell Hillary’s Fear</td>\n",
              "      <td>Daniel Greenfield, a Shillman Journalism Fello...</td>\n",
              "      <td>[ 1.1533764e-02  4.2144405e-03  1.9692603e-02 ...</td>\n",
              "    </tr>\n",
              "    <tr>\n",
              "      <th>1</th>\n",
              "      <td>10294</td>\n",
              "      <td>Watch The Exact Moment Paul Ryan Committed Pol...</td>\n",
              "      <td>Google Pinterest Digg Linkedin Reddit Stumbleu...</td>\n",
              "      <td>[ 0.11267698  0.02518966 -0.00212591  0.021095...</td>\n",
              "    </tr>\n",
              "    <tr>\n",
              "      <th>2</th>\n",
              "      <td>3608</td>\n",
              "      <td>Kerry to go to Paris in gesture of sympathy</td>\n",
              "      <td>U.S. Secretary of State John F. Kerry said Mon...</td>\n",
              "      <td>[ 0.04253004  0.04300297  0.01848392  0.048672...</td>\n",
              "    </tr>\n",
              "    <tr>\n",
              "      <th>3</th>\n",
              "      <td>10142</td>\n",
              "      <td>Bernie supporters on Twitter erupt in anger ag...</td>\n",
              "      <td>— Kaydee King (@KaydeeKing) November 9, 2016 T...</td>\n",
              "      <td>[ 0.10801624  0.11583211  0.02874823  0.061732...</td>\n",
              "    </tr>\n",
              "    <tr>\n",
              "      <th>4</th>\n",
              "      <td>875</td>\n",
              "      <td>The Battle of New York: Why This Primary Matters</td>\n",
              "      <td>It's primary day in New York and front-runners...</td>\n",
              "      <td>[ 1.69016439e-02  7.13498285e-03 -7.81233795e-...</td>\n",
              "    </tr>\n",
              "  </tbody>\n",
              "</table>\n",
              "</div>"
            ],
            "text/plain": [
              "   Unnamed: 0  ...                                      title_vectors\n",
              "0        8476  ...  [ 1.1533764e-02  4.2144405e-03  1.9692603e-02 ...\n",
              "1       10294  ...  [ 0.11267698  0.02518966 -0.00212591  0.021095...\n",
              "2        3608  ...  [ 0.04253004  0.04300297  0.01848392  0.048672...\n",
              "3       10142  ...  [ 0.10801624  0.11583211  0.02874823  0.061732...\n",
              "4         875  ...  [ 1.69016439e-02  7.13498285e-03 -7.81233795e-...\n",
              "\n",
              "[5 rows x 4 columns]"
            ]
          },
          "metadata": {
            "tags": []
          },
          "execution_count": 6
        }
      ]
    },
    {
      "cell_type": "code",
      "metadata": {
        "id": "pgsVeGbHNEPQ",
        "colab_type": "code",
        "colab": {}
      },
      "source": [
        "X_train, X_test, y_train, y_test = train_test_split(df['text'], y, test_size=0.33, random_state=53)"
      ],
      "execution_count": 0,
      "outputs": []
    },
    {
      "cell_type": "code",
      "metadata": {
        "id": "0ZC1qQwMNFsY",
        "colab_type": "code",
        "colab": {}
      },
      "source": [
        "count_vectorizer = CountVectorizer(stop_words='english')\n",
        "count_train = count_vectorizer.fit_transform(X_train)\n",
        "count_test = count_vectorizer.transform(X_test)"
      ],
      "execution_count": 0,
      "outputs": []
    },
    {
      "cell_type": "code",
      "metadata": {
        "id": "f2eyVlvTNJ7W",
        "colab_type": "code",
        "colab": {}
      },
      "source": [
        "tfidf_vectorizer = TfidfVectorizer(stop_words='english', max_df=0.7)\n",
        "tfidf_train = tfidf_vectorizer.fit_transform(X_train)\n",
        "tfidf_test = tfidf_vectorizer.transform(X_test)"
      ],
      "execution_count": 0,
      "outputs": []
    },
    {
      "cell_type": "markdown",
      "metadata": {
        "id": "meXuSAHvNVf1",
        "colab_type": "text"
      },
      "source": [
        "Training models\n",
        "Now I have my vectors and I can create my different classifiers. There is noise in the dataset, so we should expect to see that reflected in our features. \n",
        "\n",
        "### **I will compare the following models (and training data):**\n",
        "\n",
        "* multinomialNB with counts (sgd_count_clf)\n",
        "* multinomialNB with tf-idf (mn_tfidf_clf)\n",
        "* passive aggressive with tf-idf (pa_tfidf_clf)\n",
        "* linear svc with tf-idf (svc_tfidf_clf)\n",
        "* linear sgd with tf-idf (sgd_tfidf_clf) \n",
        "\n",
        "\n"
      ]
    },
    {
      "cell_type": "code",
      "metadata": {
        "id": "9aJfwb--k3Af",
        "colab_type": "code",
        "colab": {}
      },
      "source": [
        "# from sklearn.pipeline import Pipeline\n",
        "# from sklearn.preprocessing import StandardScaler\n",
        "# from sklearn.decomposition import PCA\n",
        "# from sklearn import svm\n",
        "pipe_svm = Pipeline([('scl', StandardScaler()),\n",
        "\t\t\t('pca', PCA(n_components=2)),\n",
        "\t\t\t('clf', svm.SVC(random_state=42))])\n",
        "\n"
      ],
      "execution_count": 0,
      "outputs": []
    },
    {
      "cell_type": "code",
      "metadata": {
        "id": "vJ0VRjK2NNPn",
        "colab_type": "code",
        "colab": {}
      },
      "source": [
        "mn_count_clf = MultinomialNB(alpha=0.1)"
      ],
      "execution_count": 0,
      "outputs": []
    },
    {
      "cell_type": "code",
      "metadata": {
        "id": "vkwdIsc5RsOh",
        "colab_type": "code",
        "outputId": "623ab821-e35b-49e2-81df-f16ac4129e46",
        "colab": {
          "base_uri": "https://localhost:8080/",
          "height": 34
        }
      },
      "source": [
        "mn_count_clf.fit(count_train, y_train)\n",
        "pred = mn_count_clf.predict(count_test)\n",
        "score = metrics.accuracy_score(y_test, pred)\n",
        "print(\"accuracy:   %0.3f\" % score)"
      ],
      "execution_count": 0,
      "outputs": [
        {
          "output_type": "stream",
          "text": [
            "accuracy:   0.893\n"
          ],
          "name": "stdout"
        }
      ]
    },
    {
      "cell_type": "code",
      "metadata": {
        "id": "ML2-4ZUSSJAB",
        "colab_type": "code",
        "colab": {}
      },
      "source": [
        "mn_tfidf_clf = MultinomialNB(alpha=0.1)"
      ],
      "execution_count": 0,
      "outputs": []
    },
    {
      "cell_type": "code",
      "metadata": {
        "id": "GXuGowRcSRir",
        "colab_type": "code",
        "outputId": "41b1c6fb-7bb2-4381-bf8e-8beda8d358c5",
        "colab": {
          "base_uri": "https://localhost:8080/",
          "height": 34
        }
      },
      "source": [
        "mn_tfidf_clf.fit(tfidf_train, y_train)\n",
        "pred = mn_tfidf_clf.predict(tfidf_test)\n",
        "score = metrics.accuracy_score(y_test, pred)\n",
        "print(\"accuracy:   %0.3f\" % score)"
      ],
      "execution_count": 0,
      "outputs": [
        {
          "output_type": "stream",
          "text": [
            "accuracy:   0.898\n"
          ],
          "name": "stdout"
        }
      ]
    },
    {
      "cell_type": "code",
      "metadata": {
        "id": "Mo2qeQxPSpDl",
        "colab_type": "code",
        "outputId": "557d68f9-4d7e-40aa-e326-4d3bc27321c3",
        "colab": {
          "base_uri": "https://localhost:8080/",
          "height": 34
        }
      },
      "source": [
        "pa_tfidf_clf = PassiveAggressiveClassifier(max_iter=50)\n",
        "pa_tfidf_clf.fit(tfidf_train, y_train)\n",
        "pred = pa_tfidf_clf.predict(tfidf_test)\n",
        "score = metrics.accuracy_score(y_test, pred)\n",
        "print(\"accuracy:   %0.3f\" % score)"
      ],
      "execution_count": 0,
      "outputs": [
        {
          "output_type": "stream",
          "text": [
            "accuracy:   0.936\n"
          ],
          "name": "stdout"
        }
      ]
    },
    {
      "cell_type": "code",
      "metadata": {
        "id": "2v9IfCCtS8Hd",
        "colab_type": "code",
        "outputId": "f87fb9ae-3d8f-4701-c941-566efa5beefd",
        "colab": {
          "base_uri": "https://localhost:8080/",
          "height": 34
        }
      },
      "source": [
        "svc_tfidf_clf = LinearSVC()\n",
        "svc_tfidf_clf.fit(tfidf_train, y_train)\n",
        "pred = svc_tfidf_clf.predict(tfidf_test)\n",
        "score = metrics.accuracy_score(y_test, pred)\n",
        "print(\"accuracy:   %0.3f\" % score)"
      ],
      "execution_count": 0,
      "outputs": [
        {
          "output_type": "stream",
          "text": [
            "accuracy:   0.936\n"
          ],
          "name": "stdout"
        }
      ]
    },
    {
      "cell_type": "code",
      "metadata": {
        "id": "M2Akx-J3TA4G",
        "colab_type": "code",
        "colab": {}
      },
      "source": [
        "sgd_tfidf_clf = SGDClassifier()"
      ],
      "execution_count": 0,
      "outputs": []
    },
    {
      "cell_type": "code",
      "metadata": {
        "id": "B_TuWFLVTEBw",
        "colab_type": "code",
        "outputId": "670383a0-807d-4da9-88fd-e6ae65db5714",
        "colab": {
          "base_uri": "https://localhost:8080/",
          "height": 34
        }
      },
      "source": [
        "sgd_tfidf_clf.fit(tfidf_train, y_train)\n",
        "pred = sgd_tfidf_clf.predict(tfidf_test)\n",
        "score = metrics.accuracy_score(y_test, pred)\n",
        "print(\"accuracy:   %0.3f\" % score)"
      ],
      "execution_count": 0,
      "outputs": [
        {
          "output_type": "stream",
          "text": [
            "accuracy:   0.938\n"
          ],
          "name": "stdout"
        }
      ]
    },
    {
      "cell_type": "code",
      "metadata": {
        "id": "JpdwxtY8THGe",
        "colab_type": "code",
        "colab": {}
      },
      "source": [
        "sgd_tfidf_clf.decision_function?"
      ],
      "execution_count": 0,
      "outputs": []
    },
    {
      "cell_type": "code",
      "metadata": {
        "id": "IoPQm1xwTKe1",
        "colab_type": "code",
        "colab": {}
      },
      "source": [
        "mn_count_clf.predict_proba?"
      ],
      "execution_count": 0,
      "outputs": []
    },
    {
      "cell_type": "code",
      "metadata": {
        "id": "b3V4DxF5TO1W",
        "colab_type": "code",
        "outputId": "89fe4f12-15ad-4a2b-bf16-6f2730c4f7cb",
        "colab": {
          "base_uri": "https://localhost:8080/",
          "height": 282
        }
      },
      "source": [
        "plt.figure(0).clf()\n",
        "\n",
        "for model, name in [ (mn_count_clf, 'multinomial nb count'),\n",
        "                     (mn_tfidf_clf, 'multinomial nb tfidf'),\n",
        "                     (pa_tfidf_clf, 'passive aggressive'),\n",
        "                     (svc_tfidf_clf, 'svc'),\n",
        "                     (sgd_tfidf_clf, 'sgd')]:\n",
        "    if 'count' in name:\n",
        "        pred = model.predict_proba(count_test)[:,1]\n",
        "    elif 'multinomial' in name:\n",
        "        pred = model.predict_proba(tfidf_test)[:,1]\n",
        "    else: \n",
        "        pred = model.decision_function(tfidf_test)\n",
        "    fpr, tpr, thresh = metrics.roc_curve(y_test.values, pred, pos_label='REAL')\n",
        "    plt.plot(fpr,tpr,label=\"{}\".format(name))\n",
        "\n",
        "plt.legend(loc=0)"
      ],
      "execution_count": 0,
      "outputs": [
        {
          "output_type": "execute_result",
          "data": {
            "text/plain": [
              "<matplotlib.legend.Legend at 0x7fa79ac982e8>"
            ]
          },
          "metadata": {
            "tags": []
          },
          "execution_count": 27
        },
        {
          "output_type": "display_data",
          "data": {
            "image/png": "[encoded data removed]",
            "text/plain": [
              "<Figure size 432x288 with 1 Axes>"
            ]
          },
          "metadata": {
            "tags": []
          }
        }
      ]
    },
    {
      "cell_type": "markdown",
      "metadata": {
        "id": "XFLKE5UeTXCD",
        "colab_type": "text"
      },
      "source": [
        "### **Introspecting models**\n",
        "\n",
        "My main goal  is not to compare accuracy, but to compare features learned."
      ]
    },
    {
      "cell_type": "code",
      "metadata": {
        "id": "qUOAp3HxTSA7",
        "colab_type": "code",
        "outputId": "352d6949-bcba-41bf-f315-4c959ddc18b7",
        "colab": {
          "base_uri": "https://localhost:8080/",
          "height": 357
        }
      },
      "source": [
        "def most_informative_feature_for_binary_classification(vectorizer, classifier, n=100):\n",
        "    \"\"\"\n",
        "    See: https://stackoverflow.com/a/26980472\n",
        "    \n",
        "    Identify most important features if given a vectorizer and binary classifier. Set n to the number\n",
        "    of weighted features you would like to show. (Note: current implementation merely prints and does not \n",
        "    return top classes.)\n",
        "    \n",
        "    Modified by @kjam to support a dict return.\n",
        "    \"\"\"\n",
        "\n",
        "    class_labels = classifier.classes_\n",
        "    feature_names = vectorizer.get_feature_names()\n",
        "    topn_class1 = sorted(zip(classifier.coef_[0], feature_names))[:n]\n",
        "    topn_class2 = sorted(zip(classifier.coef_[0], feature_names))[-n:]\n",
        "\n",
        "    return {class_labels[0]: topn_class1,\n",
        "            class_labels[1]: topn_class2\n",
        "    }\n",
        "\n",
        "\n",
        "most_informative_feature_for_binary_classification(tfidf_vectorizer, pa_tfidf_clf, n=10)\n"
      ],
      "execution_count": 0,
      "outputs": [
        {
          "output_type": "execute_result",
          "data": {
            "text/plain": [
              "{'FAKE': [(-5.1601473870070995, '2016'),\n",
              "  (-4.37851568096504, 'october'),\n",
              "  (-4.209769025920726, 'hillary'),\n",
              "  (-3.207029649042383, 'share'),\n",
              "  (-2.850852769492359, 'article'),\n",
              "  (-2.7205669682997837, 'november'),\n",
              "  (-2.632295662366775, 'oct'),\n",
              "  (-2.5881133294946133, 'print'),\n",
              "  (-2.3652563408571363, 'mosul'),\n",
              "  (-2.342001634011376, 'email')],\n",
              " 'REAL': [(2.134847531728619, 'marriage'),\n",
              "  (2.1430596669040347, 'conservative'),\n",
              "  (2.3578893362240607, 'islamic'),\n",
              "  (2.384903054443237, 'candidates'),\n",
              "  (2.395739701299567, 'monday'),\n",
              "  (2.430454224456999, 'cruz'),\n",
              "  (2.4436874443747802, 'gop'),\n",
              "  (2.5780703341072897, 'tuesday'),\n",
              "  (2.8207837578938095, 'says'),\n",
              "  (4.903865819067603, 'said')]}"
            ]
          },
          "metadata": {
            "tags": []
          },
          "execution_count": 28
        }
      ]
    },
    {
      "cell_type": "code",
      "metadata": {
        "id": "bXQ5K0hnT5lN",
        "colab_type": "code",
        "colab": {}
      },
      "source": [
        "classifiers = [(mn_count_clf, count_vectorizer),\n",
        "               (mn_tfidf_clf, tfidf_vectorizer),\n",
        "               (pa_tfidf_clf, tfidf_vectorizer),\n",
        "               (svc_tfidf_clf, tfidf_vectorizer),\n",
        "               (sgd_tfidf_clf, tfidf_vectorizer)]"
      ],
      "execution_count": 0,
      "outputs": []
    },
    {
      "cell_type": "code",
      "metadata": {
        "id": "8Xz0C2QpT874",
        "colab_type": "code",
        "colab": {}
      },
      "source": [
        "results = {}\n",
        "for clf, vct in classifiers:\n",
        "    results[clf] = most_informative_feature_for_binary_classification(vct, clf, n=10)"
      ],
      "execution_count": 0,
      "outputs": []
    },
    {
      "cell_type": "code",
      "metadata": {
        "id": "-hiuFG0cUAJf",
        "colab_type": "code",
        "outputId": "b78cd2c2-dd95-4d2f-bb71-a93b2b1d8eb8",
        "colab": {
          "base_uri": "https://localhost:8080/",
          "height": 1000
        }
      },
      "source": [
        "\n",
        "results"
      ],
      "execution_count": 0,
      "outputs": [
        {
          "output_type": "execute_result",
          "data": {
            "text/plain": [
              "{LinearSVC(C=1.0, class_weight=None, dual=True, fit_intercept=True,\n",
              "           intercept_scaling=1, loss='squared_hinge', max_iter=1000,\n",
              "           multi_class='ovr', penalty='l2', random_state=None, tol=0.0001,\n",
              "           verbose=0): {'FAKE': [(-2.5736799506526755, '2016'),\n",
              "   (-2.53397766238537, 'hillary'),\n",
              "   (-2.283260602788019, 'october'),\n",
              "   (-1.7249574314531206, 'article'),\n",
              "   (-1.7001438764365724, 'november'),\n",
              "   (-1.6804834682651613, 'share'),\n",
              "   (-1.4612959223119264, 'election'),\n",
              "   (-1.3994865071443492, 'print'),\n",
              "   (-1.3618734411171047, 'war'),\n",
              "   (-1.3083279346685635, 'advertisement')],\n",
              "  'REAL': [(1.3417953191109442, 'friday'),\n",
              "   (1.3487553797650658, 'monday'),\n",
              "   (1.3541837754014223, 'cruz'),\n",
              "   (1.3789191298271193, 'gop'),\n",
              "   (1.3919883211279296, 'candidates'),\n",
              "   (1.4222364349064025, 'conservative'),\n",
              "   (1.457060245280152, 'islamic'),\n",
              "   (1.583431729121802, 'says'),\n",
              "   (1.6805119544621276, 'tuesday'),\n",
              "   (3.48021237509473, 'said')]},\n",
              " MultinomialNB(alpha=0.1, class_prior=None, fit_prior=True): {'FAKE': [(-16.067750538483136,\n",
              "    '0000'),\n",
              "   (-16.067750538483136, '000035'),\n",
              "   (-16.067750538483136, '0001'),\n",
              "   (-16.067750538483136, '0001pt'),\n",
              "   (-16.067750538483136, '000km'),\n",
              "   (-16.067750538483136, '0011'),\n",
              "   (-16.067750538483136, '006s'),\n",
              "   (-16.067750538483136, '007'),\n",
              "   (-16.067750538483136, '007s'),\n",
              "   (-16.067750538483136, '008s')],\n",
              "  'REAL': [(-5.675959082863306, 'republican'),\n",
              "   (-5.582298794347825, 'campaign'),\n",
              "   (-5.520542422049422, 'new'),\n",
              "   (-5.463370874939617, 'state'),\n",
              "   (-5.459162531269605, 'obama'),\n",
              "   (-5.429949870021241, 'president'),\n",
              "   (-5.403667459399097, 'people'),\n",
              "   (-4.929358535752954, 'clinton'),\n",
              "   (-4.541306857712, 'trump'),\n",
              "   (-4.424753408851144, 'said')]},\n",
              " MultinomialNB(alpha=0.1, class_prior=None, fit_prior=True): {'FAKE': [(-12.641778440826338,\n",
              "    '0000'),\n",
              "   (-12.641778440826338, '000035'),\n",
              "   (-12.641778440826338, '0001'),\n",
              "   (-12.641778440826338, '0001pt'),\n",
              "   (-12.641778440826338, '000km'),\n",
              "   (-12.641778440826338, '0011'),\n",
              "   (-12.641778440826338, '006s'),\n",
              "   (-12.641778440826338, '007'),\n",
              "   (-12.641778440826338, '007s'),\n",
              "   (-12.641778440826338, '008s')],\n",
              "  'REAL': [(-6.452319082422527, 'cruz'),\n",
              "   (-6.452076515575875, 'state'),\n",
              "   (-6.397696648238072, 'republican'),\n",
              "   (-6.376343060363355, 'campaign'),\n",
              "   (-6.324397735392007, 'president'),\n",
              "   (-6.2546017970213645, 'sanders'),\n",
              "   (-6.144621899738043, 'obama'),\n",
              "   (-5.756817248152807, 'clinton'),\n",
              "   (-5.596085785733112, 'said'),\n",
              "   (-5.357523914504495, 'trump')]},\n",
              " PassiveAggressiveClassifier(C=1.0, average=False, class_weight=None,\n",
              "                             early_stopping=False, fit_intercept=True,\n",
              "                             loss='hinge', max_iter=50, n_iter_no_change=5,\n",
              "                             n_jobs=None, random_state=None, shuffle=True,\n",
              "                             tol=0.001, validation_fraction=0.1, verbose=0,\n",
              "                             warm_start=False): {'FAKE': [(-5.1601473870070995,\n",
              "    '2016'),\n",
              "   (-4.37851568096504, 'october'),\n",
              "   (-4.209769025920726, 'hillary'),\n",
              "   (-3.207029649042383, 'share'),\n",
              "   (-2.850852769492359, 'article'),\n",
              "   (-2.7205669682997837, 'november'),\n",
              "   (-2.632295662366775, 'oct'),\n",
              "   (-2.5881133294946133, 'print'),\n",
              "   (-2.3652563408571363, 'mosul'),\n",
              "   (-2.342001634011376, 'email')],\n",
              "  'REAL': [(2.134847531728619, 'marriage'),\n",
              "   (2.1430596669040347, 'conservative'),\n",
              "   (2.3578893362240607, 'islamic'),\n",
              "   (2.384903054443237, 'candidates'),\n",
              "   (2.395739701299567, 'monday'),\n",
              "   (2.430454224456999, 'cruz'),\n",
              "   (2.4436874443747802, 'gop'),\n",
              "   (2.5780703341072897, 'tuesday'),\n",
              "   (2.8207837578938095, 'says'),\n",
              "   (4.903865819067603, 'said')]},\n",
              " SGDClassifier(alpha=0.0001, average=False, class_weight=None,\n",
              "               early_stopping=False, epsilon=0.1, eta0=0.0, fit_intercept=True,\n",
              "               l1_ratio=0.15, learning_rate='optimal', loss='hinge',\n",
              "               max_iter=1000, n_iter_no_change=5, n_jobs=None, penalty='l2',\n",
              "               power_t=0.5, random_state=None, shuffle=True, tol=0.001,\n",
              "               validation_fraction=0.1, verbose=0, warm_start=False): {'FAKE': [(-3.450047615458604,\n",
              "    'hillary'),\n",
              "   (-3.401768699880271, '2016'),\n",
              "   (-3.0897428152235578, 'october'),\n",
              "   (-2.470943133628962, 'article'),\n",
              "   (-2.247696514065682, 'november'),\n",
              "   (-2.2280287660908202, 'share'),\n",
              "   (-2.0897948958770343, 'print'),\n",
              "   (-2.068360041515991, 'election'),\n",
              "   (-1.9636825000807234, 'war'),\n",
              "   (-1.831115256719481, 'email')],\n",
              "  'REAL': [(1.78417299566815, 'recounts'),\n",
              "   (1.8228188433549006, 'presumptive'),\n",
              "   (1.885719083129692, 'monday'),\n",
              "   (1.8867122804417056, 'conservative'),\n",
              "   (1.902858540767605, 'gop'),\n",
              "   (1.9030607215418323, 'friday'),\n",
              "   (1.9040126490356106, 'islamic'),\n",
              "   (2.0966544860524947, 'says'),\n",
              "   (2.380808141983988, 'tuesday'),\n",
              "   (4.352214291189132, 'said')]}}"
            ]
          },
          "metadata": {
            "tags": []
          },
          "execution_count": 31
        }
      ]
    },
    {
      "cell_type": "markdown",
      "metadata": {
        "id": "dFrSQMOYUG3P",
        "colab_type": "text"
      },
      "source": [
        "**But this is both a bit hard to read and compare. What I really want is to see these possibly with ranks and compare the tokens to one another. Let's transform the data to look better for what we are trying to measure.**"
      ]
    },
    {
      "cell_type": "code",
      "metadata": {
        "id": "g7YlR6cYUJ7j",
        "colab_type": "code",
        "colab": {}
      },
      "source": [
        "comparable_results = {'REAL': {}, 'FAKE': {}}\n",
        "for clf, data in results.items():\n",
        "    clf_name = clf.__class__.__name__\n",
        "    for label, features in data.items():\n",
        "        for rank, score_tuple in enumerate(features):\n",
        "            if score_tuple[1] in comparable_results[label]:\n",
        "                comparable_results[label][score_tuple[1]].append((rank + 1, clf_name))\n",
        "            else:\n",
        "                comparable_results[label][score_tuple[1]] = [(rank + 1, clf_name)]"
      ],
      "execution_count": 0,
      "outputs": []
    },
    {
      "cell_type": "markdown",
      "metadata": {
        "id": "C6Tam3TmUNiJ",
        "colab_type": "text"
      },
      "source": [
        "**Now these are a bit easier to compare and read:**"
      ]
    },
    {
      "cell_type": "code",
      "metadata": {
        "id": "-XHHT76pURs9",
        "colab_type": "code",
        "outputId": "3ddfa34d-c140-41a7-a0e8-ff70fe5b319e",
        "colab": {
          "base_uri": "https://localhost:8080/",
          "height": 646
        }
      },
      "source": [
        "\n",
        "comparable_results['FAKE']"
      ],
      "execution_count": 0,
      "outputs": [
        {
          "output_type": "execute_result",
          "data": {
            "text/plain": [
              "{'0000': [(1, 'MultinomialNB'), (1, 'MultinomialNB')],\n",
              " '000035': [(2, 'MultinomialNB'), (2, 'MultinomialNB')],\n",
              " '0001': [(3, 'MultinomialNB'), (3, 'MultinomialNB')],\n",
              " '0001pt': [(4, 'MultinomialNB'), (4, 'MultinomialNB')],\n",
              " '000km': [(5, 'MultinomialNB'), (5, 'MultinomialNB')],\n",
              " '0011': [(6, 'MultinomialNB'), (6, 'MultinomialNB')],\n",
              " '006s': [(7, 'MultinomialNB'), (7, 'MultinomialNB')],\n",
              " '007': [(8, 'MultinomialNB'), (8, 'MultinomialNB')],\n",
              " '007s': [(9, 'MultinomialNB'), (9, 'MultinomialNB')],\n",
              " '008s': [(10, 'MultinomialNB'), (10, 'MultinomialNB')],\n",
              " '2016': [(1, 'PassiveAggressiveClassifier'),\n",
              "  (1, 'LinearSVC'),\n",
              "  (2, 'SGDClassifier')],\n",
              " 'advertisement': [(10, 'LinearSVC')],\n",
              " 'article': [(5, 'PassiveAggressiveClassifier'),\n",
              "  (4, 'LinearSVC'),\n",
              "  (4, 'SGDClassifier')],\n",
              " 'election': [(7, 'LinearSVC'), (8, 'SGDClassifier')],\n",
              " 'email': [(10, 'PassiveAggressiveClassifier'), (10, 'SGDClassifier')],\n",
              " 'hillary': [(3, 'PassiveAggressiveClassifier'),\n",
              "  (2, 'LinearSVC'),\n",
              "  (1, 'SGDClassifier')],\n",
              " 'mosul': [(9, 'PassiveAggressiveClassifier')],\n",
              " 'november': [(6, 'PassiveAggressiveClassifier'),\n",
              "  (5, 'LinearSVC'),\n",
              "  (5, 'SGDClassifier')],\n",
              " 'oct': [(7, 'PassiveAggressiveClassifier')],\n",
              " 'october': [(2, 'PassiveAggressiveClassifier'),\n",
              "  (3, 'LinearSVC'),\n",
              "  (3, 'SGDClassifier')],\n",
              " 'print': [(8, 'PassiveAggressiveClassifier'),\n",
              "  (8, 'LinearSVC'),\n",
              "  (7, 'SGDClassifier')],\n",
              " 'share': [(4, 'PassiveAggressiveClassifier'),\n",
              "  (6, 'LinearSVC'),\n",
              "  (6, 'SGDClassifier')],\n",
              " 'war': [(9, 'LinearSVC'), (9, 'SGDClassifier')]}"
            ]
          },
          "metadata": {
            "tags": []
          },
          "execution_count": 33
        }
      ]
    },
    {
      "cell_type": "markdown",
      "metadata": {
        "id": "pBKLqcy4Uay4",
        "colab_type": "text"
      },
      "source": [
        "I immediately noticed the multinomial models had picked up quite a bit of noise from the dataset. These models likely would have benefit from some preprocessing. I also noticed that most of the models had picked up what I would consider noise, such as 2016 and the words print and share (which are clearly scraping artifacts).\n",
        "\n",
        "Let's see if we can score the tokens by popularity and rank. I also wanted to add in a warning message in case I had overlap between my real and fake tokens. (This may be the case if you take a larger n-features from each)"
      ]
    },
    {
      "cell_type": "code",
      "metadata": {
        "id": "iztyDcU2UVrU",
        "colab_type": "code",
        "colab": {}
      },
      "source": [
        "agg_results = {}\n",
        "for label, features in comparable_results.items():\n",
        "    for feature, ranks in features.items():\n",
        "        if feature in agg_results:\n",
        "            print(\"WARNING! DUPLICATE LABEL!!! {}\".format(feature))\n",
        "        agg_results[feature] = {\n",
        "            'label': label,\n",
        "            'agg_rank': np.mean([r[0] for r in ranks]),\n",
        "            'count': len(ranks)\n",
        "        }"
      ],
      "execution_count": 0,
      "outputs": []
    },
    {
      "cell_type": "markdown",
      "metadata": {
        "id": "TJNqJ4bFUh7W",
        "colab_type": "text"
      },
      "source": [
        "**I can then put this into a dataframe, for easier transformations and viewing.**"
      ]
    },
    {
      "cell_type": "code",
      "metadata": {
        "id": "7llJaWayUfnJ",
        "colab_type": "code",
        "outputId": "458d9645-be4a-46de-a618-e046485080a8",
        "colab": {
          "base_uri": "https://localhost:8080/",
          "height": 204
        }
      },
      "source": [
        "comparison_df = pd.DataFrame(agg_results).T\n",
        "comparison_df.head()"
      ],
      "execution_count": 0,
      "outputs": [
        {
          "output_type": "execute_result",
          "data": {
            "text/html": [
              "<div>\n",
              "<style scoped>\n",
              "    .dataframe tbody tr th:only-of-type {\n",
              "        vertical-align: middle;\n",
              "    }\n",
              "\n",
              "    .dataframe tbody tr th {\n",
              "        vertical-align: top;\n",
              "    }\n",
              "\n",
              "    .dataframe thead th {\n",
              "        text-align: right;\n",
              "    }\n",
              "</style>\n",
              "<table border=\"1\" class=\"dataframe\">\n",
              "  <thead>\n",
              "    <tr style=\"text-align: right;\">\n",
              "      <th></th>\n",
              "      <th>label</th>\n",
              "      <th>agg_rank</th>\n",
              "      <th>count</th>\n",
              "    </tr>\n",
              "  </thead>\n",
              "  <tbody>\n",
              "    <tr>\n",
              "      <th>republican</th>\n",
              "      <td>REAL</td>\n",
              "      <td>2</td>\n",
              "      <td>2</td>\n",
              "    </tr>\n",
              "    <tr>\n",
              "      <th>campaign</th>\n",
              "      <td>REAL</td>\n",
              "      <td>3</td>\n",
              "      <td>2</td>\n",
              "    </tr>\n",
              "    <tr>\n",
              "      <th>new</th>\n",
              "      <td>REAL</td>\n",
              "      <td>3</td>\n",
              "      <td>1</td>\n",
              "    </tr>\n",
              "    <tr>\n",
              "      <th>state</th>\n",
              "      <td>REAL</td>\n",
              "      <td>3</td>\n",
              "      <td>2</td>\n",
              "    </tr>\n",
              "    <tr>\n",
              "      <th>obama</th>\n",
              "      <td>REAL</td>\n",
              "      <td>6</td>\n",
              "      <td>2</td>\n",
              "    </tr>\n",
              "  </tbody>\n",
              "</table>\n",
              "</div>"
            ],
            "text/plain": [
              "           label agg_rank count\n",
              "republican  REAL        2     2\n",
              "campaign    REAL        3     2\n",
              "new         REAL        3     1\n",
              "state       REAL        3     2\n",
              "obama       REAL        6     2"
            ]
          },
          "metadata": {
            "tags": []
          },
          "execution_count": 35
        }
      ]
    },
    {
      "cell_type": "markdown",
      "metadata": {
        "id": "aSJqqFljUuGC",
        "colab_type": "text"
      },
      "source": [
        "\n",
        "To investigate the top real and fake labels, I would advise to sort by count. Let's see my top 10 tokens for real and fake news ranked by the number of classifiers that used them as a top feature."
      ]
    },
    {
      "cell_type": "code",
      "metadata": {
        "id": "1N6I8xdgUpYq",
        "colab_type": "code",
        "outputId": "ec3e1585-a7a3-4c34-bd5b-d7b84759d649",
        "colab": {
          "base_uri": "https://localhost:8080/",
          "height": 359
        }
      },
      "source": [
        "comparison_df[comparison_df['label'] == 'REAL'].sort_values('count', ascending=0).head(10)"
      ],
      "execution_count": 0,
      "outputs": [
        {
          "output_type": "execute_result",
          "data": {
            "text/html": [
              "<div>\n",
              "<style scoped>\n",
              "    .dataframe tbody tr th:only-of-type {\n",
              "        vertical-align: middle;\n",
              "    }\n",
              "\n",
              "    .dataframe tbody tr th {\n",
              "        vertical-align: top;\n",
              "    }\n",
              "\n",
              "    .dataframe thead th {\n",
              "        text-align: right;\n",
              "    }\n",
              "</style>\n",
              "<table border=\"1\" class=\"dataframe\">\n",
              "  <thead>\n",
              "    <tr style=\"text-align: right;\">\n",
              "      <th></th>\n",
              "      <th>label</th>\n",
              "      <th>agg_rank</th>\n",
              "      <th>count</th>\n",
              "    </tr>\n",
              "  </thead>\n",
              "  <tbody>\n",
              "    <tr>\n",
              "      <th>said</th>\n",
              "      <td>REAL</td>\n",
              "      <td>9.8</td>\n",
              "      <td>5</td>\n",
              "    </tr>\n",
              "    <tr>\n",
              "      <th>tuesday</th>\n",
              "      <td>REAL</td>\n",
              "      <td>8.66667</td>\n",
              "      <td>3</td>\n",
              "    </tr>\n",
              "    <tr>\n",
              "      <th>monday</th>\n",
              "      <td>REAL</td>\n",
              "      <td>3.33333</td>\n",
              "      <td>3</td>\n",
              "    </tr>\n",
              "    <tr>\n",
              "      <th>islamic</th>\n",
              "      <td>REAL</td>\n",
              "      <td>5.66667</td>\n",
              "      <td>3</td>\n",
              "    </tr>\n",
              "    <tr>\n",
              "      <th>conservative</th>\n",
              "      <td>REAL</td>\n",
              "      <td>4</td>\n",
              "      <td>3</td>\n",
              "    </tr>\n",
              "    <tr>\n",
              "      <th>says</th>\n",
              "      <td>REAL</td>\n",
              "      <td>8.33333</td>\n",
              "      <td>3</td>\n",
              "    </tr>\n",
              "    <tr>\n",
              "      <th>cruz</th>\n",
              "      <td>REAL</td>\n",
              "      <td>3.33333</td>\n",
              "      <td>3</td>\n",
              "    </tr>\n",
              "    <tr>\n",
              "      <th>gop</th>\n",
              "      <td>REAL</td>\n",
              "      <td>5.33333</td>\n",
              "      <td>3</td>\n",
              "    </tr>\n",
              "    <tr>\n",
              "      <th>trump</th>\n",
              "      <td>REAL</td>\n",
              "      <td>9.5</td>\n",
              "      <td>2</td>\n",
              "    </tr>\n",
              "    <tr>\n",
              "      <th>clinton</th>\n",
              "      <td>REAL</td>\n",
              "      <td>8</td>\n",
              "      <td>2</td>\n",
              "    </tr>\n",
              "  </tbody>\n",
              "</table>\n",
              "</div>"
            ],
            "text/plain": [
              "             label agg_rank count\n",
              "said          REAL      9.8     5\n",
              "tuesday       REAL  8.66667     3\n",
              "monday        REAL  3.33333     3\n",
              "islamic       REAL  5.66667     3\n",
              "conservative  REAL        4     3\n",
              "says          REAL  8.33333     3\n",
              "cruz          REAL  3.33333     3\n",
              "gop           REAL  5.33333     3\n",
              "trump         REAL      9.5     2\n",
              "clinton       REAL        8     2"
            ]
          },
          "metadata": {
            "tags": []
          },
          "execution_count": 36
        }
      ]
    },
    {
      "cell_type": "code",
      "metadata": {
        "id": "K7w5LTEWUzqA",
        "colab_type": "code",
        "outputId": "d67a2cce-3981-4b1e-e09e-9b965aa80d08",
        "colab": {
          "base_uri": "https://localhost:8080/",
          "height": 359
        }
      },
      "source": [
        "comparison_df[comparison_df['label'] == 'FAKE'].sort_values('count', ascending=0).head(10)"
      ],
      "execution_count": 0,
      "outputs": [
        {
          "output_type": "execute_result",
          "data": {
            "text/html": [
              "<div>\n",
              "<style scoped>\n",
              "    .dataframe tbody tr th:only-of-type {\n",
              "        vertical-align: middle;\n",
              "    }\n",
              "\n",
              "    .dataframe tbody tr th {\n",
              "        vertical-align: top;\n",
              "    }\n",
              "\n",
              "    .dataframe thead th {\n",
              "        text-align: right;\n",
              "    }\n",
              "</style>\n",
              "<table border=\"1\" class=\"dataframe\">\n",
              "  <thead>\n",
              "    <tr style=\"text-align: right;\">\n",
              "      <th></th>\n",
              "      <th>label</th>\n",
              "      <th>agg_rank</th>\n",
              "      <th>count</th>\n",
              "    </tr>\n",
              "  </thead>\n",
              "  <tbody>\n",
              "    <tr>\n",
              "      <th>october</th>\n",
              "      <td>FAKE</td>\n",
              "      <td>2.66667</td>\n",
              "      <td>3</td>\n",
              "    </tr>\n",
              "    <tr>\n",
              "      <th>print</th>\n",
              "      <td>FAKE</td>\n",
              "      <td>7.66667</td>\n",
              "      <td>3</td>\n",
              "    </tr>\n",
              "    <tr>\n",
              "      <th>november</th>\n",
              "      <td>FAKE</td>\n",
              "      <td>5.33333</td>\n",
              "      <td>3</td>\n",
              "    </tr>\n",
              "    <tr>\n",
              "      <th>article</th>\n",
              "      <td>FAKE</td>\n",
              "      <td>4.33333</td>\n",
              "      <td>3</td>\n",
              "    </tr>\n",
              "    <tr>\n",
              "      <th>share</th>\n",
              "      <td>FAKE</td>\n",
              "      <td>5.33333</td>\n",
              "      <td>3</td>\n",
              "    </tr>\n",
              "    <tr>\n",
              "      <th>hillary</th>\n",
              "      <td>FAKE</td>\n",
              "      <td>2</td>\n",
              "      <td>3</td>\n",
              "    </tr>\n",
              "    <tr>\n",
              "      <th>2016</th>\n",
              "      <td>FAKE</td>\n",
              "      <td>1.33333</td>\n",
              "      <td>3</td>\n",
              "    </tr>\n",
              "    <tr>\n",
              "      <th>000035</th>\n",
              "      <td>FAKE</td>\n",
              "      <td>2</td>\n",
              "      <td>2</td>\n",
              "    </tr>\n",
              "    <tr>\n",
              "      <th>war</th>\n",
              "      <td>FAKE</td>\n",
              "      <td>9</td>\n",
              "      <td>2</td>\n",
              "    </tr>\n",
              "    <tr>\n",
              "      <th>election</th>\n",
              "      <td>FAKE</td>\n",
              "      <td>7.5</td>\n",
              "      <td>2</td>\n",
              "    </tr>\n",
              "  </tbody>\n",
              "</table>\n",
              "</div>"
            ],
            "text/plain": [
              "         label agg_rank count\n",
              "october   FAKE  2.66667     3\n",
              "print     FAKE  7.66667     3\n",
              "november  FAKE  5.33333     3\n",
              "article   FAKE  4.33333     3\n",
              "share     FAKE  5.33333     3\n",
              "hillary   FAKE        2     3\n",
              "2016      FAKE  1.33333     3\n",
              "000035    FAKE        2     2\n",
              "war       FAKE        9     2\n",
              "election  FAKE      7.5     2"
            ]
          },
          "metadata": {
            "tags": []
          },
          "execution_count": 37
        }
      ]
    },
    {
      "cell_type": "markdown",
      "metadata": {
        "id": "CLVUE58rVBD8",
        "colab_type": "text"
      },
      "source": [
        "Once I realized the Naive Bayes classifiers had identified many noisy tokens in alphabetical order as top fake news classifiers, I decided to see just how many \"top features\" the model had."
      ]
    },
    {
      "cell_type": "code",
      "metadata": {
        "id": "NN8d2MaJU27h",
        "colab_type": "code",
        "outputId": "cfcb3c61-b80b-4d15-9571-7bf15c5c0bdf",
        "colab": {
          "base_uri": "https://localhost:8080/",
          "height": 34
        }
      },
      "source": [
        "feature_names = count_vectorizer.get_feature_names()\n",
        "for idx, ftr_weight in enumerate(sorted(zip(mn_count_clf.coef_[0], feature_names))):\n",
        "    if ftr_weight[0] <= -16.067750538483136:\n",
        "        continue\n",
        "    print(idx, ftr_weight)\n",
        "    break"
      ],
      "execution_count": 0,
      "outputs": [
        {
          "output_type": "stream",
          "text": [
            "20161 (-13.669855265684765, '00000031')\n"
          ],
          "name": "stdout"
        }
      ]
    },
    {
      "cell_type": "markdown",
      "metadata": {
        "id": "0rV3aObZZpSf",
        "colab_type": "text"
      },
      "source": [
        "## Accuracy comparisions for Algorithms\n",
        "\n",
        "Algorithms || Accuracy \n",
        "-- || --\n",
        "BERT || 0.965\n",
        "Multinomial Naive Bayes with counts  || 0.893\n",
        "Multinomial Naive Bayes with tf-idf  || 0.898\n",
        "Passive aggressive with    || 0.936\n",
        "Linear svc with tf-idf     || 0.936\n",
        "Linear sgd with tf-idf     || 0.938"
      ]
    },
    {
      "cell_type": "markdown",
      "metadata": {
        "id": "oA-rBMIyVE0x",
        "colab_type": "text"
      },
      "source": [
        "## **Conclusion**\n",
        "As expected, the bag-of-words and TF-IDF vectors didn't do much to determine meaningful features to classify fake or real news. This problem is a lot harder than simple text classification.\n",
        "\n",
        "Linear models handle noise in this case better than the Naive Bayes multinomial classifier did. \n",
        "\n",
        "BERT overtakes all the algorithms with highest accuracy of 96%.\n",
        "\n"
      ]
    }
  ]
}